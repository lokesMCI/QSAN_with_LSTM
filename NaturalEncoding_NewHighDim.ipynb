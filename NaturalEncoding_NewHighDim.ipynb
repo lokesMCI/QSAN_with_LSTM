{
 "cells": [
  {
   "cell_type": "code",
   "execution_count": 2,
   "id": "ab478a4d-d494-4164-aa6c-d971232a1f18",
   "metadata": {
    "tags": []
   },
   "outputs": [],
   "source": [
    "import pennylane as qml\n",
    "from pennylane import numpy as np\n",
    "from pennylane.optimize import NesterovMomentumOptimizer"
   ]
  },
  {
   "cell_type": "code",
   "execution_count": 3,
   "id": "34b91328-16c8-4a50-b1f8-c43b2a835aa7",
   "metadata": {
    "tags": []
   },
   "outputs": [],
   "source": [
    "dev = qml.device(\"default.qubit\",wires=8)"
   ]
  },
  {
   "cell_type": "code",
   "execution_count": 4,
   "id": "32fed004-3c19-4970-abef-8a23ca685110",
   "metadata": {
    "tags": []
   },
   "outputs": [],
   "source": [
    "def Ue(x,i):\n",
    "    #print(\"x inside rx\",x)\n",
    "    qml.RX(x,wires=i)\n",
    "    \n",
    "def U1(p1,p2,i,j):\n",
    "    qml.CRX(p1,wires=[i,j])\n",
    "    qml.CRX(p2,wires=[j,i])\n",
    "    \n",
    "def U2(p,c):\n",
    "    for k in range(c):\n",
    "        qml.CRX(p[k],wires=[k,(k+1)%c])"
   ]
  },
  {
   "cell_type": "code",
   "execution_count": 5,
   "id": "c2669aca-de81-4f99-befc-11bf6de1cd22",
   "metadata": {
    "tags": []
   },
   "outputs": [],
   "source": [
    "def layer(layer_weights):\n",
    "    #qml.Hadamard(wires=0)\n",
    "    #qml.Hadamard(wires=1)\n",
    "    for wire in range(4):\n",
    "        qml.RY(layer_weights[wire], wires=[wire])\n",
    "    for i in range(4):\n",
    "        qml.CNOT(wires=[i, (i+1)%4])\n",
    "    #qml.Hadamard(wires=0)\n",
    "    #qml.Hadamard(wires=1)\n",
    "    #print(qml.state())"
   ]
  },
  {
   "cell_type": "code",
   "execution_count": 63,
   "id": "39cb1bdf-ec6e-41a6-94aa-9e0303e12541",
   "metadata": {
    "tags": []
   },
   "outputs": [],
   "source": [
    "def get_angles(x):\n",
    "    beta0 = 2 * np.arcsin(np.sqrt(x[1] ** 2) / np.sqrt(x[0] ** 2 + x[1] ** 2 + 1e-12))\n",
    "    beta1 = 2 * np.arcsin(np.sqrt(x[3] ** 2) / np.sqrt(x[2] ** 2 + x[3] ** 2 + 1e-12))\n",
    "    beta2 = 2 * np.arcsin(np.linalg.norm(x[2:]) / np.linalg.norm(x))\n",
    "\n",
    "    return np.array([beta2, -beta1 / 2, beta1 / 2, -beta0 / 2])\n",
    "\n",
    "    #return x\n",
    "\n",
    "\n",
    "def state_preparation(a):\n",
    "    qml.Hadamard(wires=0)\n",
    "    qml.Hadamard(wires=1)\n",
    "    qml.Hadamard(wires=2)\n",
    "    qml.Hadamard(wires=3)\n",
    "\n",
    "    qml.CNOT(wires=[0, 1])\n",
    "    #qml.RX(a[1], wires=1)\n",
    "    qml.RY(a[1], wires=1)\n",
    "    qml.CNOT(wires=[0, 1])\n",
    "    \n",
    "    qml.CNOT(wires=[1,2])\n",
    "    #qml.RX(a[2], wires=2)\n",
    "    qml.RY(a[2], wires=2)\n",
    "    qml.CNOT(wires=[1,2])\n",
    "    \n",
    "    \n",
    "    #qml.PauliX(wires=0)\n",
    "    \n",
    "    qml.CNOT(wires=[2, 3])\n",
    "    #qml.RX(a[3], wires=3)\n",
    "    qml.RY(a[3], wires=3)\n",
    "    qml.CNOT(wires=[2, 3])\n",
    "    \n",
    "    \n",
    "    qml.CNOT(wires=[3,0])\n",
    "    #qml.RX(a[0], wires=0)\n",
    "    qml.RY(a[0], wires=0)\n",
    "    qml.CNOT(wires=[3,0])\n",
    "    #qml.RY(a[4], wires=1)\n",
    "    #qml.PauliX(wires=0)\n",
    "    \n",
    "    \n",
    "    \n",
    "    "
   ]
  },
  {
   "cell_type": "code",
   "execution_count": 52,
   "id": "c997b2a7-3f28-425a-9c7c-2709283850ef",
   "metadata": {
    "tags": []
   },
   "outputs": [],
   "source": [
    "@qml.qnode(dev)\n",
    "def circuit_final(weights, x):\n",
    "    state_preparation(x)\n",
    "\n",
    "    for layer_weights in weights:\n",
    "        layer(layer_weights)\n",
    "    #\n",
    "    \n",
    "    return qml.expval(qml.PauliZ(0))  #np.array([qml.expval(qml.PauliZ(i)) for i in range(4)]) #qml.expval(qml.PauliZ(0))  #qml.state()"
   ]
  },
  {
   "cell_type": "code",
   "execution_count": 53,
   "id": "815876f0-15a0-4154-81c7-50450e917024",
   "metadata": {},
   "outputs": [],
   "source": [
    "@qml.qnode(dev)\n",
    "def circuit(p, q,k,t):\n",
    "    #state_preparation(x)\n",
    "\n",
    "    #for t in range(4):\n",
    "        # Ue encoding\n",
    "    #print(\"----------\",t)\n",
    "    #print(\"q.shape,k.shape\",q.shape,k.shape)\n",
    "    for n in range(4):\n",
    "        #print(\"q[t', k[n],\",q[t].shape,k[n].shape,q[t],k[n])\n",
    "        Ue( q[t], n*2 )\n",
    "        Ue( k[n], n*2 )\n",
    "        \n",
    "    #print('encoding done')\n",
    "         \n",
    "        # U1 construction\n",
    "    for y in range(2):\n",
    "        U1( p[y*2],p[y*2+1], y*2 , y*2 +1 )\n",
    "            \n",
    "        \n",
    "        # U2 construction    \n",
    "    U2(p[8:16],8)\n",
    "        \n",
    "    #print('first layer done')\n",
    "    #\n",
    "    #print('all layers done')\n",
    "    return qml.expval(qml.PauliZ(0)) #np.array([qml.expval(qml.PauliZ(i)) for i in range(0,32,8)]) #qml.expval(qml.PauliZ(0))  #qml.state()\n",
    "    #return np.array([qml.expval(qml.PauliZ(i)) for i in range(0,8,2)]) "
   ]
  },
  {
   "cell_type": "code",
   "execution_count": 54,
   "id": "db4eff32-5a94-4be6-b3e8-c3a91d4ec037",
   "metadata": {},
   "outputs": [],
   "source": [
    "@qml.qnode(dev)\n",
    "def circuit_compressed(p, q,k,t):\n",
    "    #state_preparation(x)\n",
    "\n",
    "    #for t in range(4):\n",
    "        # Ue encoding\n",
    "    #print(\"----------\",t)\n",
    "    #print(\"q.shape,k.shape\",q.shape,k.shape)\n",
    "    for n in range(4):\n",
    "        #print(\"q[t', k[n],\",q[t].shape,k[n].shape,q[t],k[n])\n",
    "        Ue( q[t], n )\n",
    "        Ue( k[n], n )\n",
    "        \n",
    "    #print('encoding done')\n",
    "         \n",
    "        # U1 construction\n",
    "    for y in range(4-1):\n",
    "        U1( p[y*2],p[y*2+1], y , y +1 )\n",
    "            \n",
    "        \n",
    "        # U2 construction    \n",
    "    U2(p[8:16],4)\n",
    "        \n",
    "    #print('first layer done')\n",
    "    #\n",
    "    #print('all layers done')\n",
    "    return qml.expval(qml.PauliZ(0)) #np.array([qml.expval(qml.PauliZ(i)) for i in range(0,32,8)]) #qml.expval(qml.PauliZ(0))  #qml.state()\n",
    "    #return np.array([qml.expval(qml.PauliZ(i)) for i in range(0,8,2)]) "
   ]
  },
  {
   "cell_type": "code",
   "execution_count": 55,
   "id": "135e6978-f024-43d4-a705-e19ccd9d2bd4",
   "metadata": {
    "tags": []
   },
   "outputs": [],
   "source": [
    "def variational_classifier(params, bias, x):\n",
    "    #qml.drawer.use_style('black_white')\n",
    "    #fig, ax = qml.draw_mpl(circuit)(weights,x)\n",
    "    #print(weights.shape,bias.shape, x.shape)\n",
    "    res=[]\n",
    "    #print(\"_____________________________________inside variational after cost_______________shape of x\")\n",
    "    #print(x.shape)\n",
    "    for i in range(4):\n",
    "        res.append(circuit_compressed(params[i], x,x,i) + bias)\n",
    "        #print(i,res)\n",
    "    return circuit_final(params[4:],res)\n",
    "    #return np.array(res)[0]\n",
    "    "
   ]
  },
  {
   "cell_type": "code",
   "execution_count": 56,
   "id": "dfd3f060-88cc-4b92-871b-2e87eb626eba",
   "metadata": {
    "tags": []
   },
   "outputs": [],
   "source": [
    "def square_loss(labels, predictions):\n",
    "    # We use a call to qml.math.stack to allow subtracting the arrays directly\n",
    "    return np.mean((labels - qml.math.stack(predictions)) ** 2)"
   ]
  },
  {
   "cell_type": "code",
   "execution_count": 57,
   "id": "103bfd8c-28b7-404b-8db0-111abfa4d1be",
   "metadata": {
    "tags": []
   },
   "outputs": [],
   "source": [
    "def accuracy(labels, predictions):\n",
    "    acc = sum(abs(l - p) < 1e-5 for l, p in zip(labels, predictions))\n",
    "    acc = acc / len(labels)\n",
    "    return acc"
   ]
  },
  {
   "cell_type": "code",
   "execution_count": 58,
   "id": "d397ee1e-29b8-410e-973d-81c2170d3492",
   "metadata": {
    "tags": []
   },
   "outputs": [],
   "source": [
    "def cost(weights, bias, X, Y):\n",
    "    # Transpose the batch of input data in order to make the indexing\n",
    "    # in state_preparation work\n",
    "    #print('before cost')\n",
    "    predictions = [variational_classifier(weights, bias, i.T) for i in X]\n",
    "    #if predictions.shape[-1]<10:\n",
    "        #print(\"v\",predictions)\n",
    "    #print('after cost____square loss error')\n",
    "    \n",
    "    return square_loss(Y, predictions)"
   ]
  },
  {
   "cell_type": "code",
   "execution_count": 59,
   "id": "49c6ed0f-8a3f-412b-ad3c-4245466b35e6",
   "metadata": {
    "tags": []
   },
   "outputs": [],
   "source": [
    "#pip install scikit-learn"
   ]
  },
  {
   "cell_type": "code",
   "execution_count": null,
   "id": "e9941a1a-ec4b-4198-a0d9-2f15ec5ef6fb",
   "metadata": {
    "tags": []
   },
   "outputs": [],
   "source": []
  },
  {
   "cell_type": "markdown",
   "id": "5a51066b",
   "metadata": {},
   "source": [
    "# Forex - Finance Sequential analysis Dataset"
   ]
  },
  {
   "cell_type": "code",
   "execution_count": 143,
   "id": "a5e00798",
   "metadata": {},
   "outputs": [],
   "source": [
    "#pip install yfinance"
   ]
  },
  {
   "cell_type": "code",
   "execution_count": 144,
   "id": "219c68f5",
   "metadata": {},
   "outputs": [],
   "source": [
    "#pip install pandas numpy alpha-vantage\n"
   ]
  },
  {
   "cell_type": "code",
   "execution_count": 162,
   "id": "9aa2d22e",
   "metadata": {},
   "outputs": [
    {
     "ename": "ValueError",
     "evalue": "Thank you for using Alpha Vantage! This is a premium endpoint. You may subscribe to any of the premium plans at https://www.alphavantage.co/premium/ to instantly unlock all premium endpoints",
     "output_type": "error",
     "traceback": [
      "\u001b[1;31m---------------------------------------------------------------------------\u001b[0m",
      "\u001b[1;31mValueError\u001b[0m                                Traceback (most recent call last)",
      "Cell \u001b[1;32mIn[162], line 11\u001b[0m\n\u001b[0;32m      7\u001b[0m fx \u001b[38;5;241m=\u001b[39m ForeignExchange(key\u001b[38;5;241m=\u001b[39mapi_key)\n\u001b[0;32m      9\u001b[0m \u001b[38;5;66;03m# Download historical Forex data for EUR/USD\u001b[39;00m\n\u001b[0;32m     10\u001b[0m \u001b[38;5;66;03m# 'from_symbol' is the base currency, and 'to_symbol' is the quote currency\u001b[39;00m\n\u001b[1;32m---> 11\u001b[0m data, _ \u001b[38;5;241m=\u001b[39m \u001b[43mfx\u001b[49m\u001b[38;5;241;43m.\u001b[39;49m\u001b[43mget_currency_exchange_intraday\u001b[49m\u001b[43m(\u001b[49m\u001b[43mfrom_symbol\u001b[49m\u001b[38;5;241;43m=\u001b[39;49m\u001b[38;5;124;43m'\u001b[39;49m\u001b[38;5;124;43mEUR\u001b[39;49m\u001b[38;5;124;43m'\u001b[39;49m\u001b[43m,\u001b[49m\u001b[43m \u001b[49m\u001b[43mto_symbol\u001b[49m\u001b[38;5;241;43m=\u001b[39;49m\u001b[38;5;124;43m'\u001b[39;49m\u001b[38;5;124;43mUSD\u001b[39;49m\u001b[38;5;124;43m'\u001b[39;49m\u001b[43m,\u001b[49m\u001b[43m \u001b[49m\u001b[43minterval\u001b[49m\u001b[38;5;241;43m=\u001b[39;49m\u001b[38;5;124;43m'\u001b[39;49m\u001b[38;5;124;43m15min\u001b[39;49m\u001b[38;5;124;43m'\u001b[39;49m\u001b[43m,\u001b[49m\u001b[43m \u001b[49m\u001b[43moutputsize\u001b[49m\u001b[38;5;241;43m=\u001b[39;49m\u001b[38;5;124;43m'\u001b[39;49m\u001b[38;5;124;43mfull\u001b[39;49m\u001b[38;5;124;43m'\u001b[39;49m\u001b[43m)\u001b[49m\n\u001b[0;32m     13\u001b[0m \u001b[38;5;66;03m# Convert data to DataFrame\u001b[39;00m\n\u001b[0;32m     14\u001b[0m df \u001b[38;5;241m=\u001b[39m pd\u001b[38;5;241m.\u001b[39mDataFrame(data)\u001b[38;5;241m.\u001b[39mT\n",
      "File \u001b[1;32me:\\Anaconda\\envs\\quantum\\Lib\\site-packages\\alpha_vantage\\alphavantage.py:218\u001b[0m, in \u001b[0;36mAlphaVantage._output_format.<locals>._format_wrapper\u001b[1;34m(self, *args, **kwargs)\u001b[0m\n\u001b[0;32m    216\u001b[0m \u001b[38;5;129m@wraps\u001b[39m(func)\n\u001b[0;32m    217\u001b[0m \u001b[38;5;28;01mdef\u001b[39;00m \u001b[38;5;21m_format_wrapper\u001b[39m(\u001b[38;5;28mself\u001b[39m, \u001b[38;5;241m*\u001b[39margs, \u001b[38;5;241m*\u001b[39m\u001b[38;5;241m*\u001b[39mkwargs):\n\u001b[1;32m--> 218\u001b[0m     call_response, data_key, meta_data_key \u001b[38;5;241m=\u001b[39m \u001b[43mfunc\u001b[49m\u001b[43m(\u001b[49m\n\u001b[0;32m    219\u001b[0m \u001b[43m        \u001b[49m\u001b[38;5;28;43mself\u001b[39;49m\u001b[43m,\u001b[49m\u001b[43m \u001b[49m\u001b[38;5;241;43m*\u001b[39;49m\u001b[43margs\u001b[49m\u001b[43m,\u001b[49m\u001b[43m \u001b[49m\u001b[38;5;241;43m*\u001b[39;49m\u001b[38;5;241;43m*\u001b[39;49m\u001b[43mkwargs\u001b[49m\u001b[43m)\u001b[49m\n\u001b[0;32m    220\u001b[0m     \u001b[38;5;28;01mif\u001b[39;00m \u001b[38;5;124m'\u001b[39m\u001b[38;5;124mjson\u001b[39m\u001b[38;5;124m'\u001b[39m \u001b[38;5;129;01min\u001b[39;00m \u001b[38;5;28mself\u001b[39m\u001b[38;5;241m.\u001b[39moutput_format\u001b[38;5;241m.\u001b[39mlower() \u001b[38;5;129;01mor\u001b[39;00m \u001b[38;5;124m'\u001b[39m\u001b[38;5;124mpandas\u001b[39m\u001b[38;5;124m'\u001b[39m \\\n\u001b[0;32m    221\u001b[0m             \u001b[38;5;129;01min\u001b[39;00m \u001b[38;5;28mself\u001b[39m\u001b[38;5;241m.\u001b[39moutput_format\u001b[38;5;241m.\u001b[39mlower():\n\u001b[0;32m    222\u001b[0m         \u001b[38;5;28;01mif\u001b[39;00m data_key \u001b[38;5;129;01mis\u001b[39;00m \u001b[38;5;129;01mnot\u001b[39;00m \u001b[38;5;28;01mNone\u001b[39;00m:\n",
      "File \u001b[1;32me:\\Anaconda\\envs\\quantum\\Lib\\site-packages\\alpha_vantage\\alphavantage.py:160\u001b[0m, in \u001b[0;36mAlphaVantage._call_api_on_func.<locals>._call_wrapper\u001b[1;34m(self, *args, **kwargs)\u001b[0m\n\u001b[0;32m    158\u001b[0m \u001b[38;5;28;01melse\u001b[39;00m:\n\u001b[0;32m    159\u001b[0m     url \u001b[38;5;241m=\u001b[39m \u001b[38;5;124m'\u001b[39m\u001b[38;5;132;01m{}\u001b[39;00m\u001b[38;5;132;01m{}\u001b[39;00m\u001b[38;5;124m'\u001b[39m\u001b[38;5;241m.\u001b[39mformat(url, apikey_parameter)\n\u001b[1;32m--> 160\u001b[0m \u001b[38;5;28;01mreturn\u001b[39;00m \u001b[38;5;28;43mself\u001b[39;49m\u001b[38;5;241;43m.\u001b[39;49m\u001b[43m_handle_api_call\u001b[49m\u001b[43m(\u001b[49m\u001b[43murl\u001b[49m\u001b[43m)\u001b[49m, data_key, meta_data_key\n",
      "File \u001b[1;32me:\\Anaconda\\envs\\quantum\\Lib\\site-packages\\alpha_vantage\\alphavantage.py:361\u001b[0m, in \u001b[0;36mAlphaVantage._handle_api_call\u001b[1;34m(self, url)\u001b[0m\n\u001b[0;32m    359\u001b[0m     \u001b[38;5;28;01mraise\u001b[39;00m \u001b[38;5;167;01mValueError\u001b[39;00m(json_response[\u001b[38;5;124m\"\u001b[39m\u001b[38;5;124mError Message\u001b[39m\u001b[38;5;124m\"\u001b[39m])\n\u001b[0;32m    360\u001b[0m \u001b[38;5;28;01melif\u001b[39;00m \u001b[38;5;124m\"\u001b[39m\u001b[38;5;124mInformation\u001b[39m\u001b[38;5;124m\"\u001b[39m \u001b[38;5;129;01min\u001b[39;00m json_response \u001b[38;5;129;01mand\u001b[39;00m \u001b[38;5;28mself\u001b[39m\u001b[38;5;241m.\u001b[39mtreat_info_as_error:\n\u001b[1;32m--> 361\u001b[0m     \u001b[38;5;28;01mraise\u001b[39;00m \u001b[38;5;167;01mValueError\u001b[39;00m(json_response[\u001b[38;5;124m\"\u001b[39m\u001b[38;5;124mInformation\u001b[39m\u001b[38;5;124m\"\u001b[39m])\n\u001b[0;32m    362\u001b[0m \u001b[38;5;28;01melif\u001b[39;00m \u001b[38;5;124m\"\u001b[39m\u001b[38;5;124mNote\u001b[39m\u001b[38;5;124m\"\u001b[39m \u001b[38;5;129;01min\u001b[39;00m json_response \u001b[38;5;129;01mand\u001b[39;00m \u001b[38;5;28mself\u001b[39m\u001b[38;5;241m.\u001b[39mtreat_info_as_error:\n\u001b[0;32m    363\u001b[0m     \u001b[38;5;28;01mraise\u001b[39;00m \u001b[38;5;167;01mValueError\u001b[39;00m(json_response[\u001b[38;5;124m\"\u001b[39m\u001b[38;5;124mNote\u001b[39m\u001b[38;5;124m\"\u001b[39m])\n",
      "\u001b[1;31mValueError\u001b[0m: Thank you for using Alpha Vantage! This is a premium endpoint. You may subscribe to any of the premium plans at https://www.alphavantage.co/premium/ to instantly unlock all premium endpoints"
     ]
    }
   ],
   "source": [
    "import pandas as pd\n",
    "import numpy as np\n",
    "from alpha_vantage.foreignexchange import ForeignExchange\n",
    "\n",
    "# Initialize Alpha Vantage API client\n",
    "api_key = '2VQY9EELOTF1JBZN'  # Replace with your Alpha Vantage API key\n",
    "fx = ForeignExchange(key=api_key)\n",
    "\n",
    "# Download historical Forex data for EUR/USD\n",
    "# 'from_symbol' is the base currency, and 'to_symbol' is the quote currency\n",
    "data, _ = fx.get_currency_exchange_intraday(from_symbol='EUR', to_symbol='USD', interval='15min', outputsize='full')\n",
    "\n",
    "# Convert data to DataFrame\n",
    "df = pd.DataFrame(data).T\n",
    "df.columns = ['open', 'high', 'low', 'close']\n",
    "df.index = pd.to_datetime(df.index)\n",
    "\n",
    "# Step 4: Feature Selection and Preprocessing\n",
    "\n",
    "# Select only 4 features to mimic the structure of the Iris dataset\n",
    "# Here we choose open, high, low, and close prices\n",
    "df = df[['open', 'high', 'low', 'close']].astype(float)\n",
    "\n",
    "# Normalize features (e.g., using Min-Max Scaling)\n",
    "df = (df - df.min()) / (df.max() - df.min())\n",
    "\n",
    "# Generate labels for classification (e.g., if the next close price is higher or lower)\n",
    "df['target'] = np.where(df['close'].shift(-1) > df['close'], 1, -1)  # 1 for upward movement, 0 for downward\n",
    "\n",
    "# Drop NaN values caused by the shift operation\n",
    "df = df.dropna()\n",
    "\n",
    "# Display the first few rows of the preprocessed dataset\n",
    "print(df.head())\n",
    "\n",
    "# The dataset now has 4 features (open, high, low, close) and a binary target for classification\n"
   ]
  },
  {
   "cell_type": "code",
   "execution_count": 217,
   "id": "b5de01ca",
   "metadata": {},
   "outputs": [
    {
     "name": "stderr",
     "output_type": "stream",
     "text": [
      "[*********************100%%**********************]  1 of 1 completed\n"
     ]
    },
    {
     "name": "stdout",
     "output_type": "stream",
     "text": [
      "                               Open      High       Low     Close  target\n",
      "Datetime                                                                 \n",
      "2023-01-02 00:00:00+00:00  0.305668  0.299488  0.307122  0.315133    -1.0\n",
      "2023-01-02 01:00:00+00:00  0.317054  0.300907  0.309980  0.312289    -1.0\n",
      "2023-01-02 02:00:00+00:00  0.309934  0.290982  0.304264  0.309447     1.0\n",
      "2023-01-02 03:00:00+00:00  0.311359  0.296652  0.309980  0.315133    -1.0\n",
      "2023-01-02 04:00:00+00:00  0.314206  0.299488  0.307122  0.305187    -1.0\n"
     ]
    }
   ],
   "source": [
    "import yfinance as yf\n",
    "import pandas as pd\n",
    "from pennylane import numpy as np\n",
    "\n",
    "# Step 1: Download Forex Data using Yahoo Finance\n",
    "# Fetch historical Forex data for EUR/USD (Euro to US Dollar)\n",
    "data = yf.download('EURUSD=X', interval='1h', start='2023-01-01', end='2023-12-31')\n",
    "\n",
    "# Step 2: Preprocess the Data\n",
    "# Select only 4 features (Open, High, Low, Close)\n",
    "df = data[['Open', 'High', 'Low', 'Close']]\n",
    "\n",
    "# Step 3: Normalize the features using Min-Max Scaling\n",
    "df = (df - df.min()) / (df.max() - df.min())\n",
    "\n",
    "# Step 4: Generate target labels for classification\n",
    "# Example: Predict whether the next close price is higher (1) or lower (0)\n",
    "df['target'] = np.where(df['Close'].shift(-1) > df['Close'], 1.0, -1.0)\n",
    "\n",
    "# Remove any NaN values caused by the shift operation\n",
    "df = df.dropna()\n",
    "\n",
    "# Display the first few rows of the preprocessed dataset\n",
    "print(df.head())\n",
    "\n",
    "# Save the preprocessed data to a CSV file\n",
    "df.to_csv('preprocessed_forex_data.csv', index=True)\n"
   ]
  },
  {
   "cell_type": "code",
   "execution_count": 94,
   "id": "679ce431",
   "metadata": {},
   "outputs": [
    {
     "name": "stderr",
     "output_type": "stream",
     "text": [
      "[*********************100%%**********************]  1 of 1 completed"
     ]
    },
    {
     "name": "stdout",
     "output_type": "stream",
     "text": [
      "Label Distribution:\n",
      "target\n",
      "1.0    251\n",
      "0.0    241\n",
      "Name: count, dtype: int64\n",
      "\n",
      "Label Percentage Distribution:\n",
      "target\n",
      "1.0    51.01626\n",
      "0.0    48.98374\n",
      "Name: proportion, dtype: float64\n"
     ]
    },
    {
     "name": "stderr",
     "output_type": "stream",
     "text": [
      "\n",
      "C:\\Users\\Lokes S\\AppData\\Local\\Temp\\ipykernel_20016\\3973041439.py:24: SettingWithCopyWarning: \n",
      "A value is trying to be set on a copy of a slice from a DataFrame.\n",
      "Try using .loc[row_indexer,col_indexer] = value instead\n",
      "\n",
      "See the caveats in the documentation: https://pandas.pydata.org/pandas-docs/stable/user_guide/indexing.html#returning-a-view-versus-a-copy\n",
      "  df[['Close', '5-day MA', '10-day MA', 'Daily Return']] = scaler.fit_transform(df[['Close', '5-day MA', '10-day MA', 'Daily Return']])\n",
      "C:\\Users\\Lokes S\\AppData\\Local\\Temp\\ipykernel_20016\\3973041439.py:28: SettingWithCopyWarning: \n",
      "A value is trying to be set on a copy of a slice from a DataFrame.\n",
      "Try using .loc[row_indexer,col_indexer] = value instead\n",
      "\n",
      "See the caveats in the documentation: https://pandas.pydata.org/pandas-docs/stable/user_guide/indexing.html#returning-a-view-versus-a-copy\n",
      "  df['target'] = np.where(df['Close'].shift(-1) > df['Close'], 1.0, 0.0)\n"
     ]
    }
   ],
   "source": [
    "import yfinance as yf\n",
    "import pandas as pd\n",
    "from pennylane import numpy as np\n",
    "from sklearn.preprocessing import StandardScaler\n",
    "\n",
    "# Step 1: Download Stock Price Data using Yahoo Finance\n",
    "# Fetch historical data for an S&P 500 company (e.g., Apple Inc.)\n",
    "data = yf.download('AAPL', interval='1d', start='2022-01-01', end='2023-12-31')\n",
    "\n",
    "# Step 2: Create Sequential Features\n",
    "# Compute moving averages (e.g., 5-day and 10-day) and daily returns\n",
    "data['5-day MA'] = data['Close'].rolling(window=5).mean()\n",
    "data['10-day MA'] = data['Close'].rolling(window=10).mean()\n",
    "data['Daily Return'] = data['Close'].pct_change()\n",
    "\n",
    "# Drop NaN values that are a result of rolling operations\n",
    "data = data.dropna()\n",
    "\n",
    "# Step 3: Select 4 Sequential Features (Close, 5-day MA, 10-day MA, Daily Return)\n",
    "df = data[['Close', '5-day MA', '10-day MA', 'Daily Return']]\n",
    "\n",
    "# Step 4: Normalize the features using StandardScaler\n",
    "scaler = StandardScaler()\n",
    "df[['Close', '5-day MA', '10-day MA', 'Daily Return']] = scaler.fit_transform(df[['Close', '5-day MA', '10-day MA', 'Daily Return']])\n",
    "\n",
    "# Step 5: Generate Target Labels for Classification\n",
    "# Example: Predict whether the next day's close price is higher (1.0) or lower (0.0)\n",
    "df['target'] = np.where(df['Close'].shift(-1) > df['Close'], 1.0, 0.0)\n",
    "\n",
    "# Remove NaN values caused by the shift operation\n",
    "df = df.dropna()\n",
    "\n",
    "# Print Label Distribution\n",
    "label_distribution = df['target'].value_counts()\n",
    "print(\"Label Distribution:\")\n",
    "print(label_distribution)\n",
    "\n",
    "label_percentage = df['target'].value_counts(normalize=True) * 100\n",
    "print(\"\\nLabel Percentage Distribution:\")\n",
    "print(label_percentage)\n",
    "\n",
    "# Save the preprocessed data to a CSV file\n",
    "df.to_csv('sequential_stock_data.csv', index=True)\n"
   ]
  },
  {
   "cell_type": "code",
   "execution_count": 147,
   "id": "6eaf3165",
   "metadata": {},
   "outputs": [
    {
     "ename": "KeyError",
     "evalue": "\"None of [Index(['Close', '5-day MA', '10-day MA', 'Daily Return'], dtype='object')] are in the [columns]\"",
     "output_type": "error",
     "traceback": [
      "\u001b[1;31m---------------------------------------------------------------------------\u001b[0m",
      "\u001b[1;31mKeyError\u001b[0m                                  Traceback (most recent call last)",
      "Cell \u001b[1;32mIn[147], line 1\u001b[0m\n\u001b[1;32m----> 1\u001b[0m X \u001b[38;5;241m=\u001b[39m np\u001b[38;5;241m.\u001b[39marray(\u001b[43mdf\u001b[49m\u001b[43m[\u001b[49m\u001b[43m[\u001b[49m\u001b[38;5;124;43m'\u001b[39;49m\u001b[38;5;124;43mClose\u001b[39;49m\u001b[38;5;124;43m'\u001b[39;49m\u001b[43m,\u001b[49m\u001b[43m \u001b[49m\u001b[38;5;124;43m'\u001b[39;49m\u001b[38;5;124;43m5-day MA\u001b[39;49m\u001b[38;5;124;43m'\u001b[39;49m\u001b[43m,\u001b[49m\u001b[43m \u001b[49m\u001b[38;5;124;43m'\u001b[39;49m\u001b[38;5;124;43m10-day MA\u001b[39;49m\u001b[38;5;124;43m'\u001b[39;49m\u001b[43m,\u001b[49m\u001b[43m \u001b[49m\u001b[38;5;124;43m'\u001b[39;49m\u001b[38;5;124;43mDaily Return\u001b[39;49m\u001b[38;5;124;43m'\u001b[39;49m\u001b[43m]\u001b[49m\u001b[43m]\u001b[49m)\n\u001b[0;32m      2\u001b[0m \u001b[38;5;28mprint\u001b[39m(\u001b[38;5;124mf\u001b[39m\u001b[38;5;124m\"\u001b[39m\u001b[38;5;124mFirst X sample (original)  : \u001b[39m\u001b[38;5;132;01m{\u001b[39;00mX[\u001b[38;5;241m0\u001b[39m]\u001b[38;5;132;01m}\u001b[39;00m\u001b[38;5;124m\"\u001b[39m)\n",
      "File \u001b[1;32me:\\Anaconda\\envs\\quantum\\Lib\\site-packages\\pandas\\core\\frame.py:4108\u001b[0m, in \u001b[0;36mDataFrame.__getitem__\u001b[1;34m(self, key)\u001b[0m\n\u001b[0;32m   4106\u001b[0m     \u001b[38;5;28;01mif\u001b[39;00m is_iterator(key):\n\u001b[0;32m   4107\u001b[0m         key \u001b[38;5;241m=\u001b[39m \u001b[38;5;28mlist\u001b[39m(key)\n\u001b[1;32m-> 4108\u001b[0m     indexer \u001b[38;5;241m=\u001b[39m \u001b[38;5;28;43mself\u001b[39;49m\u001b[38;5;241;43m.\u001b[39;49m\u001b[43mcolumns\u001b[49m\u001b[38;5;241;43m.\u001b[39;49m\u001b[43m_get_indexer_strict\u001b[49m\u001b[43m(\u001b[49m\u001b[43mkey\u001b[49m\u001b[43m,\u001b[49m\u001b[43m \u001b[49m\u001b[38;5;124;43m\"\u001b[39;49m\u001b[38;5;124;43mcolumns\u001b[39;49m\u001b[38;5;124;43m\"\u001b[39;49m\u001b[43m)\u001b[49m[\u001b[38;5;241m1\u001b[39m]\n\u001b[0;32m   4110\u001b[0m \u001b[38;5;66;03m# take() does not accept boolean indexers\u001b[39;00m\n\u001b[0;32m   4111\u001b[0m \u001b[38;5;28;01mif\u001b[39;00m \u001b[38;5;28mgetattr\u001b[39m(indexer, \u001b[38;5;124m\"\u001b[39m\u001b[38;5;124mdtype\u001b[39m\u001b[38;5;124m\"\u001b[39m, \u001b[38;5;28;01mNone\u001b[39;00m) \u001b[38;5;241m==\u001b[39m \u001b[38;5;28mbool\u001b[39m:\n",
      "File \u001b[1;32me:\\Anaconda\\envs\\quantum\\Lib\\site-packages\\pandas\\core\\indexes\\base.py:6200\u001b[0m, in \u001b[0;36mIndex._get_indexer_strict\u001b[1;34m(self, key, axis_name)\u001b[0m\n\u001b[0;32m   6197\u001b[0m \u001b[38;5;28;01melse\u001b[39;00m:\n\u001b[0;32m   6198\u001b[0m     keyarr, indexer, new_indexer \u001b[38;5;241m=\u001b[39m \u001b[38;5;28mself\u001b[39m\u001b[38;5;241m.\u001b[39m_reindex_non_unique(keyarr)\n\u001b[1;32m-> 6200\u001b[0m \u001b[38;5;28;43mself\u001b[39;49m\u001b[38;5;241;43m.\u001b[39;49m\u001b[43m_raise_if_missing\u001b[49m\u001b[43m(\u001b[49m\u001b[43mkeyarr\u001b[49m\u001b[43m,\u001b[49m\u001b[43m \u001b[49m\u001b[43mindexer\u001b[49m\u001b[43m,\u001b[49m\u001b[43m \u001b[49m\u001b[43maxis_name\u001b[49m\u001b[43m)\u001b[49m\n\u001b[0;32m   6202\u001b[0m keyarr \u001b[38;5;241m=\u001b[39m \u001b[38;5;28mself\u001b[39m\u001b[38;5;241m.\u001b[39mtake(indexer)\n\u001b[0;32m   6203\u001b[0m \u001b[38;5;28;01mif\u001b[39;00m \u001b[38;5;28misinstance\u001b[39m(key, Index):\n\u001b[0;32m   6204\u001b[0m     \u001b[38;5;66;03m# GH 42790 - Preserve name from an Index\u001b[39;00m\n",
      "File \u001b[1;32me:\\Anaconda\\envs\\quantum\\Lib\\site-packages\\pandas\\core\\indexes\\base.py:6249\u001b[0m, in \u001b[0;36mIndex._raise_if_missing\u001b[1;34m(self, key, indexer, axis_name)\u001b[0m\n\u001b[0;32m   6247\u001b[0m \u001b[38;5;28;01mif\u001b[39;00m nmissing:\n\u001b[0;32m   6248\u001b[0m     \u001b[38;5;28;01mif\u001b[39;00m nmissing \u001b[38;5;241m==\u001b[39m \u001b[38;5;28mlen\u001b[39m(indexer):\n\u001b[1;32m-> 6249\u001b[0m         \u001b[38;5;28;01mraise\u001b[39;00m \u001b[38;5;167;01mKeyError\u001b[39;00m(\u001b[38;5;124mf\u001b[39m\u001b[38;5;124m\"\u001b[39m\u001b[38;5;124mNone of [\u001b[39m\u001b[38;5;132;01m{\u001b[39;00mkey\u001b[38;5;132;01m}\u001b[39;00m\u001b[38;5;124m] are in the [\u001b[39m\u001b[38;5;132;01m{\u001b[39;00maxis_name\u001b[38;5;132;01m}\u001b[39;00m\u001b[38;5;124m]\u001b[39m\u001b[38;5;124m\"\u001b[39m)\n\u001b[0;32m   6251\u001b[0m     not_found \u001b[38;5;241m=\u001b[39m \u001b[38;5;28mlist\u001b[39m(ensure_index(key)[missing_mask\u001b[38;5;241m.\u001b[39mnonzero()[\u001b[38;5;241m0\u001b[39m]]\u001b[38;5;241m.\u001b[39munique())\n\u001b[0;32m   6252\u001b[0m     \u001b[38;5;28;01mraise\u001b[39;00m \u001b[38;5;167;01mKeyError\u001b[39;00m(\u001b[38;5;124mf\u001b[39m\u001b[38;5;124m\"\u001b[39m\u001b[38;5;132;01m{\u001b[39;00mnot_found\u001b[38;5;132;01m}\u001b[39;00m\u001b[38;5;124m not in index\u001b[39m\u001b[38;5;124m\"\u001b[39m)\n",
      "\u001b[1;31mKeyError\u001b[0m: \"None of [Index(['Close', '5-day MA', '10-day MA', 'Daily Return'], dtype='object')] are in the [columns]\""
     ]
    }
   ],
   "source": [
    "X = np.array(df[['Close', '5-day MA', '10-day MA', 'Daily Return']])\n",
    "print(f\"First X sample (original)  : {X[0]}\")"
   ]
  },
  {
   "cell_type": "code",
   "execution_count": 96,
   "id": "86b152bb",
   "metadata": {},
   "outputs": [
    {
     "name": "stdout",
     "output_type": "stream",
     "text": [
      "First X sample (original)  : [0.54039129 0.58416326 0.67468323 0.25709526]\n",
      "First X sample (normalized): [0.5029203  0.5436571  0.62790037 0.23926815]\n",
      "First features sample      : [ 1.4736599  -0.36407354  0.36407354 -0.82430236]\n"
     ]
    }
   ],
   "source": [
    "#data = np.loadtxt(\"iris.txt\")\n",
    "X = np.array(df[['Close', '5-day MA', '10-day MA', 'Daily Return']])\n",
    "print(f\"First X sample (original)  : {X[0]}\")\n",
    "\n",
    "# pad the vectors to size 2^2=4 with constant values\n",
    "#padding = np.ones((len(X), 2)) * 0.1\n",
    "#X_pad = np.c_[X, padding]\n",
    "#print(f\"First X sample (padded)    : {X_pad[0]}\")\n",
    "\n",
    "# normalize each input\n",
    "normalization = np.sqrt(np.sum(X**2, -1))\n",
    "X_norm = (X.T / normalization).T\n",
    "print(f\"First X sample (normalized): {X_norm[0]}\")\n",
    "\n",
    "# the angles for state preparation are the features\n",
    "features = np.array([get_angles(x) for x in X_norm], requires_grad=False)\n",
    "print(f\"First features sample      : {features[0]}\")\n",
    "\n",
    "Y = np.array(df['target'])"
   ]
  },
  {
   "cell_type": "code",
   "execution_count": 60,
   "id": "94028f75",
   "metadata": {},
   "outputs": [
    {
     "name": "stdout",
     "output_type": "stream",
     "text": [
      "(245, 5)\n",
      "Label Distribution:\n",
      "target\n",
      " 1.0    137\n",
      "-1.0    108\n",
      "Name: count, dtype: int64\n",
      "\n",
      "Label Percentage Distribution:\n",
      "target\n",
      " 1.0    55.918367\n",
      "-1.0    44.081633\n",
      "Name: proportion, dtype: float64\n"
     ]
    }
   ],
   "source": [
    "import yfinance as yf\n",
    "import pandas as pd\n",
    "from pennylane import numpy as np\n",
    "\n",
    "# Step 1: Download Historical Data\n",
    "# Choose a stock or financial asset (e.g., 'AAPL' for Apple)\n",
    "ticker = 'AAPL'\n",
    "data = yf.download(ticker, start='2023-01-01', end='2024-01-01', progress=False)\n",
    "\n",
    "# Step 2: Prepare the Sequential Dataset with 12 Features (Daily Closing Prices)\n",
    "# Ensure there are enough rows to form sequences\n",
    "if len(data) < 13:\n",
    "    raise ValueError(\"Not enough data to create a sequence with 12 days and a label.\")\n",
    "\n",
    "# Extract the 'Close' column (daily closing prices)\n",
    "closing_prices = data['Close'].tolist()\n",
    "\n",
    "# Create a sequential dataset of 12 features\n",
    "# This will create sequences of 12 consecutive days\n",
    "sequences = []\n",
    "labels = []\n",
    "for i in range(len(closing_prices) - 5):\n",
    "    sequence = closing_prices[i:i+4]  # Days 1 to 12\n",
    "    day_13 = closing_prices[i+4]      # Day 13\n",
    "    \n",
    "    # Determine the label: 1 if Day 13 is higher than Day 12, else 0\n",
    "    label = 1.0 if day_13 > sequence[-1] else -1.0\n",
    "    \n",
    "    sequences.append(sequence)\n",
    "    labels.append(label)\n",
    "\n",
    "# Convert to DataFrame for easy manipulation\n",
    "df = pd.DataFrame(sequences, columns=[f\"Day {i+1}\" for i in range(4)])\n",
    "df['target'] = labels\n",
    "\n",
    "# Step 3: Normalize the Data\n",
    "# Normalize each sequence to the range [0, 1] or [0, 2π] for quantum encoding\n",
    "# Here we normalize to [0, 2π]\n",
    "#df.iloc[:, :-1] = df.iloc[:, :-1].apply(lambda x: 2 * np.pi * (x - x.min()) / (x.max() - x.min()), axis=1)\n",
    "\n",
    "# Display the normalized dataset with labels\n",
    "print(df.shape)\n",
    "\n",
    "# Optionally, save the dataset to a CSV file\n",
    "df.to_csv('normalized_sequential_data_with_labels.csv', index=False)\n",
    "\n",
    "# Print Label Distribution\n",
    "label_distribution = df['target'].value_counts()\n",
    "print(\"Label Distribution:\")\n",
    "print(label_distribution)\n",
    "\n",
    "label_percentage = df['target'].value_counts(normalize=True) * 100\n",
    "print(\"\\nLabel Percentage Distribution:\")\n",
    "print(label_percentage)\n",
    "\n"
   ]
  },
  {
   "cell_type": "code",
   "execution_count": 61,
   "id": "6da5a8d9",
   "metadata": {},
   "outputs": [
    {
     "data": {
      "text/plain": [
       "['Day 1', 'Day 2', 'Day 3', 'Day 4']"
      ]
     },
     "execution_count": 61,
     "metadata": {},
     "output_type": "execute_result"
    }
   ],
   "source": [
    "feat=[]\n",
    "for  i in df.columns:\n",
    "    if i != 'target':\n",
    "        feat.append(i)\n",
    "feat"
   ]
  },
  {
   "cell_type": "code",
   "execution_count": 65,
   "id": "95d7fe02",
   "metadata": {},
   "outputs": [
    {
     "name": "stdout",
     "output_type": "stream",
     "text": [
      "First X sample (original)  : [129.61999512 130.1499939  130.72999573 133.49000549]\n",
      "First X sample (normalized): [-2.46896156 -2.48493747 -2.49720019 -2.38191224]\n",
      "First features sample      : [[ 1.57372841 -0.74477246  0.74477246 -0.78072443]\n",
      " [ 1.51424222 -0.78932437  0.78932437 -0.80895604]\n",
      " [ 1.53662823 -0.78869601  0.78869601 -0.74352881]\n",
      " [ 1.55585914 -0.76177368  0.76177368 -0.78862307]\n",
      " [ 1.53560869 -0.79680504  0.79680504 -0.78798617]\n",
      " [ 1.55978541 -0.7784207   0.7784207  -0.76069412]\n",
      " [ 1.56054809 -0.78022204  0.78022204 -0.79620835]\n",
      " [ 1.57153107 -0.80578684  0.80578684 -0.77756   ]\n",
      " [ 1.61393177 -0.79515928  0.79515928 -0.77938208]\n",
      " [ 1.58371326 -0.76023055  0.76023055 -0.80533033]\n",
      " [ 1.49125258 -0.74782953  0.74782953 -0.79454218]\n",
      " [ 1.45498876 -0.77383847  0.77383847 -0.75907759]\n",
      " [ 1.52798897 -0.80773143  0.80773143 -0.74642757]\n",
      " [ 1.57832026 -0.76179962  0.76179962 -0.77284965]\n",
      " [ 1.51989223 -0.76190824  0.76190824 -0.80736025]\n",
      " [ 1.56355588 -0.84872076  0.84872076 -0.76057416]\n",
      " [ 1.66132156 -0.77491446  0.77491446 -0.76064446]\n",
      " [ 1.59920512 -0.77684338  0.77684338 -0.84918901]\n",
      " [ 1.4526877  -0.68898321  0.68898321 -0.77392678]\n",
      " [ 1.29492797 -0.70799067  0.70799067 -0.77588088]\n",
      " [ 1.39360248 -0.86936291  0.86936291 -0.68600412]\n",
      " [ 1.59580823 -0.72500705  0.72500705 -0.7049988 ]\n",
      " [ 1.61563242 -0.86901481  0.86901481 -0.87093982]\n",
      " [ 1.71096455 -0.82322742  0.82322742 -0.7224342 ]\n",
      " [ 1.73328941 -0.79541315  0.79541315 -0.87060182]\n",
      " [ 1.5728301  -0.72946571  0.72946571 -0.8234028 ]\n",
      " [ 1.49649476 -0.8162946   0.8162946  -0.79485064]\n",
      " [ 1.5284567  -0.74236331  0.74236331 -0.72708774]\n",
      " [ 1.57354582 -0.84403313  0.84403313 -0.81636322]\n",
      " [ 1.68583063 -0.82874032  0.82874032 -0.74020309]\n",
      " [ 1.82573153 -0.88928684  0.88928684 -0.84500492]\n",
      " [ 1.82366647 -0.78910928  0.78910928 -0.82915214]\n",
      " [ 1.67385534 -0.78778069  0.78778069 -0.89109562]\n",
      " [ 1.64793825 -0.85205912  0.85205912 -0.78838787]\n",
      " [ 1.69416881 -0.7739872   0.7739872  -0.78702682]\n",
      " [ 1.63187606 -0.80791697  0.80791697 -0.85277309]\n",
      " [ 1.6562588  -0.83713524  0.83713524 -0.77293414]\n",
      " [ 1.69604074 -0.78634233  0.78634233 -0.80761901]\n",
      " [ 1.53597239 -0.69303064  0.69303064 -0.83744064]\n",
      " [ 1.33142303 -0.73044462  0.73044462 -0.78556822]\n",
      " [ 1.42679089 -0.85449626  0.85449626 -0.69010902]\n",
      " [ 1.63168699 -0.76816267  0.76816267 -0.72809352]\n",
      " [ 1.67135505 -0.85277784  0.85277784 -0.85561006]\n",
      " [ 1.74710545 -0.84304816  0.84304816 -0.76685862]\n",
      " [ 1.72060813 -0.75600468  0.75600468 -0.85375982]\n",
      " [ 1.52924738 -0.74900338  0.74900338 -0.84363493]\n",
      " [ 1.46716551 -0.78921436  0.78921436 -0.75448273]\n",
      " [ 1.4776043  -0.72214695  0.72214695 -0.74721353]\n",
      " [ 1.48403227 -0.82465691  0.82465691 -0.78848773]\n",
      " [ 1.52419779 -0.72845435  0.72845435 -0.71935638]\n",
      " [ 1.44497367 -0.73695832  0.73695832 -0.82508386]\n",
      " [ 1.47842106 -0.85270361  0.85270361 -0.72564329]\n",
      " [ 1.63115359 -0.76379557  0.76379557 -0.7341528 ]\n",
      " [ 1.5576256  -0.75288006  0.75288006 -0.85450782]\n",
      " [ 1.57622407 -0.87489865  0.87489865 -0.76204336]\n",
      " [ 1.75400396 -0.82280011  0.82280011 -0.75055276]\n",
      " [ 1.64079329 -0.68808204  0.68808204 -0.87777159]\n",
      " [ 1.35796048 -0.7339956   0.7339956  -0.82335217]\n",
      " [ 1.25155284 -0.66960151  0.66960151 -0.68310621]\n",
      " [ 1.21899299 -0.72421569  0.72421569 -0.73039813]\n",
      " [ 1.37118015 -0.85125503  0.85125503 -0.66127935]\n",
      " [ 1.79075133 -0.92345673  0.92345673 -0.7181044 ]\n",
      " [ 1.8893881  -0.75613791  0.75613791 -0.85579488]\n",
      " [ 1.81945689 -0.94421969  0.94421969 -0.93231732]\n",
      " [ 1.93769053 -0.85821728  0.85821728 -0.7530888 ]\n",
      " [ 1.90263372 -0.83175019  0.83175019 -0.95287203]\n",
      " [ 1.53907647 -0.53762219  0.53762219 -0.86095317]\n",
      " [ 1.14600328 -0.83444844  0.83444844 -0.83297832]\n",
      " [ 1.34844284 -0.80923309  0.80923309 -0.522878  ]\n",
      " [ 1.60832376 -0.72329295  0.72329295 -0.83725949]\n",
      " [ 1.39817687 -0.71589576  0.71589576 -0.80999398]\n",
      " [ 1.47961037 -0.90240139  0.90240139 -0.71683665]\n",
      " [ 1.89058715 -0.92775959  0.92775959 -0.70733896]\n",
      " [ 1.97483734 -0.79017045  0.79017045 -0.91360427]\n",
      " [ 1.83885372 -0.90277067  0.90277067 -0.93865813]\n",
      " [ 1.83734808 -0.80816151  0.80816151 -0.78944092]\n",
      " [ 1.49731419 -0.47708276  0.47708276 -0.91002096]\n",
      " [ 0.85920619 -0.66136818  0.66136818 -0.8086061 ]\n",
      " [ 0.92910781 -0.84994598  0.84994598 -0.45049976]\n",
      " [ 1.75551036 -0.96691014  0.96691014 -0.63885682]\n",
      " [ 2.17057503 -0.93283844  0.93283844 -0.86160763]\n",
      " [ 2.20070537 -0.94698739  0.94698739 -0.9957322 ]\n",
      " [ 1.70936294 -0.08982418  0.08982418 -0.95018632]\n",
      " [ 0.26093499 -0.55309827  0.55309827 -0.96127491]\n",
      " [ 0.4552906  -0.9729262   0.9729262  -0.183589  ]\n",
      " [ 1.10691888 -0.59091973  0.59091973 -0.65423375]\n",
      " [ 1.35590753 -0.73960226  0.73960226 -0.43976517]\n",
      " [ 1.52740299 -0.3521671   0.3521671  -1.27313333]\n",
      " [ 0.87996925 -1.44938741  1.44938741 -0.75924137]\n",
      " [ 1.19912388 -0.97536204  0.97536204 -0.10100207]\n",
      " [ 1.77184532 -0.41902095  0.41902095 -0.65818454]\n",
      " [ 2.8252829  -1.5660036   1.5660036  -1.4029708 ]\n",
      " [ 2.96722089 -0.75549836  0.75549836 -1.37092861]\n",
      " [ 1.61274249 -0.46980674  0.46980674 -1.36370115]\n",
      " [ 0.97086133 -0.75037224  0.75037224 -0.76166739]\n",
      " [ 0.86576969 -0.79140133  0.79140133 -0.53930211]\n",
      " [ 0.73340964 -0.03871427  0.03871427 -0.39265384]\n",
      " [ 2.53642177 -1.44766321  1.44766321 -0.79132512]\n",
      " [ 2.89614448 -1.01238282  1.01238282 -1.11653252]\n",
      " [ 2.23240433 -0.7554467   0.7554467  -1.29618053]\n",
      " [ 1.9485556  -1.00713755  1.00713755 -0.9828012 ]\n",
      " [ 2.01254448 -0.82999839  0.82999839 -0.75865247]\n",
      " [ 1.72907241 -0.68188376  0.68188376 -0.98843712]\n",
      " [ 1.36989123 -0.74299423  0.74299423 -0.82670261]\n",
      " [ 1.26619815 -0.6465938   0.6465938  -0.688674  ]\n",
      " [ 1.50528578 -0.98321197  0.98321197 -0.74600559]\n",
      " [ 1.82667919 -0.79929881  0.79929881 -0.65851933]\n",
      " [ 1.90429149 -0.92474268  0.92474268 -0.96763083]\n",
      " [ 1.82668229 -0.75693743  0.75693743 -0.79806397]\n",
      " [ 1.65424584 -0.80898923  0.80898923 -0.91687072]\n",
      " [ 1.67443033 -0.86531014  0.86531014 -0.75790843]\n",
      " [ 1.70314322 -0.73818485  0.73818485 -0.80742448]\n",
      " [ 1.54714219 -0.78451544  0.78451544 -0.86141847]\n",
      " [ 1.47304846 -0.73536043  0.73536043 -0.73969896]\n",
      " [ 1.60067887 -0.9007279   0.9007279  -0.78410478]\n",
      " [ 1.73221537 -0.77092884  0.77092884 -0.73717772]\n",
      " [ 1.58629488 -0.72814021  0.72814021 -0.89551633]\n",
      " [ 1.55033815 -0.88259827  0.88259827 -0.77099729]\n",
      " [ 1.73931545 -0.8210284   0.8210284  -0.72997589]\n",
      " [ 1.73296895 -0.79412254  0.79412254 -0.87843533]\n",
      " [ 1.74758889 -0.89983729  0.89983729 -0.81933116]\n",
      " [ 1.7683319  -0.7484301   0.7484301  -0.7933327 ]\n",
      " [ 1.56687543 -0.7553525   0.7553525  -0.89611865]\n",
      " [ 1.48513206 -0.79764109  0.79764109 -0.74886284]\n",
      " [ 1.53294095 -0.75405116  0.75405116 -0.75566552]\n",
      " [ 1.46041023 -0.72253623  0.72253623 -0.79676287]\n",
      " [ 1.39600833 -0.76623377  0.76623377 -0.75443607]\n",
      " [ 1.52024845 -0.83603134  0.83603134 -0.72401841]\n",
      " [ 1.67158276 -0.8064403   0.8064403  -0.76639303]\n",
      " [ 1.66063132 -0.78865984  0.78865984 -0.83385766]\n",
      " [ 1.68700207 -0.86941643  0.86941643 -0.80527599]\n",
      " [ 1.73231347 -0.77947098  0.77947098 -0.788041  ]\n",
      " [ 1.66602872 -0.81752213  0.81752213 -0.86659447]\n",
      " [ 1.5830124  -0.73949224  0.73949224 -0.77907717]\n",
      " [ 1.47950335 -0.75502914  0.75502914 -0.81617602]\n",
      " [ 1.48345705 -0.80587394  0.80587394 -0.74010484]\n",
      " [ 1.60103449 -0.80678452  0.80678452 -0.75531957]\n",
      " [ 1.65238257 -0.80642178  0.80642178 -0.80477777]\n",
      " [ 1.6018806  -0.75523493  0.75523493 -0.80568106]\n",
      " [ 1.59402521 -0.84587763  0.84587763 -0.80534439]\n",
      " [ 1.67284606 -0.79958698  0.79958698 -0.75546048]\n",
      " [ 1.63594144 -0.76817199  0.76817199 -0.84383913]\n",
      " [ 1.48289741 -0.7145972   0.7145972  -0.79870145]\n",
      " [ 1.37697904 -0.74797174  0.74797174 -0.76801418]\n",
      " [ 1.1936814  -0.45982343  0.45982343 -0.71583929]\n",
      " [ 0.77161372 -0.57045356  0.57045356 -0.74849345]\n",
      " [ 0.83774536 -0.84380799  0.84380799 -0.47120033]\n",
      " [ 1.31187505 -0.64027892  0.64027892 -0.58432497]\n",
      " [ 1.30433786 -0.74493089  0.74493089 -0.83899764]\n",
      " [ 1.30695625 -0.74700929  0.74700929 -0.65180678]\n",
      " [ 1.60337837 -0.91135127  0.91135127 -0.74859423]\n",
      " [ 1.61748289 -0.59146843  0.59146843 -0.75062367]\n",
      " [ 1.18936761 -0.65472484  0.65472484 -0.90033684]\n",
      " [ 0.86627589 -0.26518026  0.26518026 -0.60821243]\n",
      " [ 0.59712423 -0.86634012  0.86634012 -0.66973231]\n",
      " [ 1.28117732 -1.01614799  1.01614799 -0.34814617]\n",
      " [ 2.19343456 -0.94045049  0.94045049 -0.84466502]\n",
      " [ 2.32241339 -1.06804583  1.06804583 -0.97380393]\n",
      " [ 1.9807349  -0.38999925  0.38999925 -0.92072865]\n",
      " [ 1.20259963 -0.9974251   0.9974251  -1.04639363]\n",
      " [ 1.55176204 -0.89070855  0.89070855 -0.42056927]\n",
      " [ 2.14388566 -0.98487782  0.98487782 -0.97557765]\n",
      " [ 2.16680025 -0.91584202  0.91584202 -0.88237159]\n",
      " [ 1.97820818 -0.79031448  0.79031448 -0.97369664]\n",
      " [ 1.7397559  -0.83360295  0.83360295 -0.91017623]\n",
      " [ 1.6746203  -0.79112178  0.79112178 -0.78964852]\n",
      " [ 1.42963813 -0.53510937  0.53510937 -0.83148649]\n",
      " [ 0.87506664 -0.42788887  0.42788887 -0.7904284 ]\n",
      " [ 0.68987301 -0.82607154  0.82607154 -0.54416398]\n",
      " [ 1.25850049 -0.86780599  0.86780599 -0.45060722]\n",
      " [ 1.53221755 -0.46939994  0.46939994 -0.82192276]\n",
      " [ 0.80128183 -0.33724736  0.33724736 -0.86063089]\n",
      " [ 0.75982181 -1.07371926  1.07371926 -0.49891902]\n",
      " [ 1.38889284 -0.59706715  0.59706715 -0.41230857]\n",
      " [ 1.93094672 -1.14083599  1.14083599 -1.01787318]\n",
      " [ 2.15844418 -0.86414032  0.86414032 -0.63019663]\n",
      " [ 1.68003791 -0.38198926  0.38198926 -1.0977724 ]\n",
      " [ 0.65911647 -0.33729093  0.33729093 -0.85702383]\n",
      " [ 0.58563069 -0.97837146  0.97837146 -0.4224648 ]\n",
      " [ 1.62350742 -0.9827907   0.9827907  -0.42984314]\n",
      " [ 1.75829903 -0.28920183  0.28920183 -0.92913101]\n",
      " [ 1.07588429 -1.29697992  1.29697992 -0.94941796]\n",
      " [ 1.38411661 -0.79625755  0.79625755 -0.11417275]\n",
      " [ 1.87293776 -0.72757273  0.72757273 -1.48712947]\n",
      " [ 1.22986358 -0.50002706  0.50002706 -0.79734375]\n",
      " [ 1.16614283 -0.4862242   0.4862242  -0.70055906]\n",
      " [ 0.89172604 -1.1962026   1.1962026  -0.97676882]\n",
      " [ 1.89796871 -1.11093932  1.11093932 -0.00476794]\n",
      " [ 2.65588661 -1.11891419  1.11891419 -1.35942114]\n",
      " [ 2.43056899 -0.90430184  0.90430184 -1.02690216]\n",
      " [ 1.9452505  -0.71754735  0.71754735 -1.07513886]\n",
      " [ 1.64447738 -0.88207265  0.88207265 -0.89325054]\n",
      " [ 1.741808   -0.83469374  0.83469374 -0.72313958]\n",
      " [ 1.62064233 -0.63957294  0.63957294 -0.87407514]\n",
      " [ 1.30631958 -0.7580582   0.7580582  -0.83098902]\n",
      " [ 1.22441454 -0.61315213  0.61315213 -0.64987612]\n",
      " [ 1.06622188 -0.57893285  0.57893285 -0.7601426 ]\n",
      " [ 0.94206393 -0.67638389  0.67638389 -0.62949793]\n",
      " [ 0.87339692 -0.02840435  0.02840435 -0.60530404]\n",
      " [ 0.08680067 -0.20999231  0.20999231 -0.69424877]\n",
      " [ 0.35209555 -0.99086279  0.99086279 -0.14255338]\n",
      " [ 2.27588754 -1.18721186  1.18721186 -0.67316794]\n",
      " [ 2.7293     -1.3194184   1.3194184  -0.87544955]\n",
      " [ 2.66719801 -0.6925433   0.6925433  -0.78987441]\n",
      " [ 1.51018675 -0.5451674   0.5451674  -1.38882357]\n",
      " [ 0.92072849 -0.74815308  0.74815308 -0.68046025]\n",
      " [ 0.92488136 -0.49300428  0.49300428 -0.50178392]\n",
      " [ 2.21764179 -1.3015717   1.3015717  -0.7339726 ]\n",
      " [ 2.5035592  -0.65330299  0.65330299 -0.8614077 ]\n",
      " [ 1.89184534 -1.01265463  1.01265463 -1.23194323]\n",
      " [ 2.04847082 -0.94083874  0.94083874 -0.668144  ]\n",
      " [ 2.07205229 -0.83372826  0.83372826 -0.9911296 ]\n",
      " [ 1.7582639  -0.75370536  0.75370536 -0.93032185]\n",
      " [ 1.74724777 -0.95073912  0.95073912 -0.83070589]\n",
      " [ 1.80329734 -0.71885234  0.71885234 -0.75499114]\n",
      " [ 1.67917938 -0.88069672  0.88069672 -0.94295583]\n",
      " [ 1.70582292 -0.80204707  0.80204707 -0.72114143]\n",
      " [ 1.73891588 -0.83651938  0.83651938 -0.87647015]\n",
      " [ 1.68371296 -0.78342901  0.78342901 -0.80096324]\n",
      " [ 1.66345681 -0.83394739  0.83394739 -0.83432377]\n",
      " [ 1.64065941 -0.76240799  0.76240799 -0.78297888]\n",
      " [ 1.58695119 -0.80304792  0.80304792 -0.83197024]\n",
      " [ 1.54416399 -0.74686741  0.74686741 -0.76255871]\n",
      " [ 1.50374149 -0.77883263  0.77883263 -0.80200446]\n",
      " [ 1.53432029 -0.80186182  0.80186182 -0.74750309]\n",
      " [ 1.56486266 -0.7539363   0.7539363  -0.77852401]\n",
      " [ 1.53918413 -0.80121958  0.80121958 -0.80083712]\n",
      " [ 1.60561179 -0.82069962  0.82069962 -0.7544071 ]\n",
      " [ 1.60398245 -0.73268048  0.73268048 -0.80020663]\n",
      " [ 1.61674638 -0.89153494  0.89153494 -0.81911982]\n",
      " [ 1.69907076 -0.75789458  0.75789458 -0.73377115]\n",
      " [ 1.65808577 -0.83303464  0.83303464 -0.88799058]\n",
      " [ 1.66986074 -0.81844359  0.81844359 -0.75809246]\n",
      " [ 1.62407207 -0.72737373  0.72737373 -0.83124941]\n",
      " [ 1.52346406 -0.82186447  0.82186447 -0.81709207]\n",
      " [ 1.6562255  -0.85530259  0.85530259 -0.72826838]\n",
      " [ 1.74559742 -0.78971835  0.78971835 -0.82039418]\n",
      " [ 1.63215691 -0.77590963  0.77590963 -0.85315403]\n",
      " [ 1.52164063 -0.75131656  0.75131656 -0.78905857]\n",
      " [ 1.51610645 -0.80860828  0.80860828 -0.77554773]\n",
      " [ 1.53763898 -0.74050632  0.74050632 -0.75152418]\n",
      " [ 1.49969072 -0.78250024  0.78250024 -0.80751974]\n",
      " [ 1.49329147 -0.76040988  0.76040988 -0.74099838]\n",
      " [ 1.50390172 -0.77206589  0.77206589 -0.78202066]\n",
      " [ 1.52042065 -0.78786761  0.78786761 -0.76049323]]\n"
     ]
    }
   ],
   "source": [
    "#data = np.loadtxt(\"iris.txt\")\n",
    "X = np.array(df[feat])\n",
    "print(f\"First X sample (original)  : {X[3]}\")\n",
    "\n",
    "# pad the vectors to size 2^2=4 with constant values\n",
    "#padding = np.ones((len(X), 2)) * 0.1\n",
    "#X_pad = np.c_[X, padding]\n",
    "#print(f\"First X sample (padded)    : {X_pad[0]}\")\n",
    "\n",
    "# normalize each input\n",
    "from sklearn.preprocessing import StandardScaler\n",
    "\n",
    "scaler = StandardScaler()\n",
    "X_norm = scaler.fit_transform(X)\n",
    "#X_test = scaler.transform(X_test)\n",
    "#normalization = np.sqrt(np.sum(X**2, -1))\n",
    "#X_norm = (X.T / normalization).T\n",
    "print(f\"First X sample (normalized): {X_norm[3]}\")\n",
    "\n",
    "# the angles for state preparation are the features\n",
    "features = np.array([get_angles(x) for x in X_norm], requires_grad=False)\n",
    "#features = 2*np.pi*X_norm\n",
    "print(f\"First features sample      : {features[:]}\")\n",
    "\n",
    "Y = np.array(df['target'])"
   ]
  },
  {
   "cell_type": "code",
   "execution_count": null,
   "id": "06af30c6",
   "metadata": {},
   "outputs": [],
   "source": []
  },
  {
   "cell_type": "code",
   "execution_count": null,
   "id": "d925b468",
   "metadata": {},
   "outputs": [],
   "source": []
  },
  {
   "cell_type": "markdown",
   "id": "25845ede",
   "metadata": {},
   "source": [
    "# Sentimental Analysis Dataset"
   ]
  },
  {
   "cell_type": "code",
   "execution_count": null,
   "id": "634a4d89",
   "metadata": {},
   "outputs": [],
   "source": [
    "from tensorflow.keras.preprocessing.text import Tokenizer\n",
    "from tensorflow.keras.preprocessing.sequence import pad_sequences\n",
    "from tensorflow.keras.layers import Embedding\n",
    "import numpy as np\n",
    "\n",
    "# Prepare the tokenizer\n",
    "sentences = filtered_data['sentence'].tolist()\n",
    "tokenizer = Tokenizer()\n",
    "tokenizer.fit_on_texts(sentences)\n",
    "word_index = tokenizer.word_index\n",
    "\n",
    "# Convert sentences to sequences\n",
    "sequences = tokenizer.texts_to_sequences(sentences)\n",
    "max_len = 4  # maximum length of 4 words\n",
    "padded_sequences = pad_sequences(sequences, maxlen=max_len, padding='post')\n",
    "\n",
    "# Embedding layer\n",
    "embedding_dim = 50\n",
    "embedding_layer = Embedding(input_dim=len(word_index) + 1, output_dim=embedding_dim, input_length=max_len)\n",
    "\n",
    "# Get embeddings\n",
    "embeddings = embedding_layer(padded_sequences).numpy()\n",
    "\n",
    "# Convert labels to numpy arrays\n",
    "labels = filtered_data['label'].values\n"
   ]
  },
  {
   "cell_type": "code",
   "execution_count": 314,
   "id": "82085146",
   "metadata": {},
   "outputs": [
    {
     "name": "stdout",
     "output_type": "stream",
     "text": [
      "Collecting transformers\n",
      "  Downloading transformers-4.44.2-py3-none-any.whl.metadata (43 kB)\n",
      "Requirement already satisfied: filelock in e:\\anaconda\\envs\\quantum\\lib\\site-packages (from transformers) (3.15.1)\n",
      "Collecting huggingface-hub<1.0,>=0.23.2 (from transformers)\n",
      "  Downloading huggingface_hub-0.24.6-py3-none-any.whl.metadata (13 kB)\n",
      "Requirement already satisfied: numpy>=1.17 in e:\\anaconda\\envs\\quantum\\lib\\site-packages (from transformers) (1.23.5)\n",
      "Requirement already satisfied: packaging>=20.0 in e:\\anaconda\\envs\\quantum\\lib\\site-packages (from transformers) (21.3)\n",
      "Requirement already satisfied: pyyaml>=5.1 in e:\\anaconda\\envs\\quantum\\lib\\site-packages (from transformers) (6.0.1)\n",
      "Requirement already satisfied: regex!=2019.12.17 in e:\\anaconda\\envs\\quantum\\lib\\site-packages (from transformers) (2024.4.28)\n",
      "Requirement already satisfied: requests in e:\\anaconda\\envs\\quantum\\lib\\site-packages (from transformers) (2.32.2)\n",
      "Collecting safetensors>=0.4.1 (from transformers)\n",
      "  Downloading safetensors-0.4.4-cp311-none-win_amd64.whl.metadata (3.9 kB)\n",
      "Collecting tokenizers<0.20,>=0.19 (from transformers)\n",
      "  Downloading tokenizers-0.19.1-cp311-none-win_amd64.whl.metadata (6.9 kB)\n",
      "Requirement already satisfied: tqdm>=4.27 in e:\\anaconda\\envs\\quantum\\lib\\site-packages (from transformers) (4.66.4)\n",
      "Requirement already satisfied: fsspec>=2023.5.0 in e:\\anaconda\\envs\\quantum\\lib\\site-packages (from huggingface-hub<1.0,>=0.23.2->transformers) (2024.6.0)\n",
      "Requirement already satisfied: typing-extensions>=3.7.4.3 in e:\\anaconda\\envs\\quantum\\lib\\site-packages (from huggingface-hub<1.0,>=0.23.2->transformers) (4.11.0)\n",
      "Requirement already satisfied: pyparsing!=3.0.5,>=2.0.2 in e:\\anaconda\\envs\\quantum\\lib\\site-packages (from packaging>=20.0->transformers) (3.1.1)\n",
      "Requirement already satisfied: colorama in e:\\anaconda\\envs\\quantum\\lib\\site-packages (from tqdm>=4.27->transformers) (0.4.6)\n",
      "Requirement already satisfied: charset-normalizer<4,>=2 in e:\\anaconda\\envs\\quantum\\lib\\site-packages (from requests->transformers) (3.1.0)\n",
      "Requirement already satisfied: idna<4,>=2.5 in e:\\anaconda\\envs\\quantum\\lib\\site-packages (from requests->transformers) (3.4)\n",
      "Requirement already satisfied: urllib3<3,>=1.21.1 in e:\\anaconda\\envs\\quantum\\lib\\site-packages (from requests->transformers) (2.2.1)\n",
      "Requirement already satisfied: certifi>=2017.4.17 in e:\\anaconda\\envs\\quantum\\lib\\site-packages (from requests->transformers) (2022.12.7)\n",
      "Downloading transformers-4.44.2-py3-none-any.whl (9.5 MB)\n",
      "   ---------------------------------------- 0.0/9.5 MB ? eta -:--:--\n",
      "   ------ --------------------------------- 1.6/9.5 MB 10.5 MB/s eta 0:00:01\n",
      "   ----------- ---------------------------- 2.6/9.5 MB 6.6 MB/s eta 0:00:02\n",
      "   ----------------- ---------------------- 4.2/9.5 MB 6.8 MB/s eta 0:00:01\n",
      "   --------------------- ------------------ 5.0/9.5 MB 6.3 MB/s eta 0:00:01\n",
      "   ----------------------- ---------------- 5.5/9.5 MB 5.6 MB/s eta 0:00:01\n",
      "   -------------------------- ------------- 6.3/9.5 MB 5.1 MB/s eta 0:00:01\n",
      "   ----------------------------- ---------- 7.1/9.5 MB 4.8 MB/s eta 0:00:01\n",
      "   --------------------------------- ------ 7.9/9.5 MB 4.7 MB/s eta 0:00:01\n",
      "   ------------------------------------- -- 8.9/9.5 MB 4.7 MB/s eta 0:00:01\n",
      "   ---------------------------------------  9.4/9.5 MB 4.7 MB/s eta 0:00:01\n",
      "   ---------------------------------------- 9.5/9.5 MB 4.4 MB/s eta 0:00:00\n",
      "Downloading huggingface_hub-0.24.6-py3-none-any.whl (417 kB)\n",
      "Downloading safetensors-0.4.4-cp311-none-win_amd64.whl (285 kB)\n",
      "Downloading tokenizers-0.19.1-cp311-none-win_amd64.whl (2.2 MB)\n",
      "   ---------------------------------------- 0.0/2.2 MB ? eta -:--:--\n",
      "   ------------------ --------------------- 1.0/2.2 MB 5.6 MB/s eta 0:00:01\n",
      "   ------------------------------------- -- 2.1/2.2 MB 5.3 MB/s eta 0:00:01\n",
      "   ---------------------------------------- 2.2/2.2 MB 4.5 MB/s eta 0:00:00\n",
      "Installing collected packages: safetensors, huggingface-hub, tokenizers, transformers\n",
      "Successfully installed huggingface-hub-0.24.6 safetensors-0.4.4 tokenizers-0.19.1 transformers-4.44.2\n",
      "Note: you may need to restart the kernel to use updated packages.\n"
     ]
    }
   ],
   "source": [
    "pip install transformers"
   ]
  },
  {
   "cell_type": "code",
   "execution_count": 323,
   "id": "38f19e38",
   "metadata": {},
   "outputs": [
    {
     "name": "stdout",
     "output_type": "stream",
     "text": [
      "Requirement already satisfied: torch in e:\\anaconda\\envs\\quantum\\lib\\site-packages (2.0.1+cu117)\n",
      "Requirement already satisfied: filelock in e:\\anaconda\\envs\\quantum\\lib\\site-packages (from torch) (3.15.1)\n",
      "Requirement already satisfied: typing-extensions in e:\\anaconda\\envs\\quantum\\lib\\site-packages (from torch) (4.11.0)\n",
      "Requirement already satisfied: sympy in e:\\anaconda\\envs\\quantum\\lib\\site-packages (from torch) (1.10.1)\n",
      "Requirement already satisfied: networkx in e:\\anaconda\\envs\\quantum\\lib\\site-packages (from torch) (3.2.1)\n",
      "Requirement already satisfied: jinja2 in e:\\anaconda\\envs\\quantum\\lib\\site-packages (from torch) (3.1.4)\n",
      "Requirement already satisfied: MarkupSafe>=2.0 in e:\\anaconda\\envs\\quantum\\lib\\site-packages (from jinja2->torch) (2.1.5)\n",
      "Requirement already satisfied: mpmath>=0.19 in e:\\anaconda\\envs\\quantum\\lib\\site-packages (from sympy->torch) (1.3.0)\n",
      "Note: you may need to restart the kernel to use updated packages.\n"
     ]
    }
   ],
   "source": [
    "pip install torch"
   ]
  },
  {
   "cell_type": "code",
   "execution_count": 1,
   "id": "a0c9d129",
   "metadata": {},
   "outputs": [
    {
     "data": {
      "application/vnd.jupyter.widget-view+json": {
       "model_id": "33c1449110094d4a960d5abfadde558f",
       "version_major": 2,
       "version_minor": 0
      },
      "text/plain": [
       "tokenizer_config.json:   0%|          | 0.00/48.0 [00:00<?, ?B/s]"
      ]
     },
     "metadata": {},
     "output_type": "display_data"
    },
    {
     "name": "stderr",
     "output_type": "stream",
     "text": [
      "e:\\Anaconda\\envs\\quantum\\Lib\\site-packages\\huggingface_hub\\file_download.py:159: UserWarning: `huggingface_hub` cache-system uses symlinks by default to efficiently store duplicated files but your machine does not support them in C:\\Users\\Lokes S\\.cache\\huggingface\\hub\\models--bert-base-uncased. Caching files will still work but in a degraded version that might require more space on your disk. This warning can be disabled by setting the `HF_HUB_DISABLE_SYMLINKS_WARNING` environment variable. For more details, see https://huggingface.co/docs/huggingface_hub/how-to-cache#limitations.\n",
      "To support symlinks on Windows, you either need to activate Developer Mode or to run Python as an administrator. In order to see activate developer mode, see this article: https://docs.microsoft.com/en-us/windows/apps/get-started/enable-your-device-for-development\n",
      "  warnings.warn(message)\n"
     ]
    },
    {
     "data": {
      "application/vnd.jupyter.widget-view+json": {
       "model_id": "1a9f74eafa084e11b0863fcf8602621e",
       "version_major": 2,
       "version_minor": 0
      },
      "text/plain": [
       "vocab.txt:   0%|          | 0.00/232k [00:00<?, ?B/s]"
      ]
     },
     "metadata": {},
     "output_type": "display_data"
    },
    {
     "data": {
      "application/vnd.jupyter.widget-view+json": {
       "model_id": "fcfa471510814e33adaa465f3704b2b1",
       "version_major": 2,
       "version_minor": 0
      },
      "text/plain": [
       "tokenizer.json:   0%|          | 0.00/466k [00:00<?, ?B/s]"
      ]
     },
     "metadata": {},
     "output_type": "display_data"
    },
    {
     "data": {
      "application/vnd.jupyter.widget-view+json": {
       "model_id": "352ac38bbea04d50964f3e7472154fc1",
       "version_major": 2,
       "version_minor": 0
      },
      "text/plain": [
       "config.json:   0%|          | 0.00/570 [00:00<?, ?B/s]"
      ]
     },
     "metadata": {},
     "output_type": "display_data"
    },
    {
     "name": "stderr",
     "output_type": "stream",
     "text": [
      "e:\\Anaconda\\envs\\quantum\\Lib\\site-packages\\transformers\\tokenization_utils_base.py:1601: FutureWarning: `clean_up_tokenization_spaces` was not set. It will be set to `True` by default. This behavior will be depracted in transformers v4.45, and will be then set to `False` by default. For more details check this issue: https://github.com/huggingface/transformers/issues/31884\n",
      "  warnings.warn(\n"
     ]
    },
    {
     "data": {
      "application/vnd.jupyter.widget-view+json": {
       "model_id": "933265f6b4824598bcc3eca70ddd0c3e",
       "version_major": 2,
       "version_minor": 0
      },
      "text/plain": [
       "model.safetensors:   0%|          | 0.00/440M [00:00<?, ?B/s]"
      ]
     },
     "metadata": {},
     "output_type": "display_data"
    },
    {
     "name": "stdout",
     "output_type": "stream",
     "text": [
      "Embedding for sentence 1: tensor([[ 1.2227e-01, -2.8492e-01,  1.9761e-01,  2.7807e-01,  3.1148e-01,\n",
      "         -6.9994e-02, -3.1194e-02,  5.3126e-01,  6.0480e-02, -5.9650e-01,\n",
      "         -6.4283e-03,  6.9417e-02,  2.6264e-01,  3.2859e-01,  1.2673e-01,\n",
      "         -6.1190e-02,  2.4824e-01,  1.9888e-01,  2.3093e-01,  3.2356e-01,\n",
      "         -1.6090e-01,  4.0023e-02,  5.5935e-02,  1.1751e-01,  3.4442e-01,\n",
      "          2.4907e-01, -4.7345e-01, -1.2501e-02, -9.5864e-02,  1.0258e-01,\n",
      "          1.0576e-01, -2.8447e-01,  3.7431e-01,  3.2660e-01, -2.8057e-01,\n",
      "         -3.4362e-01, -5.7147e-01,  1.2335e-01, -3.2136e-01,  2.7031e-02,\n",
      "          6.2436e-02, -5.0364e-03, -1.5062e-01, -5.5853e-01, -5.6550e-02,\n",
      "         -1.1906e-01, -1.4752e-01, -1.6273e-02,  6.9876e-02, -2.7156e-01,\n",
      "         -3.6538e-01,  2.7272e-01, -1.0510e-01,  2.6691e-01, -1.7148e-01,\n",
      "         -2.5290e-02,  1.7463e-01, -3.2258e-01, -4.1986e-01, -5.7916e-02,\n",
      "          5.1427e-01, -6.6664e-02,  3.9106e-02,  1.3768e-01,  5.1430e-02,\n",
      "         -7.7472e-02,  1.9467e-01, -9.9829e-02, -4.6829e-01,  1.9918e-01,\n",
      "         -4.7009e-02, -2.2621e-02, -2.0820e-01, -5.7741e-01,  1.6811e-01,\n",
      "          1.8453e-01,  4.5527e-02, -1.2004e-02,  3.3238e-01, -1.0034e-01,\n",
      "          1.8320e-01,  5.2688e-01,  2.7789e-01,  3.6469e-02, -5.2501e-02,\n",
      "          1.8741e-01, -8.2587e-02,  5.9097e-02, -2.5118e-02, -6.9681e-02,\n",
      "         -3.3156e-01, -3.0739e-01, -6.6109e-02, -4.4570e-03,  2.4806e-01,\n",
      "         -1.6823e-01, -2.9120e-01, -2.3686e-01, -9.9073e-02,  9.8868e-02,\n",
      "         -1.8101e-01, -4.5058e-01, -2.3912e-01,  9.5833e-02, -3.1777e-02,\n",
      "          3.3010e-01,  1.1618e-01, -4.8351e-01,  2.0784e-02,  2.2240e-01,\n",
      "         -4.8281e-01,  1.1362e-01,  2.5945e-02,  4.7250e-03, -1.9211e-01,\n",
      "          9.8870e-02, -3.4020e-02,  4.5767e-02,  2.3533e-01,  1.7280e-01,\n",
      "         -5.7403e-01,  1.2521e-01, -1.2769e-01,  5.3320e-01, -2.0848e-01,\n",
      "          7.0923e-03, -2.6885e-02, -3.6200e-01, -3.0606e-01, -5.5084e-01,\n",
      "          4.6350e-01,  4.5364e-01,  2.3162e-01, -7.4430e-02, -8.7306e-02,\n",
      "          3.5141e-02, -1.5196e-01, -3.8359e-01,  2.4890e-01, -3.9631e-01,\n",
      "          1.0483e-01,  2.6629e-01,  4.3175e-01, -9.5071e-02, -1.2850e-01,\n",
      "         -3.4049e-01, -1.7174e-01,  4.4927e-02, -7.3174e-02, -2.1483e-01,\n",
      "         -3.7084e-01,  5.9415e-01, -5.3172e-01, -7.6724e-01,  8.8133e-02,\n",
      "          4.3658e-01, -4.9005e-01,  1.2514e-01,  1.4081e-01,  3.1493e-02,\n",
      "          1.1843e-01,  4.6223e-02, -4.4981e-01,  2.6699e-01,  5.1878e-02,\n",
      "          1.9441e-02,  4.9062e-01,  6.6530e-01,  1.2212e-01, -1.2543e-01,\n",
      "         -2.3319e-02,  2.2383e-01,  7.3483e-01,  1.0764e-02, -4.0889e-01,\n",
      "          1.5621e-01,  1.3520e-01,  3.3508e-01, -7.2728e-02, -6.8973e-02,\n",
      "         -1.4362e-01, -1.9550e-01, -6.0385e-02, -4.2659e-01,  9.9441e-02,\n",
      "         -2.8593e-01,  5.4611e-01, -3.3151e-01,  4.7490e-01,  2.5805e-01,\n",
      "         -5.9505e-01, -3.6396e-01,  1.1026e-01, -1.5883e-02,  2.1869e-01,\n",
      "         -1.9405e-01,  8.0568e-02,  1.5040e-01,  2.2736e-01,  2.1014e-01,\n",
      "          1.6253e-01, -8.5524e-02,  7.7672e-02,  3.3997e-01,  1.3866e-02,\n",
      "         -1.1843e-01,  9.2826e-02, -1.2747e-01, -4.3357e-01, -3.7687e-01,\n",
      "         -4.3755e-01,  6.3715e-01,  4.6270e-02,  1.0957e-01,  8.1923e-02,\n",
      "         -3.0707e-02, -9.2097e-02,  1.4032e-01,  3.8513e-02,  1.0610e-01,\n",
      "          3.0396e-01, -3.5486e-01,  1.3319e-01,  3.0429e-01, -7.6434e-02,\n",
      "          1.1361e-01, -1.4776e-02, -1.1954e-01,  5.3252e-01, -1.8222e-01,\n",
      "         -4.8708e-01, -3.3198e-01,  4.5470e-02, -1.2433e-01,  6.0210e-02,\n",
      "          2.8041e-01,  2.1591e-01, -4.1218e-01,  6.0241e-02,  2.2408e-02,\n",
      "         -3.4344e-01,  4.5568e-02, -7.3073e-02,  2.7338e-01,  4.2314e-02,\n",
      "          2.0764e-01,  1.9891e-01, -8.3413e-02, -1.3045e-01, -7.5311e-02,\n",
      "         -2.4589e-02,  3.6937e-01,  8.2892e-02, -4.2989e-02, -1.4920e-02,\n",
      "         -2.0122e-01, -3.2461e-01, -8.7442e-02, -5.4571e-02,  2.8545e-01,\n",
      "          1.2842e-01, -9.0485e-03,  4.1226e-01, -1.3063e-01,  2.7958e-02,\n",
      "         -3.0997e-01, -1.9490e-02, -2.8273e-01,  1.4882e-01, -1.5288e-01,\n",
      "         -2.9411e-01, -9.5998e-02,  8.8268e-02,  3.6368e-01, -3.6031e-01,\n",
      "         -3.6447e-01,  1.2913e-02, -1.5218e-02, -3.9912e-02,  1.1508e-01,\n",
      "         -1.5680e-01,  1.3962e-01, -5.4584e-01,  8.9437e-02,  2.3844e-01,\n",
      "         -2.7476e-01, -1.2698e-01, -4.9040e-01, -3.0407e-01,  2.2023e-02,\n",
      "         -7.2625e-03,  2.8328e-01, -1.2170e-01, -1.9640e-01,  6.8180e-01,\n",
      "          1.2260e-01,  2.0103e-02,  2.8470e-02,  1.0915e-01,  4.9732e-02,\n",
      "         -3.2226e-01,  2.1447e-01,  1.2889e-01, -2.6410e-01,  3.2553e-01,\n",
      "          9.0263e-02,  1.2475e-01,  8.4974e-02, -6.2179e+00, -2.0074e-01,\n",
      "         -3.4129e-04, -3.1416e-02, -1.5322e-01,  8.4025e-02,  4.1527e-02,\n",
      "          1.3221e-01, -4.4692e-02, -1.7776e-01,  2.4977e-01,  2.5203e-01,\n",
      "          1.6309e-01,  1.2858e-01,  2.5347e-02,  2.1769e-01,  2.6099e-01,\n",
      "         -2.5669e-01, -1.1921e-01,  4.8400e-01, -2.5979e-01, -1.5250e-01,\n",
      "          3.2286e-01,  1.5107e-01,  1.1417e-01, -4.0629e-02,  1.0689e-02,\n",
      "          4.9339e-01, -3.0853e-01, -1.2377e-02, -3.1763e-01,  3.3759e-03,\n",
      "         -1.0186e-01, -1.0799e-01,  7.8940e-02,  2.8356e-02,  2.0574e-01,\n",
      "         -3.1977e-01,  4.5455e-01,  1.7953e-01,  2.3873e-01, -2.4157e-01,\n",
      "         -3.5273e-02, -2.6032e-01,  3.2996e-02, -1.7741e-01,  4.3672e-01,\n",
      "          1.1934e-01,  2.4424e-01,  1.7696e-01,  3.6379e-01, -1.1156e-01,\n",
      "          5.6066e-02, -1.6133e-01,  2.5350e-02, -6.9947e-02,  2.7165e-01,\n",
      "          3.6618e-02, -1.9461e-02,  1.4838e-03, -1.0454e-01, -3.0306e-01,\n",
      "          2.8149e-02, -2.4499e-01, -2.7123e-01,  8.1929e-03, -3.6003e-02,\n",
      "         -5.8507e-01, -2.8040e-02,  2.1697e-01,  4.9712e-02, -2.6774e-01,\n",
      "          2.0492e-01, -5.6378e-01,  5.2413e-02,  7.1681e-02, -1.3679e-01,\n",
      "         -1.5566e-01,  5.1849e-02,  3.7694e-01, -3.6515e-02, -2.9922e-01,\n",
      "         -3.7060e-02,  3.3450e-01, -6.5593e-02, -1.0008e-01, -2.7630e-01,\n",
      "         -2.7124e-01,  4.9537e-02,  1.9699e-01,  2.2831e-01, -2.2207e-01,\n",
      "          4.1817e-01, -1.7162e-02,  1.0596e+00,  3.3329e-02,  4.1169e-01,\n",
      "          8.4307e-02, -4.3530e-02, -6.7001e-02, -1.1608e-01,  1.5819e-01,\n",
      "          6.4868e-02,  1.4225e-02,  3.6362e-01,  1.7871e-01, -3.5339e-01,\n",
      "         -1.0911e-01,  3.8428e-01,  4.8627e-02,  1.6850e-01,  9.5158e-03,\n",
      "          4.5796e-01,  3.6129e-01, -4.4336e-01, -4.9653e-01, -2.0441e-01,\n",
      "         -1.0211e-01,  1.4361e-01, -9.8108e-02, -5.7383e-01,  3.5809e-01,\n",
      "         -2.7938e-01,  1.9789e-01, -1.2810e-01, -1.1652e-01, -5.8888e-02,\n",
      "         -4.1028e-01, -1.6146e-02,  3.3612e-02,  1.1874e-01,  2.7532e-01,\n",
      "         -2.0083e-01, -6.2726e-03, -2.6216e-01, -1.4553e-01, -2.2361e-01,\n",
      "         -6.5379e-02, -4.4448e-02,  4.4536e-02,  1.9777e-01,  4.1101e-02,\n",
      "          1.8689e-01,  2.3249e-02,  1.9785e-01,  4.9260e-02, -3.6167e-01,\n",
      "          2.1274e-01, -9.1691e-03,  2.3562e-01,  3.3877e-01, -3.1882e-01,\n",
      "          4.7573e-02,  3.5360e-01, -1.2491e-01, -1.0726e-01, -8.4360e-02,\n",
      "          1.0934e-02,  2.4602e-01,  3.0836e-02,  4.4087e-01, -2.3145e-01,\n",
      "         -7.4014e-02,  1.6538e-01,  1.7647e-01,  6.6652e-01, -3.7500e-01,\n",
      "         -4.8833e-02, -4.8884e-01, -2.8085e-01,  5.8280e-01, -2.8305e-01,\n",
      "         -2.4536e-01, -1.8206e-01, -2.7350e-01,  1.4061e-01, -3.9657e-02,\n",
      "         -4.7791e-01, -2.7027e-01, -4.5016e-02,  8.5687e-02, -4.3939e-01,\n",
      "          4.7343e-01,  5.6975e-02,  4.1426e-01,  4.5435e-01, -2.4781e-01,\n",
      "          1.9519e-01,  2.3215e-01,  3.0346e-01,  1.7345e-01,  2.9640e-01,\n",
      "          1.9904e-01, -1.6953e-01,  4.2763e-02, -1.7559e-01,  4.3657e-01,\n",
      "         -2.1996e-01,  2.9860e-01, -2.2534e-01, -1.8279e-01, -2.4834e-01,\n",
      "         -2.4900e-01, -3.4253e-02,  3.0933e-01, -5.0295e-02, -3.0922e-02,\n",
      "          2.3286e-01, -1.9083e-01,  8.7289e-02,  4.3876e-04, -1.6900e-01,\n",
      "         -1.2255e-01, -4.0519e-01, -3.6222e-01,  3.5582e-01,  1.7971e-01,\n",
      "          3.0972e-02, -1.6103e-01, -4.5791e-02, -1.6174e-01, -2.0854e-01,\n",
      "          1.0829e-01, -7.2932e-02, -1.5963e-01,  4.2271e-02, -3.6414e-01,\n",
      "         -6.3842e-02,  7.9457e-02, -1.3070e-01,  4.9131e-02,  3.2630e-01,\n",
      "          1.9175e-01, -6.7349e-02,  4.4186e-02, -3.4174e-02, -2.7103e-01,\n",
      "          4.9515e-01, -1.2228e-01, -2.8185e-01,  2.2830e-02, -4.3748e-01,\n",
      "         -6.7992e-01,  2.0155e-01,  1.2571e-01, -3.7220e-01,  6.5149e-02,\n",
      "          2.9339e-01,  9.0940e-03,  2.1694e-01, -1.2869e-01, -1.7311e-01,\n",
      "         -7.9136e-02, -2.8625e-01,  1.4257e-01, -4.1255e-01, -1.6730e-01,\n",
      "         -3.8545e-01, -2.2917e-02,  1.0188e-01, -1.3969e-01,  1.1209e-01,\n",
      "         -3.6465e-01,  1.3740e-01, -2.2248e-01,  1.4647e-01, -2.2540e-01,\n",
      "         -2.6955e-01,  2.2418e-01,  1.3834e-01, -3.5623e-02,  1.2745e-02,\n",
      "          1.8993e-01,  3.9697e-01, -3.7935e-02,  6.0625e-02,  4.9357e-02,\n",
      "          5.8680e-03, -1.0878e-01, -2.1949e-01,  9.8939e-02,  2.7498e-01,\n",
      "          1.5445e-01, -3.6140e-01,  5.4071e-02, -2.0723e-01, -1.8340e-01,\n",
      "         -3.6757e-02, -2.1833e-01, -2.8885e-01, -1.4701e-01, -6.0725e-02,\n",
      "         -1.3657e-01,  5.2355e-01,  1.9350e-01, -5.8856e-02, -5.7184e-03,\n",
      "          1.1928e-01, -2.4923e-01, -2.1755e-01, -1.3056e-01,  2.3399e-01,\n",
      "          3.5095e-01, -3.4630e-01,  1.6942e-01,  5.4692e-01,  2.3137e-01,\n",
      "          1.2204e-01,  1.6681e-02,  2.3202e-01, -1.5157e-01, -4.4312e-02,\n",
      "         -3.2893e-02,  6.2005e-01, -5.2836e-01, -3.2294e-01,  1.9754e-01,\n",
      "         -2.2363e-01,  2.1843e-01,  1.7745e-01,  1.6249e-01, -2.1595e-01,\n",
      "          2.4683e-01, -7.9073e-02, -5.0517e-02,  1.6907e-01, -2.8773e-01,\n",
      "         -1.1902e-02,  1.8043e-01,  4.9231e-01, -4.3063e-02,  3.8579e-01,\n",
      "          1.2072e-01,  3.6035e-01,  5.0171e-01,  5.7539e-02,  2.5801e-01,\n",
      "         -7.8486e-02, -1.7825e-01,  5.2475e-02,  2.6059e-01, -1.0716e-01,\n",
      "         -7.4662e-02,  4.1137e-01, -4.4824e-01,  1.6365e-01,  2.1140e-01,\n",
      "          7.9987e-02, -1.2044e-01,  1.4223e-01,  1.7813e-01,  1.8825e-01,\n",
      "         -6.1133e-02,  4.5976e-02, -1.1062e-01, -1.4757e-01,  4.9206e-01,\n",
      "          7.1762e-02, -2.2965e-01,  2.0721e-01,  3.0232e-01,  1.8610e-01,\n",
      "          2.6220e-01, -1.2771e-01,  1.3263e-02,  2.2104e-01,  1.3192e-01,\n",
      "         -4.0959e-01, -1.2492e-01,  1.4393e-01, -2.0222e-01,  1.8415e-01,\n",
      "         -6.2625e-02,  2.8186e-01, -2.1966e-01,  1.5145e-01, -4.8958e-02,\n",
      "          2.5794e-01, -2.4200e-01, -8.9745e-02,  1.2514e-01,  1.7775e-01,\n",
      "         -1.0804e-01, -4.6990e-01,  5.9124e-01, -3.6715e-01,  8.3067e-02,\n",
      "          8.0119e-02, -1.8019e-01,  4.9972e-02, -9.8468e-02, -4.1418e-01,\n",
      "         -3.3492e-01, -1.4373e-01,  4.3542e-01, -2.3831e-01, -3.7137e-01,\n",
      "         -1.4903e-02,  3.8112e-01,  4.4377e-01,  5.1617e-02, -2.3413e-01,\n",
      "          2.6663e-01,  1.8859e-01, -5.1792e-01,  1.0071e-01, -2.8317e-02,\n",
      "         -2.4033e-01, -4.4690e-01, -2.3072e-01,  2.2819e-01,  3.4839e-01,\n",
      "         -2.6107e-01,  1.0493e-01, -2.4277e-01,  5.5165e-02,  1.7899e-01,\n",
      "         -5.5416e-02,  2.0049e-01, -6.8486e-02,  5.1317e-02,  8.9259e-02,\n",
      "          6.2536e-02,  2.2052e-01, -2.0941e-01,  2.3251e-01, -3.8722e-01,\n",
      "          5.3421e-02, -2.9039e-01,  4.1311e-02, -2.3727e-01, -3.5230e-02,\n",
      "         -9.0673e-03,  1.7550e-02, -1.0331e-01, -1.0970e-01, -5.7150e-02,\n",
      "         -8.6557e-02, -9.5474e-03, -3.4485e-01,  5.7680e-02, -7.0988e-02,\n",
      "         -5.3042e-01, -4.5913e-01, -1.1357e-01,  9.8653e-02, -2.0765e-02,\n",
      "          7.4729e-02, -2.1193e-01,  1.9972e-01,  3.0023e-01,  5.3838e-02,\n",
      "         -2.2550e-01, -1.0864e-02,  1.0420e-01, -1.7568e-02,  1.7818e-01,\n",
      "          3.1807e-01, -1.0410e-01, -4.4901e-02]])\n",
      "Embedding for sentence 2: tensor([[ 6.0357e-02, -1.8863e-01,  4.3300e-01,  1.1548e-01,  9.2881e-02,\n",
      "         -1.2053e-01,  5.1774e-02,  3.7950e-01,  1.5706e-01, -4.3192e-01,\n",
      "         -8.7355e-02,  1.0494e-01,  8.9365e-02,  3.4495e-01,  1.2400e-01,\n",
      "         -1.3388e-01,  1.8206e-01,  5.3553e-02,  2.0808e-01,  6.3623e-02,\n",
      "          1.5576e-02,  1.3833e-01,  7.0863e-02, -5.3430e-02,  3.6743e-01,\n",
      "          1.8958e-01, -2.2276e-01,  1.0224e-01, -2.0416e-01,  3.4905e-01,\n",
      "         -1.3150e-01, -6.7021e-02,  2.6048e-01, -2.2969e-02, -2.6038e-01,\n",
      "         -1.7372e-01, -2.7541e-01,  2.6523e-01, -2.2265e-01, -1.1784e-01,\n",
      "          2.6262e-02,  4.3524e-02,  1.5096e-01, -1.9367e-01, -1.0364e-01,\n",
      "         -1.6284e-01, -3.4268e-01, -1.7152e-01, -1.8559e-01, -5.0897e-02,\n",
      "         -3.0489e-01,  3.2240e-01,  2.4169e-02,  8.7249e-02, -2.3585e-01,\n",
      "          3.6291e-02,  1.8588e-01, -1.9830e-01, -4.0596e-01, -2.6204e-01,\n",
      "          2.4348e-01, -9.2711e-02, -7.2335e-02,  2.5821e-01, -1.4634e-01,\n",
      "         -3.4865e-02,  4.7048e-01,  9.4903e-03, -5.6833e-01,  1.8043e-01,\n",
      "          1.0453e-01, -3.4935e-03, -2.1276e-01, -3.5598e-01,  1.5098e-01,\n",
      "         -9.8880e-02,  4.3142e-01,  3.2969e-02,  2.2490e-01, -3.6234e-01,\n",
      "          1.2248e-01,  4.0955e-01,  1.2414e-01,  2.0670e-02, -5.8604e-02,\n",
      "          2.0884e-01, -8.6933e-03,  3.4784e-01, -1.1745e-01,  1.3933e-01,\n",
      "         -1.6374e-01, -3.0868e-01, -1.8310e-02, -2.1716e-02,  6.1649e-01,\n",
      "         -1.4909e-01, -1.6938e-02, -2.8806e-01, -5.9693e-02, -8.2067e-03,\n",
      "         -7.7256e-02, -4.1881e-01, -1.1162e-01, -1.5176e-01, -2.8776e-01,\n",
      "          1.9076e-01,  1.9560e-01, -5.0246e-01, -5.8461e-02,  1.4804e-01,\n",
      "         -3.1629e-01,  2.5640e-01,  2.7956e-02,  1.3100e-01, -3.1429e-02,\n",
      "          3.9347e-01,  9.4690e-02,  2.7836e-02,  2.7564e-01,  1.2641e-01,\n",
      "         -2.5771e-01,  2.2432e-01, -1.5410e-01,  4.6071e-01, -9.4980e-02,\n",
      "          3.1749e-02, -2.4378e-01, -4.5209e-02, -1.2429e-01, -5.2821e-01,\n",
      "          2.7902e-01,  2.6794e-01,  3.8366e-01, -1.6805e-01,  1.4702e-01,\n",
      "          6.1105e-02, -8.6396e-02, -2.9427e-01, -4.6089e-02, -8.7913e-02,\n",
      "          5.6724e-02,  1.6527e-01,  2.6488e-01, -1.2396e-01, -7.9602e-02,\n",
      "         -3.2434e-01, -2.2785e-01,  9.9591e-02, -1.1939e-01, -2.0766e-01,\n",
      "         -4.2809e-01,  5.0633e-01, -3.8292e-01, -6.5439e-01, -1.0884e-01,\n",
      "          2.8415e-01, -2.6485e-01,  5.0297e-02,  2.7764e-01,  8.6482e-02,\n",
      "          1.1770e-01,  1.4964e-02, -3.2649e-01,  8.2776e-02, -3.6674e-01,\n",
      "         -6.3344e-02,  4.3942e-01,  6.5828e-01,  2.5545e-01,  1.4532e-01,\n",
      "         -1.3000e-01,  1.0121e-01,  6.8624e-01, -1.0538e-01, -3.4074e-01,\n",
      "          2.8118e-01,  3.3154e-01,  1.0938e-01, -7.6221e-02,  6.9430e-02,\n",
      "         -1.7850e-01, -8.1369e-02, -6.0612e-02, -3.4874e-01,  1.8689e-01,\n",
      "         -3.1896e-01,  3.6009e-01, -3.0978e-01,  3.4027e-01,  2.6467e-01,\n",
      "         -3.6253e-01, -5.3416e-01,  7.4188e-02, -2.2963e-01,  3.8947e-01,\n",
      "          1.7013e-02, -5.5677e-03,  3.2862e-01,  1.1413e-01,  4.5850e-02,\n",
      "          3.3263e-01,  9.4611e-02,  1.2611e-01,  2.9536e-01, -1.7968e-01,\n",
      "         -8.9190e-04, -6.7028e-02, -3.2675e-03, -2.9267e-01, -2.0223e-01,\n",
      "         -1.8741e-01,  5.5964e-01,  3.2845e-01, -6.0680e-02,  1.3229e-01,\n",
      "          1.2380e-01,  2.4288e-01,  1.7443e-01, -2.3193e-01,  5.0183e-02,\n",
      "          3.6865e-01, -4.0720e-01,  2.3250e-01, -7.9039e-03, -1.2980e-01,\n",
      "          1.2115e-01,  9.9013e-02, -1.6272e-01,  3.6739e-01,  3.7234e-02,\n",
      "         -4.4715e-01, -1.7775e-01,  1.2440e-01, -1.0318e-01, -1.4151e-01,\n",
      "          2.7330e-01,  9.9209e-02, -1.0741e-01,  1.2542e-01,  7.3583e-02,\n",
      "         -2.5846e-01,  2.6882e-01,  3.9027e-03,  3.6214e-01,  8.8804e-02,\n",
      "         -1.4535e-01,  4.2899e-01, -1.6233e-02, -4.8285e-02, -1.9936e-01,\n",
      "         -2.3357e-01,  5.7497e-02,  3.4569e-02, -2.6820e-01,  1.4270e-02,\n",
      "         -2.6368e-01, -7.6546e-02, -2.3581e-01,  1.9371e-01,  2.8437e-01,\n",
      "          2.1618e-01, -7.1142e-03,  3.0316e-01, -1.5241e-01, -1.1274e-02,\n",
      "         -2.6573e-01, -9.4593e-02, -1.6746e-01,  2.1723e-01, -1.6333e-01,\n",
      "         -1.7012e-01, -6.5463e-02,  2.4313e-02,  3.3436e-01,  1.4504e-02,\n",
      "         -4.4866e-01,  2.7035e-01, -1.1035e-01, -1.2543e-01,  3.0822e-01,\n",
      "         -2.5926e-01,  1.8853e-01, -4.1014e-01, -2.4091e-02,  1.5984e-01,\n",
      "         -2.3753e-02, -2.0910e-01, -1.9835e-01, -3.0348e-01,  3.1000e-02,\n",
      "         -2.9011e-02,  2.0064e-01, -9.1293e-03, -2.9333e-01,  4.9121e-01,\n",
      "          1.3478e-01,  1.3102e-01,  1.3613e-01, -1.5527e-01,  3.7359e-02,\n",
      "         -3.6343e-01,  3.2433e-01, -4.3936e-02, -2.6747e-01,  1.9281e-01,\n",
      "         -1.1722e-01,  1.9274e-02,  1.0424e-01, -6.3701e+00, -1.9219e-01,\n",
      "         -2.6954e-02,  1.0368e-01, -2.1571e-01,  2.8060e-02,  1.6367e-01,\n",
      "          9.0908e-02, -2.0685e-02, -2.7941e-01,  2.6491e-01,  1.7892e-01,\n",
      "         -9.6552e-02,  2.8208e-01,  8.4989e-02,  2.5793e-01,  3.0061e-01,\n",
      "         -1.7320e-01, -1.1801e-01,  3.0846e-01, -5.4152e-01, -3.4985e-01,\n",
      "          1.0923e-01,  1.7174e-01,  4.1681e-02,  8.4518e-02, -1.4194e-01,\n",
      "          1.2502e-01, -5.6596e-01, -3.0129e-02, -2.7645e-01, -1.6306e-01,\n",
      "         -2.3960e-01,  2.1338e-02, -5.8152e-03, -9.9501e-02,  6.8080e-02,\n",
      "         -4.4542e-01,  4.1724e-01,  2.6449e-01,  1.6302e-01, -4.0785e-02,\n",
      "          2.1114e-01, -1.1077e-01, -2.1077e-02, -3.9207e-01,  1.9880e-01,\n",
      "          2.1025e-01,  1.4337e-01, -6.6421e-04,  6.7428e-02, -2.7569e-02,\n",
      "          2.2691e-01, -3.0346e-01, -1.5242e-01, -8.9487e-02,  2.2560e-01,\n",
      "          3.7924e-01,  2.4831e-01, -1.3940e-01, -1.4732e-02, -2.9188e-01,\n",
      "         -7.5218e-02, -1.8156e-01, -4.1444e-01,  1.6371e-01, -2.9329e-01,\n",
      "         -3.4925e-01, -9.3824e-02, -8.2774e-02, -4.3441e-02, -1.1162e-01,\n",
      "         -2.6124e-01, -3.7033e-01,  9.9811e-02, -3.1459e-02, -4.1388e-03,\n",
      "         -2.1913e-01,  2.1179e-01,  1.6605e-01, -1.7376e-01, -3.1528e-01,\n",
      "         -1.3383e-01,  2.0794e-01, -1.2014e-01, -9.6470e-02, -1.4318e-01,\n",
      "         -1.3604e-01, -4.9934e-02,  4.1611e-01,  3.1890e-01, -1.9314e-02,\n",
      "          2.3825e-01,  1.8151e-01,  7.2637e-01,  1.6378e-02,  4.2280e-01,\n",
      "          3.8352e-02,  7.7904e-02, -6.5951e-02,  1.4382e-02, -7.2257e-02,\n",
      "         -5.6318e-02, -5.7261e-02,  2.5286e-01,  1.3046e-01, -2.2341e-01,\n",
      "         -2.9918e-01,  3.6271e-01,  1.2304e-01, -2.0061e-02, -1.2106e-01,\n",
      "          2.5853e-01,  2.1108e-01, -9.8279e-02,  6.8998e-04, -1.2948e-01,\n",
      "         -6.5978e-02,  1.7219e-01,  3.6988e-02, -4.8884e-01,  1.8052e-01,\n",
      "          2.7673e-02,  3.3031e-01, -1.2734e-01, -5.0957e-02,  3.3179e-01,\n",
      "         -3.3737e-01, -2.5650e-02, -2.2757e-02,  1.3369e-01,  1.5137e-01,\n",
      "         -1.0140e-01,  5.4309e-03, -2.2071e-01, -1.5647e-01, -3.2806e-02,\n",
      "          3.3972e-02,  3.1456e-02,  5.5035e-02,  4.8664e-01,  2.1495e-01,\n",
      "         -2.0545e-02, -5.1148e-02,  3.4128e-02,  6.9257e-03, -1.9415e-01,\n",
      "          3.4136e-01, -1.9820e-01,  2.2584e-01,  3.6818e-02, -5.1199e-01,\n",
      "         -4.9545e-02,  3.3227e-01, -3.1935e-01, -3.6579e-02,  1.5561e-01,\n",
      "          6.8358e-03,  2.1960e-01, -1.7173e-01,  2.7235e-01, -3.8385e-02,\n",
      "         -3.8823e-02,  1.8281e-01,  2.1532e-01,  2.4227e-01, -2.2953e-01,\n",
      "          9.7278e-02, -5.5034e-01, -1.2063e-01,  2.6565e-01, -2.7385e-02,\n",
      "         -2.3728e-01, -6.4146e-02, -6.0378e-04, -8.6296e-03,  1.6996e-02,\n",
      "         -2.9330e-01, -4.0519e-01, -9.6587e-02,  1.1304e-01, -2.3958e-01,\n",
      "          3.8816e-01,  2.0403e-01,  2.1725e-01,  2.2037e-01, -4.1463e-01,\n",
      "          1.1507e-01,  2.9160e-01,  1.8181e-01,  1.7951e-01,  2.5112e-01,\n",
      "          2.0107e-01, -3.8202e-01,  2.6037e-02, -1.7340e-01,  2.3648e-01,\n",
      "         -3.3335e-01,  9.9428e-02, -2.3122e-01, -3.3186e-01, -1.4859e-01,\n",
      "         -4.4268e-02,  7.3015e-02,  3.9338e-01, -2.9782e-01, -4.2239e-02,\n",
      "          8.5590e-02, -3.2927e-01,  1.0735e-01,  1.2488e-02, -1.4162e-01,\n",
      "         -5.6644e-02, -2.9299e-01, -3.8568e-01,  2.1197e-01,  1.4584e-01,\n",
      "          7.6698e-02, -4.0149e-01,  8.8930e-02, -2.1839e-01, -1.4905e-01,\n",
      "          1.9283e-01, -1.1529e-01, -1.7718e-01,  3.9786e-02, -3.7208e-01,\n",
      "         -7.2640e-02,  3.0434e-01, -1.9230e-01, -2.3174e-01,  9.1872e-02,\n",
      "          2.0505e-01,  1.1428e-01, -7.1562e-02, -3.7092e-02, -3.3281e-01,\n",
      "          2.5085e-01, -1.0253e-01, -2.8067e-01,  1.3464e-01, -3.7104e-01,\n",
      "         -6.5193e-01,  8.1710e-02,  2.3903e-02, -2.3163e-01,  7.3623e-02,\n",
      "          2.7855e-01, -1.8409e-02,  2.0437e-01,  5.5239e-02, -1.1496e-01,\n",
      "         -1.0584e-01, -3.1393e-01,  7.3099e-02, -2.3224e-01,  9.1415e-02,\n",
      "         -2.5016e-01, -2.6515e-01,  3.1534e-02, -2.0900e-01,  2.2411e-01,\n",
      "         -4.2660e-01,  1.9664e-01, -7.5955e-02,  1.0716e-01, -1.0992e-01,\n",
      "         -6.0686e-01,  3.3148e-01,  1.0749e-01, -1.1838e-01, -4.9283e-02,\n",
      "          1.3268e-01,  3.7866e-01,  2.0735e-01,  3.2634e-02, -3.9747e-02,\n",
      "         -3.0711e-01, -3.2161e-01, -1.3124e-01,  1.8704e-01,  4.3043e-01,\n",
      "          7.5596e-02, -2.8176e-01,  2.4603e-02, -3.4343e-01, -1.4666e-01,\n",
      "         -1.6569e-01,  8.3122e-02, -6.0085e-02, -1.7917e-01, -9.3989e-02,\n",
      "         -3.2615e-02,  2.1490e-01,  1.3611e-01, -4.8352e-02, -6.0643e-02,\n",
      "         -6.3232e-02, -4.0094e-01, -2.9272e-01, -3.9811e-02,  2.1866e-01,\n",
      "          2.0164e-01, -4.0761e-01,  1.6408e-01,  5.3811e-01,  3.0211e-01,\n",
      "          2.0075e-01,  8.5277e-02,  3.1663e-01, -3.1560e-02, -4.5732e-02,\n",
      "         -1.0551e-02,  6.7383e-01, -4.3616e-01, -5.5778e-02,  9.5624e-02,\n",
      "         -4.0028e-01,  3.5792e-01,  2.6506e-01,  5.2166e-02, -2.5618e-01,\n",
      "          2.2847e-01,  2.4096e-01, -1.5111e-01,  1.1990e-01, -1.2030e-01,\n",
      "         -1.2164e-01,  1.8867e-01,  4.8041e-01,  1.6451e-01,  3.8494e-01,\n",
      "          1.1243e-01,  3.5351e-01,  4.1129e-01, -6.5924e-02,  2.0396e-01,\n",
      "         -5.4939e-02, -1.4480e-01,  1.3106e-01,  1.7899e-01,  1.1114e-01,\n",
      "          1.5145e-02,  2.1429e-01, -4.5592e-01,  1.2246e-01,  2.2058e-01,\n",
      "          1.9374e-01, -4.4074e-01,  1.9748e-01,  1.9198e-01,  2.0326e-01,\n",
      "         -1.4728e-01, -6.2242e-02,  2.1790e-01, -8.7147e-02,  2.6541e-01,\n",
      "          2.3945e-01,  9.3217e-02,  3.0125e-01,  7.2850e-02,  4.4057e-01,\n",
      "          1.7733e-01, -4.6236e-02, -9.8749e-02,  7.3890e-02,  1.6915e-01,\n",
      "         -2.2061e-01,  7.9675e-02,  4.7123e-02, -1.2294e-01,  6.9679e-02,\n",
      "         -4.6999e-03,  3.5747e-01, -1.4570e-01,  4.1430e-02, -1.7701e-01,\n",
      "          6.0187e-02, -2.8051e-02,  3.5353e-02, -1.3725e-02,  7.1754e-03,\n",
      "         -1.8042e-01, -2.2954e-02,  6.6278e-01, -2.3742e-01, -1.0344e-01,\n",
      "          4.7286e-01, -2.0553e-01, -9.6476e-02, -2.1177e-01, -4.7620e-01,\n",
      "         -3.1053e-01,  1.5164e-01,  5.1100e-01, -3.0490e-01, -3.2668e-01,\n",
      "         -5.3854e-02,  7.0865e-02,  1.9212e-01,  1.6166e-01, -3.4439e-01,\n",
      "          1.1812e-01,  1.3480e-01, -1.4250e-01, -2.4552e-01, -7.2905e-04,\n",
      "         -4.9370e-01, -4.8693e-01,  4.1920e-02,  1.5656e-01,  4.2457e-01,\n",
      "         -4.7438e-01,  3.4906e-01, -4.6763e-01,  4.4565e-02, -4.4571e-02,\n",
      "         -1.1363e-02,  1.3031e-01, -3.2591e-01, -1.1689e-02,  1.0217e-01,\n",
      "          7.8527e-02,  8.4992e-02, -1.5817e-01,  4.5191e-01, -4.4197e-01,\n",
      "          1.7505e-01, -2.3498e-01,  6.9581e-02,  3.5618e-02,  1.1798e-01,\n",
      "          2.8853e-02,  1.2008e-01, -1.6821e-01, -1.5645e-01,  1.0216e-02,\n",
      "          7.5781e-02, -1.4492e-01, -3.1766e-01, -1.0225e-01,  9.3513e-02,\n",
      "         -4.2086e-02, -1.5235e-01, -8.7437e-02,  1.4933e-01, -1.8142e-01,\n",
      "          1.8810e-01, -2.3427e-01,  3.6110e-02,  1.9554e-01,  5.9014e-02,\n",
      "         -1.2674e-01, -1.9776e-01, -1.7937e-01,  1.6499e-01,  2.1512e-01,\n",
      "          1.3736e-01, -5.7530e-02, -1.6050e-01]])\n",
      "Embedding for sentence 3: tensor([[-1.8609e-01, -2.6783e-01, -4.9070e-02, -7.0732e-02,  4.0830e-03,\n",
      "          1.8097e-01,  1.8584e-01,  3.6017e-01,  2.4953e-01, -4.7669e-01,\n",
      "         -2.0459e-01,  5.8071e-02, -3.3043e-01, -1.5992e-01,  1.8365e-01,\n",
      "         -2.1772e-01,  1.0535e-01,  4.5324e-02,  3.7561e-02,  4.4321e-01,\n",
      "         -1.2633e-01,  2.0210e-03, -2.0394e-01, -5.2900e-02,  1.4840e-01,\n",
      "         -6.1666e-02, -1.0029e-01,  1.4021e-01, -3.8721e-01,  9.3189e-02,\n",
      "         -2.0324e-01, -2.1235e-01,  2.1452e-01,  2.7378e-02, -7.0369e-02,\n",
      "         -1.8399e-01, -5.0672e-01, -1.5389e-01, -1.9810e-01,  2.3500e-01,\n",
      "         -3.3495e-01, -8.0937e-02, -1.1548e-01, -3.4610e-01, -3.4207e-01,\n",
      "         -1.5047e-01, -2.3603e-01, -1.1021e-01, -4.5657e-01,  1.1007e-01,\n",
      "         -9.4660e-01,  3.8143e-01, -3.5335e-03, -6.8259e-02,  6.0605e-02,\n",
      "          1.9954e-01,  2.2865e-01, -1.4280e-01, -1.3824e-01, -1.0954e-01,\n",
      "          1.4184e-01, -1.9223e-01, -1.2712e-02,  3.7301e-01,  2.0377e-01,\n",
      "         -1.7870e-01,  1.0102e-01,  2.0168e-02, -5.9055e-01, -1.3869e-03,\n",
      "         -2.6281e-02, -3.6734e-03, -2.8340e-01, -1.5797e-01, -3.3298e-01,\n",
      "         -6.9351e-02,  2.4363e-01,  2.3174e-01, -2.5680e-02, -8.4367e-03,\n",
      "         -6.9974e-02,  5.8878e-01,  6.2305e-02,  1.2376e-01,  2.8110e-01,\n",
      "          1.8048e-01,  4.3587e-02,  6.0339e-01,  1.1678e-01, -2.5827e-01,\n",
      "         -8.8265e-02, -2.3049e-01, -4.2943e-01,  2.9446e-01,  5.3071e-01,\n",
      "          5.9926e-02, -1.9949e-01,  8.4786e-03,  7.8234e-02,  1.0174e-02,\n",
      "         -2.0145e-01, -2.4222e-01,  2.9938e-01,  3.9066e-01, -3.5547e-01,\n",
      "         -1.1290e-01, -1.1630e-01, -2.1312e-01, -1.8470e-01, -2.4010e-02,\n",
      "         -1.7948e-01,  2.3413e-02,  2.9971e-01, -9.0307e-02, -1.6828e-01,\n",
      "          3.9658e-01,  2.9036e-01,  1.9624e-01, -1.7719e-02,  1.3128e-01,\n",
      "         -1.9400e-02,  2.4757e-01, -2.9744e-02,  5.6547e-01, -3.4958e-01,\n",
      "          6.0912e-02, -4.8900e-02, -2.9003e-02,  2.7734e-01, -5.2770e-01,\n",
      "          3.4160e-01,  4.1360e-01,  3.9425e-01,  1.0839e-01, -7.3752e-02,\n",
      "          1.4170e-01, -2.8233e-02, -2.0460e-01, -5.8118e-03, -2.5339e-02,\n",
      "         -3.1065e-01, -1.1905e-01,  5.7082e-01, -2.9497e-02,  1.2114e-01,\n",
      "         -3.9471e-02, -1.3505e-01, -7.8770e-03, -2.2974e-01, -2.4090e-01,\n",
      "         -1.6889e-01,  3.4161e-01, -3.4173e-01, -2.4532e-01, -3.9995e-02,\n",
      "          4.1703e-01,  6.9801e-02,  3.8141e-02,  2.6461e-01,  6.9459e-03,\n",
      "          2.6896e-01,  1.6795e-03, -2.8948e-01,  3.9226e-02,  4.6089e-02,\n",
      "         -6.7272e-02, -4.4527e-03,  6.5531e-01,  2.7727e-01,  6.5751e-02,\n",
      "         -1.3625e-01, -5.1476e-02,  7.4401e-01, -3.7658e-01, -6.6053e-01,\n",
      "         -1.1440e-01,  9.7502e-02, -1.2081e-01,  2.5778e-01,  3.3579e-01,\n",
      "         -1.7985e-01,  4.5230e-02,  1.9459e-01, -3.4376e-01, -1.4040e-01,\n",
      "         -2.1241e-01,  3.4101e-01, -4.9849e-01, -1.7439e-01, -1.4364e-01,\n",
      "         -1.2248e-01, -4.8320e-01, -2.0704e-02, -2.0023e-01,  3.7962e-01,\n",
      "         -7.1999e-02, -1.9112e-01,  5.8312e-01, -8.4901e-02,  1.3431e-01,\n",
      "          1.8713e-01, -3.0440e-01,  8.5701e-02,  2.4162e-01, -2.1362e-01,\n",
      "         -7.1361e-01,  1.2207e-01, -2.0379e-01, -3.3153e-01,  1.0070e-01,\n",
      "         -9.5165e-02,  4.6764e-01, -9.7230e-04,  1.5240e-01,  3.6973e-01,\n",
      "         -3.4915e-02, -1.9029e-01,  1.1209e-01, -1.7027e-01, -4.1635e-03,\n",
      "          2.6806e-01, -2.6651e-01, -1.7329e-02,  2.2855e-01, -5.1853e-02,\n",
      "          3.7565e-01,  3.4393e-01, -6.6055e-02,  7.7043e-01,  1.4283e-01,\n",
      "         -1.1477e-01, -2.4062e-01,  1.2186e-01, -2.7740e-01, -3.0844e-01,\n",
      "          4.3837e-01,  2.9904e-02, -1.0647e-01,  1.2658e-01, -1.4935e-01,\n",
      "         -5.1508e-01,  1.2918e-01, -1.3797e-01, -4.9954e-02,  4.3150e-01,\n",
      "         -2.4420e-01,  2.5492e-01, -3.0311e-01,  3.2485e-02, -3.6391e-01,\n",
      "         -1.7511e-02,  3.6036e-01,  2.2324e-01, -1.8720e-01, -7.2821e-02,\n",
      "         -2.5326e-01, -5.8680e-02, -1.8183e-01, -7.7643e-02,  1.9195e-01,\n",
      "          1.7136e-01,  2.5629e-01,  4.7251e-01, -1.4875e-01,  1.5067e-01,\n",
      "         -3.9280e-01,  3.0212e-01, -2.2417e-01,  2.6921e-01,  1.5015e-01,\n",
      "         -5.3180e-02, -4.1267e-01,  2.6598e-01,  3.2788e-01,  8.1909e-03,\n",
      "         -7.4102e-01,  1.2842e-01,  7.4036e-02, -1.8921e-01,  4.1071e-02,\n",
      "         -1.9976e-01,  1.5803e-01, -5.3402e-01,  3.7739e-02,  6.8778e-02,\n",
      "         -9.4555e-02, -2.3765e-01, -5.2107e-01, -2.2524e-02,  1.0613e-01,\n",
      "         -7.8983e-02,  1.0434e-01, -1.5355e-01, -1.3477e-01,  2.5050e-02,\n",
      "          1.2627e-01,  1.0559e-01,  4.2717e-01,  5.1611e-02, -9.4068e-02,\n",
      "         -2.5989e-01,  5.0556e-02,  3.9754e-02, -2.1675e-02,  2.2697e-03,\n",
      "          2.3445e-01,  1.6786e-01,  3.8675e-02, -6.1342e+00, -2.7171e-01,\n",
      "          7.6359e-02, -3.3595e-01,  2.5680e-02,  1.4660e-01, -7.4202e-02,\n",
      "          1.4305e-01,  3.0328e-01, -2.0076e-01,  2.0519e-01,  9.2049e-02,\n",
      "         -4.1671e-02,  2.6730e-01, -4.3221e-02,  1.0022e-01,  1.8300e-01,\n",
      "         -2.5380e-01, -2.7381e-01,  3.0335e-01,  1.6273e-01, -4.6845e-01,\n",
      "          5.8773e-02,  1.2645e-01, -1.0112e-01, -3.4032e-02, -1.2248e-01,\n",
      "          2.1298e-01, -2.2246e-01, -2.5956e-01,  7.7921e-02, -1.7054e-01,\n",
      "         -1.5660e-01,  1.7388e-01,  1.4955e-01,  3.8532e-02,  3.5687e-01,\n",
      "         -2.5314e-01,  6.1784e-01,  1.0270e-01,  2.4561e-01,  2.4870e-01,\n",
      "          2.4415e-01, -1.6616e-01,  1.0938e-01, -3.7511e-01,  1.0663e-01,\n",
      "          8.2764e-02,  2.6331e-01,  2.2294e-02, -2.0352e-01, -1.1316e-02,\n",
      "         -3.7393e-01, -2.1715e-02,  3.6224e-01, -2.3957e-02,  2.2163e-01,\n",
      "          8.3271e-02,  6.6888e-02, -7.2348e-02,  4.2999e-03, -4.9804e-01,\n",
      "         -1.8098e-01, -3.2350e-01, -2.6173e-01, -2.6258e-02, -1.6763e-01,\n",
      "         -5.2676e-01,  1.2412e-02, -5.9830e-02,  1.2786e-01,  4.1818e-02,\n",
      "         -9.7386e-02, -3.5546e-01, -1.8053e-01, -2.3903e-01,  9.7011e-02,\n",
      "         -3.0865e-01,  7.8142e-02, -2.8657e-01, -3.1471e-01, -1.5790e-01,\n",
      "          6.8074e-02,  5.9075e-02, -5.9770e-02,  1.0413e-01, -1.5573e-01,\n",
      "         -1.8932e-01, -1.0251e-01,  1.6092e-01,  4.6499e-01, -2.6939e-01,\n",
      "          6.1058e-01,  3.6403e-02,  5.4268e-01, -4.4036e-03,  4.0373e-01,\n",
      "         -1.2337e-01,  1.5222e-01,  4.7154e-02, -3.6378e-02, -3.7342e-01,\n",
      "         -4.3239e-01,  5.5780e-02,  2.1451e-01,  1.4551e-01, -5.6209e-01,\n",
      "         -1.7098e-01,  5.0953e-01, -1.7277e-02, -2.9167e-01, -2.0473e-02,\n",
      "          5.8175e-01,  4.6298e-01, -3.6949e-01,  3.9364e-02,  1.1509e-01,\n",
      "          2.0200e-01,  2.6470e-01,  3.1689e-02, -3.4801e-01,  2.1703e-01,\n",
      "         -3.6615e-01,  5.3925e-01, -1.1918e-01, -1.6184e-01,  4.4873e-02,\n",
      "         -2.9323e-02, -3.0863e-01, -8.3348e-02,  8.3502e-02,  9.9020e-02,\n",
      "         -1.5923e-01,  7.0863e-03,  1.7915e-01, -2.3341e-01,  1.3873e-01,\n",
      "          1.7360e-01,  2.0655e-01, -7.9064e-02,  4.9181e-01, -1.9701e-01,\n",
      "          1.9773e-01, -3.0665e-01,  2.6360e-01, -2.1666e-01, -3.1867e-01,\n",
      "          5.3032e-03, -2.4964e-01,  2.2396e-01, -1.9059e-02, -1.3664e-01,\n",
      "         -7.6098e-02,  5.6505e-01, -2.4736e-01, -1.8904e-01,  1.2135e-01,\n",
      "         -1.3114e-01,  5.0067e-01, -3.5971e-01,  3.3081e-01, -8.1935e-02,\n",
      "          1.0345e-01,  8.4088e-02, -8.6748e-02,  3.4843e-01, -2.9606e-01,\n",
      "          3.6483e-02, -3.6612e-01,  3.0781e-02,  1.8891e-01, -2.2740e-01,\n",
      "         -1.0919e-01, -1.8695e-01,  3.2251e-02, -1.7240e-01,  3.2476e-01,\n",
      "         -6.0704e-02, -8.5001e-01,  1.7556e-01,  2.0898e-01, -2.6264e-01,\n",
      "          5.5236e-02,  3.7243e-01,  1.7980e-01,  3.1973e-01, -2.9054e-02,\n",
      "          1.2909e-01,  1.1693e-02, -5.2066e-02,  3.5839e-02,  3.1903e-01,\n",
      "          1.3582e-01, -3.6606e-01, -2.4010e-01,  1.8055e-02, -2.1237e-02,\n",
      "         -7.7750e-03,  1.0216e-01, -1.5361e-01, -2.0031e-01,  2.0467e-01,\n",
      "         -5.8179e-02, -4.5702e-02,  3.7398e-01, -2.8899e-02, -2.1432e-01,\n",
      "          6.6922e-02, -5.7473e-01,  2.9219e-02,  2.9915e-02, -1.4744e-01,\n",
      "         -1.9837e-01, -5.5437e-01, -4.3005e-02,  1.2076e-01, -3.2953e-02,\n",
      "          1.4458e-01, -6.7592e-02,  1.0034e-01, -3.2730e-01, -9.8673e-02,\n",
      "          5.5000e-02, -2.2364e-01, -2.1675e-01, -1.1321e-01,  1.0128e-02,\n",
      "          3.5109e-02,  2.8616e-01,  1.9889e-02,  2.1345e-01,  1.8070e-02,\n",
      "          2.8869e-01,  3.0914e-01,  1.2236e-01, -3.0335e-01, -2.3958e-01,\n",
      "          3.6557e-01,  3.0519e-01, -1.6931e-01,  1.3822e-01,  5.0858e-02,\n",
      "         -4.5201e-01,  2.3716e-01,  1.9235e-01, -1.3844e-01,  1.1333e-01,\n",
      "         -3.7777e-02, -2.7417e-01,  1.4288e-01, -3.9156e-01, -2.7465e-01,\n",
      "         -5.5169e-02, -1.0402e-01,  1.4072e-01, -1.4642e-01, -4.9338e-03,\n",
      "         -4.7352e-01, -2.2028e-01, -2.2750e-02,  1.5681e-01, -2.0936e-01,\n",
      "         -2.9887e-01,  1.0176e-01,  9.1014e-02, -3.5729e-02, -3.6495e-01,\n",
      "         -1.7328e-01,  3.9914e-01,  1.0767e-01,  1.4969e-01, -3.5831e-01,\n",
      "          2.0871e-01,  1.3875e-01, -7.2010e-02, -1.4937e-01,  2.9135e-01,\n",
      "          3.2185e-02, -1.7740e-01, -5.5156e-02, -1.8150e-02,  2.1559e-01,\n",
      "          7.4366e-02, -2.6265e-01,  1.8542e-01, -1.8300e-01,  1.2985e-01,\n",
      "         -1.6366e-01, -1.3845e-01, -5.2034e-01, -1.8543e-01,  9.5216e-02,\n",
      "         -4.7866e-02,  2.1537e-01, -2.4152e-01, -3.0796e-01, -1.3506e-01,\n",
      "          3.4124e-01, -4.6164e-01, -1.2935e-01, -1.4068e-02,  4.4906e-01,\n",
      "          1.5562e-01, -4.7134e-01, -3.7582e-02,  4.1969e-01,  1.3765e-01,\n",
      "         -4.8661e-01, -3.3333e-01,  2.8441e-02, -2.7880e-01,  2.6508e-01,\n",
      "          1.2961e-01,  6.0916e-01, -1.9162e-01,  1.1447e-01,  1.7899e-01,\n",
      "         -1.7821e-01,  4.8088e-01,  1.3692e-01, -2.6691e-01, -3.4081e-01,\n",
      "          2.6930e-01, -7.4654e-02,  7.4951e-02,  4.2045e-01, -2.3025e-02,\n",
      "          1.4127e-01,  2.6683e-01,  2.3736e-01,  3.7467e-02,  5.2833e-01,\n",
      "          3.9576e-01,  3.3232e-01,  2.1275e-01,  4.1287e-02,  2.6559e-01,\n",
      "          1.7716e-01,  1.1360e-01, -5.2323e-02,  4.2870e-01,  2.3348e-01,\n",
      "         -2.0392e-01,  3.4579e-01, -2.6578e-01,  1.4723e-02,  2.2714e-01,\n",
      "          3.7838e-01, -3.2015e-01,  4.8431e-01,  2.8416e-01,  1.8843e-01,\n",
      "          2.0051e-01,  3.3669e-01,  3.3948e-01,  4.3003e-02,  3.4722e-01,\n",
      "          2.1530e-01, -8.6704e-02,  4.4594e-01,  2.3270e-02,  3.5057e-01,\n",
      "          5.5807e-01, -4.1747e-03, -3.7614e-01,  7.4838e-02, -4.7940e-03,\n",
      "         -4.2615e-01,  2.2688e-01, -3.2127e-02, -1.4085e-01,  2.7905e-01,\n",
      "          5.1343e-02,  4.4068e-01, -6.6014e-02,  1.3613e-01,  1.3164e-01,\n",
      "          1.7026e-01, -1.7729e-01, -2.0599e-01,  1.0228e-01,  1.0607e-02,\n",
      "          5.0674e-02, -1.7498e-01,  1.3387e-01, -1.2407e-01, -3.2976e-01,\n",
      "          4.7711e-01,  1.2785e-01,  8.7475e-03, -1.7183e-01, -1.6162e-01,\n",
      "          2.6484e-01, -1.2487e-01,  3.0112e-01, -9.8672e-02, -2.8225e-01,\n",
      "          6.4881e-02,  2.9548e-01,  1.2633e-01,  1.7670e-01, -3.9135e-01,\n",
      "          1.2815e-01,  1.6161e-02, -5.1573e-01,  3.8944e-02,  3.4107e-02,\n",
      "         -2.5413e-01, -5.5204e-01, -3.2110e-01,  2.6601e-01,  2.0932e-02,\n",
      "         -3.0269e-01,  1.6116e-01, -1.9824e-01,  1.0749e-01,  8.2291e-02,\n",
      "          4.4860e-02,  3.1267e-01,  8.6037e-02, -1.9436e-01,  1.5065e-01,\n",
      "          4.5053e-01,  1.5833e-01, -2.9300e-01,  3.5611e-01,  6.9409e-02,\n",
      "          1.1467e-01, -3.9455e-01, -2.1045e-01, -1.2631e-01,  3.2130e-01,\n",
      "         -1.5739e-01,  1.9176e-01, -4.8209e-02, -2.1805e-01, -1.2658e-01,\n",
      "          1.6907e-01,  8.7068e-02, -3.9406e-01, -2.7322e-01,  5.9803e-02,\n",
      "         -2.0496e-01, -8.9402e-03, -1.5829e-01,  6.6494e-02, -7.1322e-02,\n",
      "         -1.0029e-01, -6.5987e-02, -4.3911e-01,  2.3100e-01, -7.0588e-02,\n",
      "         -1.3367e-01,  6.5173e-02, -1.1276e-01,  2.0579e-01,  3.3068e-01,\n",
      "         -2.9845e-01, -3.5779e-01,  1.5785e-01]])\n",
      "Embedding for sentence 4: tensor([[ 2.7937e-01, -2.4364e-01,  4.6097e-02,  3.5933e-01,  2.9274e-01,\n",
      "          5.2959e-02,  2.4070e-01,  5.4842e-01,  5.1142e-02, -7.3454e-01,\n",
      "         -4.6970e-02,  2.8398e-02, -2.9941e-01,  5.3239e-02, -3.6573e-02,\n",
      "         -3.2970e-01, -2.0332e-01,  1.9199e-01, -2.4899e-02,  5.2528e-01,\n",
      "         -2.3062e-01,  4.1477e-02, -6.1353e-02,  1.4547e-01,  7.5479e-02,\n",
      "         -9.6551e-03, -1.4305e-01,  1.6908e-01, -3.1316e-01,  1.5400e-01,\n",
      "         -1.6320e-02, -2.3643e-01,  8.7184e-02,  2.9649e-02, -2.7193e-02,\n",
      "         -2.9644e-01, -5.6226e-01,  6.6012e-03, -2.9796e-01,  1.7225e-01,\n",
      "         -7.0480e-02,  1.6317e-01, -7.2808e-02, -1.6551e-01, -3.0224e-01,\n",
      "         -2.3694e-01, -1.9617e-01,  1.5062e-01, -2.0935e-01, -1.8570e-03,\n",
      "         -5.1518e-01,  2.7543e-01, -1.7600e-03,  1.9719e-01, -7.6108e-05,\n",
      "          1.5136e-01,  5.4096e-01, -5.1700e-02, -3.4603e-01, -3.2902e-01,\n",
      "          2.5182e-01, -1.0779e-01, -7.3573e-02,  2.2581e-01, -1.6635e-02,\n",
      "         -1.4445e-01,  3.5772e-01,  7.3193e-02, -3.1676e-01, -1.6198e-01,\n",
      "          9.0212e-02,  4.3270e-02, -4.4130e-01, -1.8708e-01, -4.7254e-01,\n",
      "         -1.4355e-01, -5.0968e-02,  8.7875e-02,  4.9449e-01, -3.9699e-01,\n",
      "         -3.9913e-01,  6.0000e-01,  1.9775e-01, -1.2404e-01,  2.9978e-01,\n",
      "          5.4344e-02,  6.2773e-02,  5.6414e-01, -1.2127e-01, -1.0728e-01,\n",
      "         -5.5393e-02, -2.1260e-01, -7.7384e-02,  4.3268e-01,  5.3466e-01,\n",
      "          1.3179e-01, -4.2708e-01, -2.3029e-01, -1.6273e-01, -3.3682e-03,\n",
      "          8.1577e-02, -5.4108e-01,  9.2351e-02, -5.9407e-02,  4.8969e-03,\n",
      "         -7.0665e-02, -1.1765e-01, -5.9559e-01, -5.5360e-02, -1.6018e-02,\n",
      "         -6.6314e-02,  1.5940e-04,  2.0218e-02, -7.5437e-03, -1.3222e-01,\n",
      "          3.3234e-01,  3.1192e-01,  6.7215e-02,  1.7479e-01, -6.5961e-02,\n",
      "          1.6013e-01,  2.1062e-01, -1.3700e-01,  5.7213e-01, -2.8194e-01,\n",
      "         -4.6523e-02, -2.0306e-01, -1.3352e-01,  6.2107e-02, -4.3729e-01,\n",
      "          5.1439e-01,  4.1113e-01,  1.5719e-01, -8.9525e-03,  1.0502e-01,\n",
      "          5.6749e-02, -4.0731e-02,  6.8323e-02,  1.5447e-01, -2.0231e-01,\n",
      "          8.6694e-02,  1.5384e-02,  6.1676e-01,  1.6923e-01,  2.0449e-01,\n",
      "         -2.2869e-02, -2.3532e-01, -2.2612e-01, -5.0640e-02, -2.9385e-01,\n",
      "         -3.6477e-01,  4.2562e-01, -4.2446e-01, -4.1612e-01,  2.1556e-01,\n",
      "          4.0485e-01, -1.9156e-01,  2.8083e-01,  9.6046e-02,  6.5880e-02,\n",
      "         -4.9961e-02, -9.8434e-02, -2.2310e-01, -1.7826e-01, -1.8342e-01,\n",
      "         -1.1896e-01,  3.4548e-01,  6.0186e-01,  3.0161e-01, -6.9323e-02,\n",
      "         -2.7485e-01, -6.7353e-02,  6.0093e-01, -5.9784e-02, -3.4379e-01,\n",
      "         -3.2587e-02,  1.5584e-01,  1.6437e-01, -1.2633e-01,  3.5476e-01,\n",
      "         -1.2511e-01, -1.7676e-01, -5.0139e-02, -4.7608e-01,  1.3568e-01,\n",
      "         -4.8522e-01,  2.7595e-01, -2.8847e-01,  2.1998e-01,  1.1138e-01,\n",
      "         -2.8116e-01, -2.5945e-01,  1.3909e-01, -1.6407e-01, -1.9196e-02,\n",
      "         -1.8007e-01,  6.3824e-02,  1.9318e-01,  9.8778e-03, -7.9384e-02,\n",
      "          7.0581e-02, -3.1408e-01, -7.9358e-03,  1.3847e-01,  9.3015e-02,\n",
      "         -3.5839e-01,  8.1830e-02, -1.5565e-01, -4.9025e-01, -1.6915e-01,\n",
      "         -3.9098e-01,  4.1207e-01, -7.2996e-02,  2.3064e-01,  1.5930e-01,\n",
      "         -5.5256e-02, -3.2734e-01,  1.8055e-01, -4.0784e-01,  1.2005e-02,\n",
      "          3.4969e-01, -2.5812e-01,  2.9237e-02,  2.1788e-01,  2.2657e-01,\n",
      "          3.9387e-01,  3.6907e-01,  7.4491e-02,  7.0406e-01, -2.6379e-02,\n",
      "         -3.2177e-01, -3.0642e-01, -8.5166e-02, -2.4092e-01, -1.7774e-01,\n",
      "          2.7404e-01,  1.2305e-01, -1.8655e-01, -7.1612e-02, -1.8885e-01,\n",
      "         -3.5115e-01, -6.2598e-02, -3.8424e-01,  3.9440e-01,  2.6201e-01,\n",
      "         -2.8226e-02,  2.6709e-01, -2.3625e-01, -1.0399e-01, -2.6031e-01,\n",
      "         -2.0517e-01,  2.7869e-01,  2.7612e-01,  5.9924e-02, -7.3792e-02,\n",
      "         -4.9051e-01, -1.9263e-01,  4.4965e-02,  1.3927e-01,  3.3625e-01,\n",
      "          3.7593e-01, -2.0548e-02,  3.1238e-01, -2.1308e-01,  1.1693e-01,\n",
      "         -6.9427e-01, -4.7293e-02, -3.1711e-01,  2.1873e-01,  5.6094e-02,\n",
      "         -1.2265e-01, -3.5569e-01,  2.9812e-01,  2.8808e-01, -1.8462e-02,\n",
      "         -6.2332e-01,  2.8767e-01,  1.2681e-01, -1.1591e-01,  6.4395e-02,\n",
      "         -2.5060e-01,  4.0647e-01, -2.4616e-01, -6.1305e-02,  2.3443e-01,\n",
      "         -1.3396e-01, -2.5596e-01, -4.1218e-01, -1.7192e-01, -1.6752e-02,\n",
      "         -6.5186e-02,  3.0836e-01,  1.7841e-02, -3.5910e-01,  4.7853e-01,\n",
      "          2.6503e-01,  6.0044e-02,  1.1875e-01,  9.3956e-02,  9.6773e-02,\n",
      "         -3.0327e-01,  1.0776e-01,  7.0061e-02, -9.8087e-02,  3.0263e-02,\n",
      "          1.0110e-01,  1.4035e-01,  3.2829e-02, -6.2188e+00, -2.2123e-01,\n",
      "          1.7099e-01, -1.1522e-01, -3.8926e-01,  5.6869e-02,  2.0772e-01,\n",
      "          2.8302e-01,  9.6476e-02, -2.5393e-01,  3.2319e-02,  1.7640e-01,\n",
      "         -5.6303e-03,  2.8812e-01, -4.1061e-02,  2.3870e-01,  4.1828e-01,\n",
      "         -3.0842e-01, -3.5132e-01,  2.6600e-01, -1.2705e-01, -4.7319e-01,\n",
      "          1.2580e-01,  2.2595e-01, -1.9268e-01, -2.3109e-01, -9.5693e-03,\n",
      "          9.6999e-03, -1.0176e-01, -1.2443e-01, -6.6911e-02,  2.9090e-03,\n",
      "         -2.4261e-01, -1.0007e-01,  3.2818e-01,  1.0994e-01,  1.3165e-01,\n",
      "         -2.2183e-01,  5.0473e-01,  8.7120e-02,  4.3475e-02,  3.1432e-01,\n",
      "          1.4823e-02, -2.8333e-01,  1.8514e-01, -2.8178e-01,  3.5540e-01,\n",
      "          3.1666e-01,  9.9409e-02,  1.4784e-01,  1.7690e-01, -9.9382e-03,\n",
      "         -7.0860e-02, -2.9751e-01,  4.7499e-02,  1.1791e-01,  4.1437e-01,\n",
      "          4.1195e-02,  1.1098e-01, -4.1967e-01,  9.5404e-02, -3.2787e-01,\n",
      "         -3.2022e-02,  1.8250e-02, -1.4755e-01, -2.0140e-02, -1.0509e-01,\n",
      "         -6.8304e-01, -1.0357e-01,  7.6275e-02, -1.4100e-01,  2.0156e-01,\n",
      "          2.4379e-01, -5.7792e-01, -1.2665e-01,  2.0919e-02, -2.0939e-02,\n",
      "         -1.6608e-01,  2.3029e-01,  1.2355e-02, -1.4106e-01, -3.5878e-01,\n",
      "         -9.9886e-02, -1.4746e-01,  1.5938e-01, -1.3955e-01, -5.8252e-02,\n",
      "         -1.1366e-01, -1.9554e-01,  3.5182e-01,  4.0435e-01, -1.3185e-01,\n",
      "          7.3861e-01,  1.0116e-01,  1.0885e+00,  4.1058e-02,  2.8361e-01,\n",
      "         -1.5809e-01,  6.2124e-03,  5.3615e-03, -6.7343e-02, -3.5477e-01,\n",
      "         -9.0402e-02,  4.5279e-02,  9.0256e-02,  2.5783e-01, -3.2514e-01,\n",
      "         -1.5649e-01,  4.3376e-01, -1.6590e-01, -2.7732e-01,  2.3080e-01,\n",
      "          4.2119e-01,  4.2261e-01, -2.6889e-01, -2.4417e-01, -5.7719e-02,\n",
      "          2.7378e-01,  2.5112e-01, -1.0124e-01, -3.1382e-01,  6.7510e-01,\n",
      "         -2.1952e-01,  2.2865e-01, -2.0618e-01,  1.7797e-01,  6.0485e-02,\n",
      "         -1.0998e-01, -5.2215e-02, -1.5721e-01,  9.3086e-02,  2.2362e-01,\n",
      "         -4.2786e-02,  1.2222e-02, -5.4032e-02,  4.2754e-02,  2.1251e-01,\n",
      "          2.2063e-01, -1.0952e-01,  1.9300e-01,  2.8503e-01, -7.4966e-02,\n",
      "          2.7588e-01, -3.5450e-01,  4.5290e-02, -2.5471e-01, -2.5423e-01,\n",
      "          2.0782e-01,  5.6896e-02,  3.5000e-01, -1.6586e-01, -3.8275e-01,\n",
      "          1.5214e-01,  2.8713e-01, -1.8994e-01, -1.9920e-01,  2.2518e-01,\n",
      "         -2.2871e-01,  4.6720e-01, -4.3857e-01,  7.5144e-02, -5.5827e-02,\n",
      "         -2.8007e-01,  2.9847e-01,  2.5051e-01,  7.9693e-01, -2.4758e-01,\n",
      "         -1.0517e-01, -3.9474e-01, -1.2311e-01,  3.9090e-01, -1.8883e-01,\n",
      "         -2.7855e-01, -1.6399e-01, -1.4800e-01, -1.1967e-01,  4.3390e-01,\n",
      "         -3.7643e-01, -7.1602e-01,  5.4430e-02,  3.5602e-01, -1.9056e-01,\n",
      "          2.1544e-01, -1.4190e-01,  1.6598e-01,  3.9963e-01,  9.4462e-02,\n",
      "          6.0522e-02,  2.7150e-02,  4.8949e-02,  2.5773e-01,  2.0641e-01,\n",
      "          1.9909e-01, -4.8336e-01, -1.3784e-01,  2.9818e-01,  1.1263e-01,\n",
      "         -2.7708e-01,  4.4964e-01, -8.3933e-02, -4.7863e-02, -6.3625e-02,\n",
      "         -2.9999e-01, -1.1713e-01,  3.0845e-01, -1.0436e-01, -3.2187e-01,\n",
      "         -4.2271e-02, -4.3919e-01, -3.7684e-02, -2.0743e-01, -7.2322e-02,\n",
      "         -2.5163e-01, -3.2428e-01, -1.0278e-01,  1.9373e-01,  1.1995e-01,\n",
      "          1.3110e-01, -4.3940e-01,  1.7210e-01, -2.0384e-01, -2.1683e-01,\n",
      "          4.5626e-02, -1.4938e-02, -2.6427e-01, -5.6408e-02, -1.6496e-01,\n",
      "          4.4161e-02,  1.2593e-01, -3.0265e-01,  8.2150e-02,  2.6803e-01,\n",
      "         -8.4311e-02,  3.0966e-01, -5.1362e-02, -1.5765e-01, -1.9777e-01,\n",
      "          1.7595e-01, -2.3170e-01, -3.2461e-01, -1.5620e-01, -3.2570e-01,\n",
      "         -5.8279e-01,  2.4747e-01,  2.4800e-01,  2.0313e-01,  4.9831e-03,\n",
      "          1.8740e-01,  4.2731e-02,  6.1809e-02, -6.0718e-02, -7.9153e-02,\n",
      "         -1.3033e-01, -6.2201e-02, -3.6973e-02, -2.7787e-01,  8.3262e-02,\n",
      "         -4.2422e-01, -1.8289e-01, -1.9108e-01, -1.4406e-01, -1.8599e-01,\n",
      "         -2.3205e-01, -2.0561e-01,  3.6314e-02,  7.6272e-02, -3.2844e-01,\n",
      "         -5.7100e-01,  4.4683e-01, -2.9716e-02,  6.9830e-02, -1.7785e-02,\n",
      "          1.8881e-01,  3.0402e-01, -3.1657e-02, -1.1326e-01,  2.0337e-01,\n",
      "         -1.3284e-02, -2.9706e-01, -2.6666e-01,  2.4491e-01,  3.7269e-01,\n",
      "          5.8581e-02, -2.3854e-01, -6.3296e-02, -3.2812e-01,  7.5557e-02,\n",
      "         -1.3729e-01,  3.7714e-02, -3.2924e-01, -1.7716e-01, -2.9007e-01,\n",
      "          1.4368e-02,  4.0519e-01,  4.7371e-02, -7.4034e-02, -3.6032e-01,\n",
      "         -4.3468e-02, -4.3289e-01, -1.6978e-01,  9.4601e-02,  4.3158e-01,\n",
      "          1.9301e-01, -3.0452e-01,  1.1510e-01,  4.8104e-01,  1.3024e-01,\n",
      "          8.1300e-02, -2.3866e-01,  1.3162e-01, -7.0313e-02,  7.9454e-02,\n",
      "          1.5527e-01,  5.4539e-01, -5.4375e-01,  1.9441e-01,  1.1673e-01,\n",
      "         -1.1391e-01,  5.3316e-01,  3.0585e-01, -5.4397e-01, -7.4283e-02,\n",
      "          2.4268e-01, -1.2501e-01,  3.6229e-01,  3.1418e-01, -1.1725e-01,\n",
      "          1.1144e-01, -8.6442e-02,  3.0329e-01, -6.2913e-02,  6.2037e-01,\n",
      "          3.6101e-01,  3.1252e-01,  4.5864e-01,  1.3956e-01,  3.8846e-01,\n",
      "          2.6129e-01, -9.6016e-02,  3.0221e-02,  4.6896e-01,  6.2603e-02,\n",
      "         -2.2148e-01,  3.7130e-01, -3.0262e-01,  5.9497e-02, -3.8224e-02,\n",
      "          4.5861e-01, -5.3863e-01,  3.6850e-01,  1.7941e-01,  9.8616e-02,\n",
      "         -2.1755e-02,  4.0041e-01,  2.6776e-02, -2.9080e-01,  5.0429e-01,\n",
      "          3.0043e-01, -7.9880e-02,  4.8526e-01,  6.8318e-02,  5.0063e-01,\n",
      "          6.2201e-01, -2.9178e-01, -1.5752e-01,  3.1111e-01,  9.4488e-02,\n",
      "         -3.6550e-01,  1.0387e-01,  1.9539e-01, -3.0563e-02,  2.9282e-01,\n",
      "         -1.0800e-02,  3.8834e-01,  1.6799e-01,  2.6779e-01,  8.8870e-02,\n",
      "         -1.7298e-01, -2.0963e-01, -4.8276e-02, -5.6956e-02,  5.6233e-02,\n",
      "         -9.0541e-02, -7.5190e-02,  2.2566e-01, -6.0387e-02, -3.6606e-01,\n",
      "          2.9773e-01,  5.7107e-02, -2.0361e-01, -2.0845e-01, -1.2939e-01,\n",
      "          4.5018e-02, -7.2764e-03,  1.0671e-01, -5.4207e-02, -3.7688e-01,\n",
      "         -2.1028e-01,  4.2807e-01,  1.5764e-01,  3.9526e-01, -4.3452e-01,\n",
      "          4.8254e-02, -1.7382e-01, -4.7730e-01, -2.4054e-01, -3.4439e-02,\n",
      "         -3.1165e-01, -5.8947e-01, -2.7075e-01,  1.6383e-01, -2.9255e-01,\n",
      "         -3.6655e-01,  2.9740e-01, -5.0471e-01,  1.3395e-01,  1.3453e-01,\n",
      "          7.9313e-02,  1.6761e-01, -4.9985e-02, -1.1841e-01,  2.4010e-01,\n",
      "          1.9319e-01,  1.6105e-01, -1.0682e-03,  2.2226e-01, -1.2963e-01,\n",
      "          2.0621e-01, -3.8164e-01,  1.7320e-01, -2.1992e-01,  2.6967e-02,\n",
      "         -1.7623e-01,  1.1781e-01,  3.4560e-02, -6.1998e-02, -9.5464e-02,\n",
      "          1.4934e-01, -1.9754e-02, -4.3990e-01, -2.5093e-01,  1.4372e-03,\n",
      "          2.6312e-01, -1.4998e-01, -1.3331e-01,  1.1277e-02, -2.6384e-01,\n",
      "          4.3103e-01, -1.3085e-01,  8.1497e-02,  1.6328e-01,  3.1470e-02,\n",
      "         -6.3170e-02,  6.4996e-02,  4.3509e-02,  1.5354e-01,  3.2083e-01,\n",
      "         -1.9594e-01,  2.2376e-02, -4.9877e-02]])\n"
     ]
    }
   ],
   "source": [
    "from transformers import BertTokenizer, BertModel\n",
    "import torch\n",
    "\n",
    "def generate_bert_embeddings(texts):\n",
    "    \"\"\"\n",
    "    Generates BERT embeddings for a list of texts.\n",
    "\n",
    "    Parameters:\n",
    "    texts (list of str): List of sentences or documents.\n",
    "\n",
    "    Returns:\n",
    "    embeddings (list of torch.Tensor): List of embeddings for each sentence.\n",
    "    \"\"\"\n",
    "    \n",
    "    # Load pre-trained BERT tokenizer and model\n",
    "    tokenizer = BertTokenizer.from_pretrained('bert-base-uncased')\n",
    "    model = BertModel.from_pretrained('bert-base-uncased')\n",
    "\n",
    "    # Initialize an empty list to store embeddings\n",
    "    embeddings = []\n",
    "\n",
    "    # Loop through each text\n",
    "    for text in texts:\n",
    "        # Tokenize the text and obtain input IDs and attention masks\n",
    "        inputs = tokenizer(text, return_tensors='pt', max_length=512, truncation=True, padding='max_length')\n",
    "        input_ids = inputs['input_ids']\n",
    "        attention_mask = inputs['attention_mask']\n",
    "\n",
    "        # Get the output from BERT\n",
    "        with torch.no_grad():\n",
    "            outputs = model(input_ids, attention_mask=attention_mask)\n",
    "\n",
    "        # Obtain the embeddings from the last hidden state\n",
    "        last_hidden_state = outputs.last_hidden_state\n",
    "\n",
    "        # Aggregate word embeddings to get a sentence-level embedding (mean pooling)\n",
    "        sentence_embedding = torch.mean(last_hidden_state, dim=1)\n",
    "\n",
    "        # Append the sentence embedding to the list\n",
    "        embeddings.append(sentence_embedding)\n",
    "\n",
    "    return embeddings\n",
    "\n",
    "# Example usage\n",
    "texts = [\n",
    "    \"I love machine learning and deep learning.\",\n",
    "    \"Deep learning and machine learning are fascinating fields!\",\n",
    "    \"Natural language processing is a key area of AI.\",\n",
    "    \"AI and machine learning can transform the world.\"\n",
    "]\n",
    "\n",
    "# Generate BERT embeddings for the texts\n",
    "embeddings = generate_bert_embeddings(texts)\n",
    "\n",
    "\n"
   ]
  },
  {
   "cell_type": "code",
   "execution_count": 4,
   "id": "2d6070d4",
   "metadata": {},
   "outputs": [
    {
     "name": "stdout",
     "output_type": "stream",
     "text": [
      "Embedding for sentence 1: 768\n",
      "Embedding for sentence 2: 768\n",
      "Embedding for sentence 3: 768\n",
      "Embedding for sentence 4: 768\n"
     ]
    }
   ],
   "source": [
    "for i, embedding in enumerate(embeddings):\n",
    "    print(f\"Embedding for sentence {i+1}: {len(embedding[0])}\")"
   ]
  },
  {
   "cell_type": "code",
   "execution_count": 2,
   "id": "006d9097",
   "metadata": {},
   "outputs": [],
   "source": [
    "#pip install torch torchvision torchaudio --index-url https://download.pytorch.org/whl/cu117\n"
   ]
  },
  {
   "cell_type": "code",
   "execution_count": 319,
   "id": "44ec04fe",
   "metadata": {},
   "outputs": [],
   "source": [
    "import tensorflow as tf \n",
    "from tensorflow.keras.preprocessing import sequence\n",
    "\n",
    "vocab_size = 1000\n",
    "(x_train, y_train), (x_test, y_test) = tf.keras.datasets.imdb.load_data(num_words=vocab_size)\n",
    "\n",
    "class_names = [\"Negative\", \"Positive\"]"
   ]
  },
  {
   "cell_type": "code",
   "execution_count": 320,
   "id": "2b8a95ab",
   "metadata": {},
   "outputs": [
    {
     "data": {
      "text/plain": [
       "array([list([1, 14, 22, 16, 43, 530, 973, 2, 2, 65, 458, 2, 66, 2, 4, 173, 36, 256, 5, 25, 100, 43, 838, 112, 50, 670, 2, 9, 35, 480, 284, 5, 150, 4, 172, 112, 167, 2, 336, 385, 39, 4, 172, 2, 2, 17, 546, 38, 13, 447, 4, 192, 50, 16, 6, 147, 2, 19, 14, 22, 4, 2, 2, 469, 4, 22, 71, 87, 12, 16, 43, 530, 38, 76, 15, 13, 2, 4, 22, 17, 515, 17, 12, 16, 626, 18, 2, 5, 62, 386, 12, 8, 316, 8, 106, 5, 4, 2, 2, 16, 480, 66, 2, 33, 4, 130, 12, 16, 38, 619, 5, 25, 124, 51, 36, 135, 48, 25, 2, 33, 6, 22, 12, 215, 28, 77, 52, 5, 14, 407, 16, 82, 2, 8, 4, 107, 117, 2, 15, 256, 4, 2, 7, 2, 5, 723, 36, 71, 43, 530, 476, 26, 400, 317, 46, 7, 4, 2, 2, 13, 104, 88, 4, 381, 15, 297, 98, 32, 2, 56, 26, 141, 6, 194, 2, 18, 4, 226, 22, 21, 134, 476, 26, 480, 5, 144, 30, 2, 18, 51, 36, 28, 224, 92, 25, 104, 4, 226, 65, 16, 38, 2, 88, 12, 16, 283, 5, 16, 2, 113, 103, 32, 15, 16, 2, 19, 178, 32]),\n",
       "       list([1, 194, 2, 194, 2, 78, 228, 5, 6, 2, 2, 2, 134, 26, 4, 715, 8, 118, 2, 14, 394, 20, 13, 119, 954, 189, 102, 5, 207, 110, 2, 21, 14, 69, 188, 8, 30, 23, 7, 4, 249, 126, 93, 4, 114, 9, 2, 2, 5, 647, 4, 116, 9, 35, 2, 4, 229, 9, 340, 2, 4, 118, 9, 4, 130, 2, 19, 4, 2, 5, 89, 29, 952, 46, 37, 4, 455, 9, 45, 43, 38, 2, 2, 398, 4, 2, 26, 2, 5, 163, 11, 2, 2, 4, 2, 9, 194, 775, 7, 2, 2, 349, 2, 148, 605, 2, 2, 15, 123, 125, 68, 2, 2, 15, 349, 165, 2, 98, 5, 4, 228, 9, 43, 2, 2, 15, 299, 120, 5, 120, 174, 11, 220, 175, 136, 50, 9, 2, 228, 2, 5, 2, 656, 245, 2, 5, 4, 2, 131, 152, 491, 18, 2, 32, 2, 2, 14, 9, 6, 371, 78, 22, 625, 64, 2, 9, 8, 168, 145, 23, 4, 2, 15, 16, 4, 2, 5, 28, 6, 52, 154, 462, 33, 89, 78, 285, 16, 145, 95]),\n",
       "       list([1, 14, 47, 8, 30, 31, 7, 4, 249, 108, 7, 4, 2, 54, 61, 369, 13, 71, 149, 14, 22, 112, 4, 2, 311, 12, 16, 2, 33, 75, 43, 2, 296, 4, 86, 320, 35, 534, 19, 263, 2, 2, 4, 2, 33, 89, 78, 12, 66, 16, 4, 360, 7, 4, 58, 316, 334, 11, 4, 2, 43, 645, 662, 8, 257, 85, 2, 42, 2, 2, 83, 68, 2, 15, 36, 165, 2, 278, 36, 69, 2, 780, 8, 106, 14, 2, 2, 18, 6, 22, 12, 215, 28, 610, 40, 6, 87, 326, 23, 2, 21, 23, 22, 12, 272, 40, 57, 31, 11, 4, 22, 47, 6, 2, 51, 9, 170, 23, 595, 116, 595, 2, 13, 191, 79, 638, 89, 2, 14, 9, 8, 106, 607, 624, 35, 534, 6, 227, 7, 129, 113]),\n",
       "       list([1, 4, 2, 2, 33, 2, 4, 2, 432, 111, 153, 103, 4, 2, 13, 70, 131, 67, 11, 61, 2, 744, 35, 2, 761, 61, 2, 452, 2, 4, 985, 7, 2, 59, 166, 4, 105, 216, 2, 41, 2, 9, 15, 7, 35, 744, 2, 31, 8, 4, 687, 23, 4, 2, 2, 6, 2, 42, 38, 39, 121, 59, 456, 10, 10, 7, 265, 12, 575, 111, 153, 159, 59, 16, 2, 21, 25, 586, 482, 39, 4, 96, 59, 716, 12, 4, 172, 65, 9, 579, 11, 2, 4, 2, 5, 2, 7, 2, 17, 13, 2, 12, 19, 6, 464, 31, 314, 11, 2, 6, 719, 605, 11, 8, 202, 27, 310, 4, 2, 2, 8, 2, 58, 10, 10, 537, 2, 180, 40, 14, 413, 173, 7, 263, 112, 37, 152, 377, 4, 537, 263, 846, 579, 178, 54, 75, 71, 476, 36, 413, 263, 2, 182, 5, 17, 75, 2, 922, 36, 279, 131, 2, 17, 2, 42, 17, 35, 921, 2, 192, 5, 2, 2, 19, 2, 217, 2, 2, 537, 2, 2, 5, 736, 10, 10, 61, 403, 9, 2, 40, 61, 2, 5, 27, 2, 159, 90, 263, 2, 2, 309, 8, 178, 5, 82, 2, 4, 65, 15, 2, 145, 143, 2, 12, 2, 537, 746, 537, 537, 15, 2, 4, 2, 594, 7, 2, 94, 2, 2, 2, 11, 2, 4, 538, 7, 2, 246, 2, 9, 2, 11, 635, 14, 9, 51, 408, 12, 94, 318, 2, 12, 47, 6, 2, 936, 5, 2, 2, 19, 49, 7, 4, 2, 2, 2, 25, 80, 126, 842, 10, 10, 2, 2, 2, 27, 2, 11, 2, 2, 159, 27, 341, 29, 2, 19, 2, 173, 7, 90, 2, 8, 30, 11, 4, 2, 86, 2, 8, 2, 46, 11, 2, 21, 29, 9, 2, 23, 4, 2, 2, 793, 6, 2, 2, 2, 10, 10, 246, 50, 9, 6, 2, 2, 746, 90, 29, 2, 8, 124, 4, 882, 4, 882, 496, 27, 2, 2, 537, 121, 127, 2, 130, 5, 29, 494, 8, 124, 4, 882, 496, 4, 341, 7, 27, 846, 10, 10, 29, 9, 2, 8, 97, 6, 236, 2, 2, 8, 4, 2, 7, 31, 7, 2, 91, 2, 2, 70, 4, 882, 30, 579, 42, 9, 12, 32, 11, 537, 10, 10, 11, 14, 65, 44, 537, 75, 2, 2, 2, 2, 2, 4, 2, 7, 154, 5, 4, 518, 53, 2, 2, 7, 2, 882, 11, 399, 38, 75, 257, 2, 19, 2, 17, 29, 456, 4, 65, 7, 27, 205, 113, 10, 10, 2, 4, 2, 2, 9, 242, 4, 91, 2, 2, 5, 2, 307, 22, 7, 2, 126, 93, 40, 2, 13, 188, 2, 2, 19, 4, 2, 7, 2, 537, 23, 53, 537, 21, 82, 40, 2, 13, 2, 14, 280, 13, 219, 4, 2, 431, 758, 859, 4, 953, 2, 2, 7, 2, 5, 94, 40, 25, 238, 60, 2, 4, 2, 804, 2, 7, 4, 2, 132, 8, 67, 6, 22, 15, 9, 283, 8, 2, 14, 31, 9, 242, 955, 48, 25, 279, 2, 23, 12, 2, 195, 25, 238, 60, 796, 2, 4, 671, 7, 2, 5, 4, 559, 154, 888, 7, 726, 50, 26, 49, 2, 15, 566, 30, 579, 21, 64, 2]),\n",
       "       list([1, 249, 2, 7, 61, 113, 10, 10, 13, 2, 14, 20, 56, 33, 2, 18, 457, 88, 13, 2, 2, 45, 2, 13, 70, 79, 49, 706, 919, 13, 16, 355, 340, 355, 2, 96, 143, 4, 22, 32, 289, 7, 61, 369, 71, 2, 5, 13, 16, 131, 2, 249, 114, 249, 229, 249, 20, 13, 28, 126, 110, 13, 473, 8, 569, 61, 419, 56, 429, 6, 2, 18, 35, 534, 95, 474, 570, 5, 25, 124, 138, 88, 12, 421, 2, 52, 725, 2, 61, 419, 11, 13, 2, 15, 2, 20, 11, 4, 2, 5, 296, 12, 2, 5, 15, 421, 128, 74, 233, 334, 207, 126, 224, 12, 562, 298, 2, 2, 7, 2, 5, 516, 988, 43, 8, 79, 120, 15, 595, 13, 784, 25, 2, 18, 165, 170, 143, 19, 14, 5, 2, 6, 226, 251, 7, 61, 113])],\n",
       "      dtype=object)"
      ]
     },
     "execution_count": 320,
     "metadata": {},
     "output_type": "execute_result"
    }
   ],
   "source": [
    "x_train[:5]"
   ]
  },
  {
   "cell_type": "code",
   "execution_count": null,
   "id": "80c72b93",
   "metadata": {},
   "outputs": [],
   "source": []
  },
  {
   "cell_type": "markdown",
   "id": "06ef26c6",
   "metadata": {},
   "source": [
    "# WIne Classification"
   ]
  },
  {
   "cell_type": "code",
   "execution_count": 252,
   "id": "18505e15",
   "metadata": {},
   "outputs": [
    {
     "data": {
      "text/plain": [
       "((700, 4), (700,))"
      ]
     },
     "execution_count": 252,
     "metadata": {},
     "output_type": "execute_result"
    }
   ],
   "source": [
    "import pandas as pd\n",
    "from sklearn.model_selection import train_test_split\n",
    "\n",
    "# Step 1: Load the dataset\n",
    "url = \"https://raw.githubusercontent.com/jbrownlee/Datasets/master/pima-indians-diabetes.data.csv\"\n",
    "columns = [\"Pregnancies\", \"Glucose\", \"BloodPressure\", \"SkinThickness\", \"Insulin\", \n",
    "           \"BMI\", \"DiabetesPedigreeFunction\", \"Age\", \"Class\"]\n",
    "df = pd.read_csv(url, header=None, names=columns)\n",
    "\n",
    "df = df.astype(float)\n",
    "\n",
    "# Step 2: Select four features and the target\n",
    "selected_features = [\"Pregnancies\", \"Glucose\", \"BloodPressure\", \"BMI\"]\n",
    "X = df[selected_features]\n",
    "Y = np.array(df[\"Class\"].apply(lambda x: -1.0 if x == 0 else 1.0))\n",
    "#Y = np.array(df[\"Class\"])\n",
    "\n",
    "X = X[:700]\n",
    "Y = Y[:700]\n",
    "\n",
    "X.shape,Y.shape\n",
    "# Your data is now ready for modeling\n"
   ]
  },
  {
   "cell_type": "code",
   "execution_count": 253,
   "id": "bcb7dfef",
   "metadata": {},
   "outputs": [],
   "source": [
    "X = np.array(X)"
   ]
  },
  {
   "cell_type": "code",
   "execution_count": 254,
   "id": "68a03ccc",
   "metadata": {},
   "outputs": [
    {
     "name": "stdout",
     "output_type": "stream",
     "text": [
      "First X sample (original)  : [  6.  148.   72.   33.6]\n",
      "First X sample (normalized): [0.35294118 0.74371859 0.59016393 0.50074516]\n",
      "First features sample      : [2.21759481 4.67292174 3.70810936 3.14627461]\n"
     ]
    }
   ],
   "source": [
    "#normalization = np.sqrt(np.sum(X**2, -1))\n",
    "from sklearn.preprocessing import MinMaxScaler\n",
    "\n",
    "scaler = MinMaxScaler()\n",
    "X_norm = scaler.fit_transform(X)\n",
    "#X_norm = (X.T / normalization).T\n",
    "print(f\"First X sample (original)  : {X[0]}\")\n",
    "print(f\"First X sample (normalized): {X_norm[0]}\")\n",
    "\n",
    "# the angles for state preparation are the features\n",
    "#features = np.array([get_angles(x) for x in X_norm], requires_grad=False)\n",
    "features = 2*np.pi*X_norm\n",
    "print(f\"First features sample      : {features[0]}\")\n",
    "\n",
    "#Y = data[:, -1]"
   ]
  },
  {
   "cell_type": "code",
   "execution_count": 255,
   "id": "35c9526a",
   "metadata": {},
   "outputs": [
    {
     "data": {
      "text/plain": [
       "(700,)"
      ]
     },
     "execution_count": 255,
     "metadata": {},
     "output_type": "execute_result"
    }
   ],
   "source": [
    "Y.shape"
   ]
  },
  {
   "cell_type": "markdown",
   "id": "c2c12208",
   "metadata": {},
   "source": [
    "# Iris Dataset"
   ]
  },
  {
   "cell_type": "code",
   "execution_count": 230,
   "id": "bb518ca5-df1d-4a5c-bb88-20dd69fb9acd",
   "metadata": {
    "tags": []
   },
   "outputs": [
    {
     "data": {
      "text/plain": [
       "tensor([ 0.4 ,  0.75,  0.2 ,  0.05, -1.  ], requires_grad=True)"
      ]
     },
     "execution_count": 230,
     "metadata": {},
     "output_type": "execute_result"
    }
   ],
   "source": [
    "data = np.loadtxt(\"iris.txt\")\n",
    "data[0]"
   ]
  },
  {
   "cell_type": "code",
   "execution_count": 235,
   "id": "1a5a51b9-d506-420a-a295-f6b6baf20e02",
   "metadata": {
    "tags": []
   },
   "outputs": [
    {
     "name": "stdout",
     "output_type": "stream",
     "text": [
      "(100, 4) <class 'pennylane.numpy.tensor.tensor'>\n",
      "First X sample (original)  : [0.4  0.75 0.2  0.05]\n",
      "First X sample (original)  : [0.4  0.75 0.2  0.05]\n",
      "First X sample (normalized): [0.2962963  0.625      0.09756098 0.05882353]\n",
      "First features sample      : [1.86168454 3.92699082 0.61299369 0.36959914]\n"
     ]
    }
   ],
   "source": [
    "from pennylane import numpy as np\n",
    "data = np.loadtxt(\"iris.txt\")\n",
    "X = data[:, 0:4]\n",
    "print(X.shape,type(X))\n",
    "print(f\"First X sample (original)  : {X[0]}\")\n",
    "\n",
    "# pad the vectors to size 2^2=4 with constant values\n",
    "#padding = np.ones((len(X), 2)) * 0.1\n",
    "#X_pad = np.c_[X, padding]\n",
    "#print(f\"First X sample (padded)    : {X_pad[0]}\")\n",
    "\n",
    "# normalize each input\n",
    "#################################################\n",
    "#normalization = np.sqrt(np.sum(X**2, -1))\n",
    "from sklearn.preprocessing import MinMaxScaler\n",
    "\n",
    "scaler = MinMaxScaler()\n",
    "X_norm = scaler.fit_transform(X)\n",
    "#X_norm = (X.T / normalization).T\n",
    "print(f\"First X sample (original)  : {X[0]}\")\n",
    "print(f\"First X sample (normalized): {X_norm[0]}\")\n",
    "\n",
    "# the angles for state preparation are the features\n",
    "#features = np.array([get_angles(x) for x in X_norm], requires_grad=False)\n",
    "features = 2*np.pi*X_norm\n",
    "print(f\"First features sample      : {features[0]}\")\n",
    "\n",
    "Y = data[:, -1]\n",
    "\n",
    "\n",
    "##########################################\n",
    "#normalization = np.sqrt(np.sum(X**2, -1))\n",
    "#X_norm = (X.T / normalization).T\n",
    "#print(f\"First X sample (normalized): {X_norm[0]}\")\n",
    "#\n",
    "## the angles for state preparation are the features\n",
    "#features = np.array([get_angles(x) for x in X_norm], requires_grad=False)\n",
    "#print(f\"First features sample      : {features[0]}\")\n",
    "#\n",
    "#Y = data[:, -1]"
   ]
  },
  {
   "cell_type": "code",
   "execution_count": 236,
   "id": "ec353dbe",
   "metadata": {},
   "outputs": [
    {
     "data": {
      "text/plain": [
       "(100,)"
      ]
     },
     "execution_count": 236,
     "metadata": {},
     "output_type": "execute_result"
    }
   ],
   "source": [
    "Y.shape"
   ]
  },
  {
   "cell_type": "markdown",
   "id": "41837cda",
   "metadata": {},
   "source": [
    "# Traning"
   ]
  },
  {
   "cell_type": "code",
   "execution_count": 33,
   "id": "7cbb8d6f",
   "metadata": {},
   "outputs": [
    {
     "data": {
      "text/plain": [
       "(245, 246)"
      ]
     },
     "execution_count": 33,
     "metadata": {},
     "output_type": "execute_result"
    }
   ],
   "source": [
    "len(Y),len(index)"
   ]
  },
  {
   "cell_type": "code",
   "execution_count": 34,
   "id": "ce00f0c5-346e-4cc7-ae41-1ff4ea9898ea",
   "metadata": {
    "tags": []
   },
   "outputs": [
    {
     "name": "stdout",
     "output_type": "stream",
     "text": [
      "[[3.11125253 3.12246286 3.16513478 3.16712374]\n",
      " [3.15075275 3.15314007 3.14454548 3.11780629]\n",
      " [3.16937076 3.15084175 3.12002363 3.12588474]\n",
      " [3.14455212 3.17066948 3.13169149 3.11922636]\n",
      " [3.16806573 3.19144712 3.11677227 3.08904079]] [[3.14112907 3.09638048 3.10916589 3.2182668 ]\n",
      " [3.1416119  3.13740112 3.15958804 3.12768444]\n",
      " [3.14564415 3.11700795 3.13873183 3.16480085]\n",
      " [3.088499   3.14771255 3.15140293 3.17807439]\n",
      " [3.10156107 3.12422927 3.14671739 3.19313289]]\n",
      "[-1.  1. -1.  1.  1. -1. -1.  1. -1. -1. -1. -1.]\n",
      "(183, 4) (62, 4)\n"
     ]
    }
   ],
   "source": [
    "np.random.seed(0)\n",
    "num_data = len(Y)\n",
    "num_train = int(0.75 * num_data)\n",
    "index = np.random.permutation(range(num_data))\n",
    "feats_train = features[index[:num_train]]\n",
    "Y_train = Y[index[:num_train]]\n",
    "feats_val = features[index[num_train:]]\n",
    "Y_val = Y[index[num_train:]]\n",
    "\n",
    "# We need these later for plotting\n",
    "X_train = X[index[:num_train]]\n",
    "X_val = X[index[num_train:]]\n",
    "\n",
    "print(feats_train[:5],feats_val[:5])\n",
    "print(Y_train[:12])\n",
    "print(X_train.shape,X_val.shape)"
   ]
  },
  {
   "cell_type": "code",
   "execution_count": 35,
   "id": "1b81e151",
   "metadata": {},
   "outputs": [
    {
     "data": {
      "text/plain": [
       "tensor(-1., requires_grad=True)"
      ]
     },
     "execution_count": 35,
     "metadata": {},
     "output_type": "execute_result"
    }
   ],
   "source": [
    "Y_train[11]"
   ]
  },
  {
   "cell_type": "code",
   "execution_count": 36,
   "id": "f21b0de4-a4f8-4248-b8c9-a644801bdd0e",
   "metadata": {
    "tags": []
   },
   "outputs": [
    {
     "data": {
      "text/plain": [
       "(8, 16)"
      ]
     },
     "execution_count": 36,
     "metadata": {},
     "output_type": "execute_result"
    }
   ],
   "source": [
    "num_qubits = 4\n",
    "num_layers = 4\n",
    "from pennylane import numpy as np\n",
    "\n",
    "weights_init = 0.01 * np.random.randn(4 + num_layers, 16, requires_grad=True) #+ 0.01 * np.random.randn(num_layers, num_qubits, requires_grad=True)\n",
    "#weight_final = 0.01 * np.random.randn(num_layers, num_qubits,3, requires_grad=True)\n",
    "bias_init = np.array(0.0, requires_grad=True)\n",
    "\n",
    "weights_init.shape"
   ]
  },
  {
   "cell_type": "code",
   "execution_count": 37,
   "id": "17905374-adff-4f50-a7f0-8a18b7d4b100",
   "metadata": {
    "tags": []
   },
   "outputs": [
    {
     "data": {
      "image/png": "[encoded data removed]",
      "text/plain": [
       "<Figure size 3600x500 with 1 Axes>"
      ]
     },
     "metadata": {},
     "output_type": "display_data"
    }
   ],
   "source": [
    "qml.drawer.use_style('black_white')\n",
    "fig, ax = qml.draw_mpl(circuit_final)(weights_init[4:],feats_train)"
   ]
  },
  {
   "cell_type": "code",
   "execution_count": 38,
   "id": "53a637bf-0c90-4288-b6dc-ac74b2f2a694",
   "metadata": {
    "tags": []
   },
   "outputs": [
    {
     "data": {
      "image/png": "[encoded data removed]",
      "text/plain": [
       "<Figure size 1400x500 with 1 Axes>"
      ]
     },
     "metadata": {},
     "output_type": "display_data"
    }
   ],
   "source": [
    "qml.drawer.use_style('black_white')\n",
    "fig, ax = qml.draw_mpl(circuit_compressed)(weights_init[0],feats_train[0],feats_train[0],0)"
   ]
  },
  {
   "cell_type": "code",
   "execution_count": 39,
   "id": "d5cf9d6a",
   "metadata": {},
   "outputs": [],
   "source": [
    "#pip install --upgrade tensorflow"
   ]
  },
  {
   "cell_type": "code",
   "execution_count": 40,
   "id": "1283064b",
   "metadata": {},
   "outputs": [
    {
     "data": {
      "text/plain": [
       "tensor([248, 365, 947, 201, 437], requires_grad=True)"
      ]
     },
     "execution_count": 40,
     "metadata": {},
     "output_type": "execute_result"
    }
   ],
   "source": [
    "batch_index = np.random.randint(0, 1000, (5,))\n",
    "batch_index"
   ]
  },
  {
   "cell_type": "code",
   "execution_count": null,
   "id": "fd8b17b2",
   "metadata": {},
   "outputs": [],
   "source": []
  },
  {
   "cell_type": "code",
   "execution_count": 48,
   "id": "7a23b7ca-20ea-4e3e-b631-2a2ec4031f63",
   "metadata": {
    "tags": []
   },
   "outputs": [
    {
     "name": "stdout",
     "output_type": "stream",
     "text": [
      "prediction Train [-1. -1. -1. -1. -1. -1. -1. -1. -1. -1.]\n",
      "Y_train [ 1.  1. -1.  1. -1.  1.  1.  1.  1.  1.]\n",
      "Acc train: 0.4076087 | Acc validation: 0.5483871\n",
      "prediction Train [-1. -1. -1. -1. -1. -1. -1. -1. -1. -1.]\n",
      "Y_train [ 1.  1. -1.  1. -1.  1.  1.  1.  1.  1.]\n",
      "Acc train: 0.4076087 | Acc validation: 0.5483871\n"
     ]
    },
    {
     "ename": "",
     "evalue": "",
     "output_type": "error",
     "traceback": [
      "\u001b[1;31mThe Kernel crashed while executing code in the current cell or a previous cell. \n",
      "\u001b[1;31mPlease review the code in the cell(s) to identify a possible cause of the failure. \n",
      "\u001b[1;31mClick <a href='https://aka.ms/vscodeJupyterKernelCrash'>here</a> for more info. \n",
      "\u001b[1;31mView Jupyter <a href='command:jupyter.viewOutput'>log</a> for further details."
     ]
    }
   ],
   "source": [
    "opt = NesterovMomentumOptimizer(0.1)\n",
    "#import tensorflow as tf\n",
    "#opt = tf.keras.optimizers.Nadam(learning_rate=0.01)\n",
    "batch_size = 5\n",
    "\n",
    "# train the variational classifier\n",
    "weights = weights_init\n",
    "bias = bias_init\n",
    "\n",
    "acc_train_list,acc_val_list,cost_list = [],[],[]\n",
    "for it in range(50):\n",
    "    # Update the weights by one optimizer step\n",
    "    batch_index = np.random.randint(0, num_train, (batch_size,))\n",
    "    feats_train_batch = feats_train[batch_index]\n",
    "    Y_train_batch = Y_train[batch_index]\n",
    "    #print('before quantum')\n",
    "    weights, bias, _, _ = opt.step(cost, weights, bias, feats_train_batch, Y_train_batch)\n",
    "    #print('crossed quantum')\n",
    "    #if it==0:\n",
    "    #    qml.drawer.use_style('black_white')\n",
    "    #    fig, ax = qml.draw_mpl(circuit)(weights,feats_train_batch)\n",
    "\n",
    "    # Compute predictions on train and validation set\n",
    "    predictions_train = np.array([np.sign(variational_classifier(weights, bias, i.T)) for i in feats_train])\n",
    "    predictions_val = np.array([np.sign(variational_classifier(weights, bias, j.T)) for j in feats_val])\n",
    "    print(\"prediction Train\",predictions_train[:10])\n",
    "    print(\"Y_train\",Y_train[:10])\n",
    "    #print(\"prediction val\",predictions_val)\n",
    "    #print(\"y_val\",Y_val)\n",
    "    # Compute accuracy on train and validation set\n",
    "    acc_train = accuracy(Y_train, predictions_train)\n",
    "    acc_val = accuracy(Y_val, predictions_val)\n",
    "    acc_train_list.append(acc_train)\n",
    "    acc_val_list.append(acc_val)\n",
    "    #_cost = cost(weights, bias, features, Y)\n",
    "    #print(\"acc_train:acc_val\",acc_train,acc_val)\n",
    "    #cost_list.append(_cost)\n",
    "    if (it + 1) % 1 == 0:\n",
    "        \n",
    "        #print(_cost,acc_train,acc_val)\n",
    "        print(\n",
    "            #f\"Iter: {it + 1:5d} | Cost: {_cost:0.7f} | \"\n",
    "            f\"Acc train: {acc_train:0.7f} | Acc validation: {acc_val:0.7f}\"\n",
    "        )"
   ]
  },
  {
   "cell_type": "code",
   "execution_count": null,
   "id": "f4070957",
   "metadata": {},
   "outputs": [],
   "source": []
  },
  {
   "cell_type": "code",
   "execution_count": 47,
   "id": "7e2c6c47",
   "metadata": {},
   "outputs": [],
   "source": [
    "feats_train.shape, Y_train.shape, feats_val.shape, Y_val.shape\n",
    "Y_train = Y_train[:180]\n",
    "feats_val = feats_val[:60]\n",
    "Y_val = Y_val[:60]\n",
    "num_train=180"
   ]
  },
  {
   "cell_type": "code",
   "execution_count": 48,
   "id": "fa0b18b4",
   "metadata": {},
   "outputs": [
    {
     "name": "stdout",
     "output_type": "stream",
     "text": [
      "[-1. -1. -1. -1. -1. -1. -1. -1. -1. -1.]\n",
      "[-1.  1. -1.  1.  1. -1. -1.  1. -1. -1.]\n",
      "Epoch:     1 | Acc train: 0.3888889 | Acc validation: 0.5833333\n",
      "[1. 1. 1. 1. 1. 1. 1. 1. 1. 1.]\n",
      "[-1.  1. -1.  1.  1. -1. -1.  1. -1. -1.]\n",
      "Epoch:     2 | Acc train: 0.6111111 | Acc validation: 0.4166667\n",
      "[1. 1. 1. 1. 1. 1. 1. 1. 1. 1.]\n",
      "[-1.  1. -1.  1.  1. -1. -1.  1. -1. -1.]\n",
      "Epoch:     3 | Acc train: 0.6111111 | Acc validation: 0.4166667\n",
      "[1. 1. 1. 1. 1. 1. 1. 1. 1. 1.]\n",
      "[-1.  1. -1.  1.  1. -1. -1.  1. -1. -1.]\n",
      "Epoch:     4 | Acc train: 0.6111111 | Acc validation: 0.4166667\n",
      "[1. 1. 1. 1. 1. 1. 1. 1. 1. 1.]\n",
      "[-1.  1. -1.  1.  1. -1. -1.  1. -1. -1.]\n",
      "Epoch:     5 | Acc train: 0.6111111 | Acc validation: 0.4166667\n",
      "[1. 1. 1. 1. 1. 1. 1. 1. 1. 1.]\n",
      "[-1.  1. -1.  1.  1. -1. -1.  1. -1. -1.]\n",
      "Epoch:     6 | Acc train: 0.6111111 | Acc validation: 0.4166667\n",
      "[1. 1. 1. 1. 1. 1. 1. 1. 1. 1.]\n",
      "[-1.  1. -1.  1.  1. -1. -1.  1. -1. -1.]\n",
      "Epoch:     7 | Acc train: 0.6111111 | Acc validation: 0.4166667\n",
      "[1. 1. 1. 1. 1. 1. 1. 1. 1. 1.]\n",
      "[-1.  1. -1.  1.  1. -1. -1.  1. -1. -1.]\n",
      "Epoch:     8 | Acc train: 0.6111111 | Acc validation: 0.4166667\n",
      "[1. 1. 1. 1. 1. 1. 1. 1. 1. 1.]\n",
      "[-1.  1. -1.  1.  1. -1. -1.  1. -1. -1.]\n",
      "Epoch:     9 | Acc train: 0.6111111 | Acc validation: 0.4166667\n",
      "[1. 1. 1. 1. 1. 1. 1. 1. 1. 1.]\n",
      "[-1.  1. -1.  1.  1. -1. -1.  1. -1. -1.]\n",
      "Epoch:    10 | Acc train: 0.6111111 | Acc validation: 0.4166667\n",
      "[1. 1. 1. 1. 1. 1. 1. 1. 1. 1.]\n",
      "[-1.  1. -1.  1.  1. -1. -1.  1. -1. -1.]\n",
      "Epoch:    11 | Acc train: 0.6111111 | Acc validation: 0.4166667\n",
      "[1. 1. 1. 1. 1. 1. 1. 1. 1. 1.]\n",
      "[-1.  1. -1.  1.  1. -1. -1.  1. -1. -1.]\n",
      "Epoch:    12 | Acc train: 0.6111111 | Acc validation: 0.4166667\n",
      "[1. 1. 1. 1. 1. 1. 1. 1. 1. 1.]\n",
      "[-1.  1. -1.  1.  1. -1. -1.  1. -1. -1.]\n",
      "Epoch:    13 | Acc train: 0.6111111 | Acc validation: 0.4166667\n",
      "[1. 1. 1. 1. 1. 1. 1. 1. 1. 1.]\n",
      "[-1.  1. -1.  1.  1. -1. -1.  1. -1. -1.]\n",
      "Epoch:    14 | Acc train: 0.6111111 | Acc validation: 0.4166667\n",
      "[1. 1. 1. 1. 1. 1. 1. 1. 1. 1.]\n",
      "[-1.  1. -1.  1.  1. -1. -1.  1. -1. -1.]\n",
      "Epoch:    15 | Acc train: 0.6111111 | Acc validation: 0.4166667\n",
      "[1. 1. 1. 1. 1. 1. 1. 1. 1. 1.]\n",
      "[-1.  1. -1.  1.  1. -1. -1.  1. -1. -1.]\n",
      "Epoch:    16 | Acc train: 0.6111111 | Acc validation: 0.4166667\n",
      "[1. 1. 1. 1. 1. 1. 1. 1. 1. 1.]\n",
      "[-1.  1. -1.  1.  1. -1. -1.  1. -1. -1.]\n",
      "Epoch:    17 | Acc train: 0.6111111 | Acc validation: 0.4166667\n",
      "[1. 1. 1. 1. 1. 1. 1. 1. 1. 1.]\n",
      "[-1.  1. -1.  1.  1. -1. -1.  1. -1. -1.]\n",
      "Epoch:    18 | Acc train: 0.6111111 | Acc validation: 0.4166667\n",
      "[1. 1. 1. 1. 1. 1. 1. 1. 1. 1.]\n",
      "[-1.  1. -1.  1.  1. -1. -1.  1. -1. -1.]\n",
      "Epoch:    19 | Acc train: 0.6111111 | Acc validation: 0.4166667\n",
      "[1. 1. 1. 1. 1. 1. 1. 1. 1. 1.]\n",
      "[-1.  1. -1.  1.  1. -1. -1.  1. -1. -1.]\n",
      "Epoch:    20 | Acc train: 0.6111111 | Acc validation: 0.4166667\n",
      "[1. 1. 1. 1. 1. 1. 1. 1. 1. 1.]\n",
      "[-1.  1. -1.  1.  1. -1. -1.  1. -1. -1.]\n",
      "Epoch:    21 | Acc train: 0.6111111 | Acc validation: 0.4166667\n",
      "[1. 1. 1. 1. 1. 1. 1. 1. 1. 1.]\n",
      "[-1.  1. -1.  1.  1. -1. -1.  1. -1. -1.]\n",
      "Epoch:    22 | Acc train: 0.6111111 | Acc validation: 0.4166667\n",
      "[1. 1. 1. 1. 1. 1. 1. 1. 1. 1.]\n",
      "[-1.  1. -1.  1.  1. -1. -1.  1. -1. -1.]\n",
      "Epoch:    23 | Acc train: 0.6111111 | Acc validation: 0.4166667\n",
      "[1. 1. 1. 1. 1. 1. 1. 1. 1. 1.]\n",
      "[-1.  1. -1.  1.  1. -1. -1.  1. -1. -1.]\n",
      "Epoch:    24 | Acc train: 0.6111111 | Acc validation: 0.4166667\n",
      "[1. 1. 1. 1. 1. 1. 1. 1. 1. 1.]\n",
      "[-1.  1. -1.  1.  1. -1. -1.  1. -1. -1.]\n",
      "Epoch:    25 | Acc train: 0.6111111 | Acc validation: 0.4166667\n",
      "[1. 1. 1. 1. 1. 1. 1. 1. 1. 1.]\n",
      "[-1.  1. -1.  1.  1. -1. -1.  1. -1. -1.]\n",
      "Epoch:    26 | Acc train: 0.6111111 | Acc validation: 0.4166667\n",
      "[1. 1. 1. 1. 1. 1. 1. 1. 1. 1.]\n",
      "[-1.  1. -1.  1.  1. -1. -1.  1. -1. -1.]\n",
      "Epoch:    27 | Acc train: 0.6111111 | Acc validation: 0.4166667\n",
      "[-1. -1. -1. -1. -1. -1. -1. -1. -1. -1.]\n",
      "[-1.  1. -1.  1.  1. -1. -1.  1. -1. -1.]\n",
      "Epoch:    28 | Acc train: 0.3888889 | Acc validation: 0.5833333\n",
      "[1. 1. 1. 1. 1. 1. 1. 1. 1. 1.]\n",
      "[-1.  1. -1.  1.  1. -1. -1.  1. -1. -1.]\n",
      "Epoch:    29 | Acc train: 0.6111111 | Acc validation: 0.4166667\n",
      "[1. 1. 1. 1. 1. 1. 1. 1. 1. 1.]\n",
      "[-1.  1. -1.  1.  1. -1. -1.  1. -1. -1.]\n",
      "Epoch:    30 | Acc train: 0.6111111 | Acc validation: 0.4166667\n",
      "[1. 1. 1. 1. 1. 1. 1. 1. 1. 1.]\n",
      "[-1.  1. -1.  1.  1. -1. -1.  1. -1. -1.]\n",
      "Epoch:    31 | Acc train: 0.6111111 | Acc validation: 0.4166667\n",
      "[-1. -1. -1. -1. -1. -1. -1. -1. -1. -1.]\n",
      "[-1.  1. -1.  1.  1. -1. -1.  1. -1. -1.]\n",
      "Epoch:    32 | Acc train: 0.3888889 | Acc validation: 0.5833333\n",
      "[1. 1. 1. 1. 1. 1. 1. 1. 1. 1.]\n",
      "[-1.  1. -1.  1.  1. -1. -1.  1. -1. -1.]\n",
      "Epoch:    33 | Acc train: 0.6111111 | Acc validation: 0.4166667\n",
      "[-1. -1. -1. -1. -1. -1. -1. -1. -1. -1.]\n",
      "[-1.  1. -1.  1.  1. -1. -1.  1. -1. -1.]\n",
      "Epoch:    34 | Acc train: 0.3888889 | Acc validation: 0.5833333\n",
      "[1. 1. 1. 1. 1. 1. 1. 1. 1. 1.]\n",
      "[-1.  1. -1.  1.  1. -1. -1.  1. -1. -1.]\n",
      "Epoch:    35 | Acc train: 0.6111111 | Acc validation: 0.4166667\n",
      "[1. 1. 1. 1. 1. 1. 1. 1. 1. 1.]\n",
      "[-1.  1. -1.  1.  1. -1. -1.  1. -1. -1.]\n",
      "Epoch:    36 | Acc train: 0.6111111 | Acc validation: 0.4166667\n",
      "[-1. -1. -1. -1. -1. -1. -1. -1. -1. -1.]\n",
      "[-1.  1. -1.  1.  1. -1. -1.  1. -1. -1.]\n",
      "Epoch:    37 | Acc train: 0.3888889 | Acc validation: 0.5833333\n",
      "[1. 1. 1. 1. 1. 1. 1. 1. 1. 1.]\n",
      "[-1.  1. -1.  1.  1. -1. -1.  1. -1. -1.]\n",
      "Epoch:    38 | Acc train: 0.6111111 | Acc validation: 0.4166667\n",
      "[1. 1. 1. 1. 1. 1. 1. 1. 1. 1.]\n",
      "[-1.  1. -1.  1.  1. -1. -1.  1. -1. -1.]\n",
      "Epoch:    39 | Acc train: 0.6111111 | Acc validation: 0.4166667\n",
      "[1. 1. 1. 1. 1. 1. 1. 1. 1. 1.]\n",
      "[-1.  1. -1.  1.  1. -1. -1.  1. -1. -1.]\n",
      "Epoch:    40 | Acc train: 0.6111111 | Acc validation: 0.4166667\n",
      "[1. 1. 1. 1. 1. 1. 1. 1. 1. 1.]\n",
      "[-1.  1. -1.  1.  1. -1. -1.  1. -1. -1.]\n",
      "Epoch:    41 | Acc train: 0.6111111 | Acc validation: 0.4166667\n",
      "[1. 1. 1. 1. 1. 1. 1. 1. 1. 1.]\n",
      "[-1.  1. -1.  1.  1. -1. -1.  1. -1. -1.]\n",
      "Epoch:    42 | Acc train: 0.6111111 | Acc validation: 0.4166667\n",
      "[1. 1. 1. 1. 1. 1. 1. 1. 1. 1.]\n",
      "[-1.  1. -1.  1.  1. -1. -1.  1. -1. -1.]\n",
      "Epoch:    43 | Acc train: 0.6111111 | Acc validation: 0.4166667\n",
      "[1. 1. 1. 1. 1. 1. 1. 1. 1. 1.]\n",
      "[-1.  1. -1.  1.  1. -1. -1.  1. -1. -1.]\n",
      "Epoch:    44 | Acc train: 0.6111111 | Acc validation: 0.4166667\n",
      "[1. 1. 1. 1. 1. 1. 1. 1. 1. 1.]\n",
      "[-1.  1. -1.  1.  1. -1. -1.  1. -1. -1.]\n",
      "Epoch:    45 | Acc train: 0.6111111 | Acc validation: 0.4166667\n",
      "[1. 1. 1. 1. 1. 1. 1. 1. 1. 1.]\n",
      "[-1.  1. -1.  1.  1. -1. -1.  1. -1. -1.]\n",
      "Epoch:    46 | Acc train: 0.6111111 | Acc validation: 0.4166667\n",
      "[1. 1. 1. 1. 1. 1. 1. 1. 1. 1.]\n",
      "[-1.  1. -1.  1.  1. -1. -1.  1. -1. -1.]\n",
      "Epoch:    47 | Acc train: 0.6111111 | Acc validation: 0.4166667\n",
      "[1. 1. 1. 1. 1. 1. 1. 1. 1. 1.]\n",
      "[-1.  1. -1.  1.  1. -1. -1.  1. -1. -1.]\n",
      "Epoch:    48 | Acc train: 0.6111111 | Acc validation: 0.4166667\n",
      "[1. 1. 1. 1. 1. 1. 1. 1. 1. 1.]\n",
      "[-1.  1. -1.  1.  1. -1. -1.  1. -1. -1.]\n",
      "Epoch:    49 | Acc train: 0.6111111 | Acc validation: 0.4166667\n",
      "[1. 1. 1. 1. 1. 1. 1. 1. 1. 1.]\n",
      "[-1.  1. -1.  1.  1. -1. -1.  1. -1. -1.]\n",
      "Epoch:    50 | Acc train: 0.6111111 | Acc validation: 0.4166667\n"
     ]
    }
   ],
   "source": [
    "# Number of epochs\n",
    "#import torch\n",
    "#import torch.optim as optim\n",
    "opt = NesterovMomentumOptimizer(0.1)\n",
    "#optimizer = optim.Adam(lr=0.001)\n",
    "epochs = 50\n",
    "batch_size = 5\n",
    "\n",
    "\n",
    "\n",
    "# train the variational classifier\n",
    "weights = weights_init\n",
    "bias = bias_init\n",
    "\n",
    "# Initialize lists to store metrics\n",
    "acc_train_list, acc_val_list, cost_list = [], [], []\n",
    "\n",
    "# Start the training loop\n",
    "for epoch in range(epochs):\n",
    "    # Shuffle the training data at the beginning of each epoch\n",
    "    permutation = np.random.permutation(num_train)\n",
    "    feats_train_shuffled = feats_train[permutation]\n",
    "    Y_train_shuffled = Y_train[permutation]\n",
    "    \n",
    "    # Mini-batch training\n",
    "    for i in range(0, num_train, batch_size):\n",
    "        # Create mini-batch\n",
    "        feats_train_batch = feats_train_shuffled[i:i + batch_size]\n",
    "        Y_train_batch = Y_train_shuffled[i:i + batch_size]\n",
    "\n",
    "        # Print shapes for debugging\n",
    "        #print(\"weights shape:\", weights.shape)\n",
    "        #print(\"bias shape:\", bias.shape)\n",
    "        #print(\"feats_train_batch shape:\", feats_train_batch.shape)\n",
    "        #print(\"Y_train_batch shape:\", Y_train_batch.shape)\n",
    "        \n",
    "        # Update the weights by one optimizer step\n",
    "        weights, bias, _, _ = opt.step(cost, weights, bias, feats_train_batch, Y_train_batch)\n",
    "        #if i %100==0:\n",
    "            #print(\"inside batch\",i,weights[0])\n",
    "\n",
    "    # Compute predictions on the entire train and validation sets\n",
    "    predictions_train = np.array([np.sign(variational_classifier(weights, bias, i.T)) for i in feats_train])\n",
    "    predictions_val = np.array([np.sign(variational_classifier(weights, bias, j.T)) for j in feats_val])\n",
    "    \n",
    "    # Compute accuracy on the entire train and validation sets\n",
    "    print(predictions_train[:10])\n",
    "    print(Y_train[:10])\n",
    "    acc_train = accuracy(Y_train, predictions_train)\n",
    "    acc_val = accuracy(Y_val, predictions_val)\n",
    "    \n",
    "    # Store the accuracies\n",
    "    acc_train_list.append(acc_train)\n",
    "    acc_val_list.append(acc_val)\n",
    "    \n",
    "    # Print the accuracy for each epoch\n",
    "    print(f\"Epoch: {epoch + 1:5d} | Acc train: {acc_train:0.7f} | Acc validation: {acc_val:0.7f}\")\n",
    "\n",
    "# The data is now used more effectively, which should help with model performance\n"
   ]
  },
  {
   "cell_type": "code",
   "execution_count": 49,
   "id": "72097a2e",
   "metadata": {},
   "outputs": [],
   "source": [
    "l=[0]\n",
    "l+=acc_train_list\n",
    "l2=[0]\n",
    "l2+=acc_val_list"
   ]
  },
  {
   "cell_type": "code",
   "execution_count": 50,
   "id": "ed8bcf40",
   "metadata": {},
   "outputs": [
    {
     "data": {
      "image/png": "[encoded data removed]",
      "text/plain": [
       "<Figure size 640x480 with 1 Axes>"
      ]
     },
     "metadata": {},
     "output_type": "display_data"
    },
    {
     "data": {
      "image/png": "[encoded data removed]",
      "text/plain": [
       "<Figure size 640x480 with 1 Axes>"
      ]
     },
     "metadata": {},
     "output_type": "display_data"
    }
   ],
   "source": [
    "import matplotlib.pyplot as plt\n",
    "\n",
    "# summarize history for accuracy\n",
    "plt.plot(l[:1000])\n",
    "plt.plot(l2[:1000])\n",
    "plt.title('model accuracy')\n",
    "plt.ylabel('accuracy')\n",
    "plt.xlabel('epoch')\n",
    "plt.legend(['Train', 'Validation'])\n",
    "plt.show()\n",
    "# summarize history for loss\n",
    "plt.plot(cost_list)\n",
    "#plt.plot(acc_val_list)\n",
    "plt.title('model loss')\n",
    "plt.ylabel('loss')\n",
    "plt.xlabel('epoch')\n",
    "plt.legend(['Train', 'Validation'])\n",
    "plt.show()"
   ]
  },
  {
   "cell_type": "code",
   "execution_count": null,
   "id": "9a352595",
   "metadata": {},
   "outputs": [],
   "source": []
  },
  {
   "cell_type": "markdown",
   "id": "b47ceac7",
   "metadata": {},
   "source": [
    "# Classical approach"
   ]
  },
  {
   "cell_type": "code",
   "execution_count": 63,
   "id": "fae52dce",
   "metadata": {},
   "outputs": [],
   "source": [
    "from sklearn.datasets import load_iris\n",
    "import pandas as pd\n",
    "\n",
    "# Load the Iris dataset\n",
    "iris = load_iris()\n",
    "\n",
    "# Create a DataFrame\n",
    "iris_data = pd.DataFrame(data=iris.data, columns=iris.feature_names)\n",
    "iris_data['label'] = iris.target\n",
    "\n",
    "# Filter the dataset to include only two classes (0 and 1)\n",
    "binary_iris_data = iris_data[iris_data['label'] != 2]"
   ]
  },
  {
   "cell_type": "code",
   "execution_count": 68,
   "id": "911a3132",
   "metadata": {},
   "outputs": [],
   "source": [
    "from sklearn.model_selection import train_test_split\n",
    "from sklearn.preprocessing import StandardScaler\n",
    "\n",
    "# Features and labels\n",
    "X = binary_iris_data.drop('label', axis=1)\n",
    "y = binary_iris_data['label']\n",
    "\n",
    "# Train-test split\n",
    "X_train, X_test, y_train, y_test = train_test_split(X, y, test_size=0.2, random_state=42)\n",
    "\n",
    "# Standardize the features\n",
    "scaler = StandardScaler()\n",
    "X_train = scaler.fit_transform(X_train)\n",
    "X_test = scaler.transform(X_test)\n",
    "\n",
    "# Reshape for the self-attention model\n",
    "X_train = X_train.reshape((X_train.shape[0], X_train.shape[1], 1))\n",
    "X_test = X_test.reshape((X_test.shape[0], X_test.shape[1], 1))"
   ]
  },
  {
   "cell_type": "code",
   "execution_count": 69,
   "id": "368b8c50",
   "metadata": {},
   "outputs": [
    {
     "data": {
      "text/plain": [
       "array([[[ 0.34989908],\n",
       "        [-0.5881428 ],\n",
       "        [ 1.13555602],\n",
       "        [ 0.89744481]],\n",
       "\n",
       "       [[ 0.19609729],\n",
       "        [-0.16040258],\n",
       "        [ 0.8521099 ],\n",
       "        [ 0.89744481]],\n",
       "\n",
       "       [[-0.72671348],\n",
       "        [ 0.69507785],\n",
       "        [-0.91942835],\n",
       "        [-0.73427302]],\n",
       "\n",
       "       [[-1.64952424],\n",
       "        [ 0.26733764],\n",
       "        [-1.13201294],\n",
       "        [-1.09687699]],\n",
       "\n",
       "       [[ 0.19609729],\n",
       "        [-1.22975312],\n",
       "        [ 0.71038684],\n",
       "        [ 0.53484084]]])"
      ]
     },
     "execution_count": 69,
     "metadata": {},
     "output_type": "execute_result"
    }
   ],
   "source": [
    "X_train[:5]"
   ]
  },
  {
   "cell_type": "code",
   "execution_count": 72,
   "id": "7a2163a0",
   "metadata": {},
   "outputs": [
    {
     "data": {
      "text/plain": [
       "((80, 4, 1), (80,))"
      ]
     },
     "execution_count": 72,
     "metadata": {},
     "output_type": "execute_result"
    }
   ],
   "source": [
    "X_train.shape,y_train.shape"
   ]
  },
  {
   "cell_type": "code",
   "execution_count": 97,
   "id": "184c67b4",
   "metadata": {},
   "outputs": [
    {
     "name": "stdout",
     "output_type": "stream",
     "text": [
      "[[ 1.34605712 -0.55579091  0.55579091 -0.75533671]\n",
      " [ 2.12981297 -1.10460876  1.10460876 -0.68770411]\n",
      " [ 1.94112323 -0.19385953  0.19385953 -1.3821433 ]\n",
      " [ 2.25264433 -1.44179303  1.44179303 -0.49010457]\n",
      " [ 1.04037899 -0.63951726  0.63951726 -0.89630864]] [[ 1.18418067 -0.07532278  0.07532278 -0.79481657]\n",
      " [ 1.85560324 -0.91316312  0.91316312 -0.6818121 ]\n",
      " [ 1.68947233 -0.75993523  0.75993523 -0.81302326]\n",
      " [ 1.29341404 -0.50077866  0.50077866 -0.85156175]\n",
      " [ 2.41273018 -1.20242933  1.20242933 -0.36486604]]\n",
      "(369,) (123,)\n",
      "(369, 4) (123, 4)\n"
     ]
    }
   ],
   "source": [
    "np.random.seed(0)\n",
    "num_data = len(Y)\n",
    "num_train = int(0.75 * num_data)\n",
    "index = np.random.permutation(range(num_data))\n",
    "feats_train = features[index[:num_train]]\n",
    "Y_train = Y[index[:num_train]]\n",
    "feats_val = features[index[num_train:]]\n",
    "Y_val = Y[index[num_train:]]\n",
    "\n",
    "# We need these later for plotting\n",
    "X_train = X[index[:num_train]]\n",
    "X_val = X[index[num_train:]]\n",
    "\n",
    "print(feats_train[:5],feats_val[:5])\n",
    "print(Y_train.shape,Y_val.shape)\n",
    "print(X_train.shape,X_val.shape)"
   ]
  },
  {
   "cell_type": "code",
   "execution_count": 98,
   "id": "89fe4e71",
   "metadata": {},
   "outputs": [
    {
     "data": {
      "text/plain": [
       "(369, 4, 1)"
      ]
     },
     "execution_count": 98,
     "metadata": {},
     "output_type": "execute_result"
    }
   ],
   "source": [
    "X_train = X_train.reshape(369,4,1)\n",
    "X_train.shape"
   ]
  },
  {
   "cell_type": "code",
   "execution_count": 99,
   "id": "7869b533",
   "metadata": {},
   "outputs": [
    {
     "data": {
      "text/plain": [
       "(123, 4, 1)"
      ]
     },
     "execution_count": 99,
     "metadata": {},
     "output_type": "execute_result"
    }
   ],
   "source": [
    "X_val = X_val.reshape(123,4,1)\n",
    "X_val.shape"
   ]
  },
  {
   "cell_type": "code",
   "execution_count": 100,
   "id": "713b4786",
   "metadata": {},
   "outputs": [],
   "source": [
    "y_train = Y_train\n",
    "y_test = Y_val\n",
    "X_test = X_val"
   ]
  },
  {
   "cell_type": "code",
   "execution_count": 101,
   "id": "dc6b343a",
   "metadata": {},
   "outputs": [
    {
     "data": {
      "text/plain": [
       "((369, 4, 1), (123, 4, 1), (369,), (123,))"
      ]
     },
     "execution_count": 101,
     "metadata": {},
     "output_type": "execute_result"
    }
   ],
   "source": [
    "X_train.shape,X_test.shape, y_train.shape, y_test.shape"
   ]
  },
  {
   "cell_type": "code",
   "execution_count": null,
   "id": "77f5b35d",
   "metadata": {},
   "outputs": [],
   "source": []
  },
  {
   "cell_type": "markdown",
   "id": "a573fa7d",
   "metadata": {},
   "source": [
    "# Trial Datasets"
   ]
  },
  {
   "cell_type": "code",
   "execution_count": 111,
   "id": "8fe47600",
   "metadata": {},
   "outputs": [
    {
     "name": "stderr",
     "output_type": "stream",
     "text": [
      "[*********************100%%**********************]  1 of 1 completed"
     ]
    },
    {
     "name": "stderr",
     "output_type": "stream",
     "text": [
      "\n",
      "C:\\Users\\Lokes S\\AppData\\Local\\Temp\\ipykernel_20016\\2181504220.py:22: SettingWithCopyWarning: \n",
      "A value is trying to be set on a copy of a slice from a DataFrame.\n",
      "Try using .loc[row_indexer,col_indexer] = value instead\n",
      "\n",
      "See the caveats in the documentation: https://pandas.pydata.org/pandas-docs/stable/user_guide/indexing.html#returning-a-view-versus-a-copy\n",
      "  df[['Close', '5-day MA', '10-day MA', 'Daily Return']] = scaler.fit_transform(df[['Close', '5-day MA', '10-day MA', 'Daily Return']])\n",
      "C:\\Users\\Lokes S\\AppData\\Local\\Temp\\ipykernel_20016\\2181504220.py:25: SettingWithCopyWarning: \n",
      "A value is trying to be set on a copy of a slice from a DataFrame.\n",
      "Try using .loc[row_indexer,col_indexer] = value instead\n",
      "\n",
      "See the caveats in the documentation: https://pandas.pydata.org/pandas-docs/stable/user_guide/indexing.html#returning-a-view-versus-a-copy\n",
      "  df['target'] = np.where(df['Close'].shift(-1) > df['Close'], 1.0, 0.0)\n"
     ]
    }
   ],
   "source": [
    "import yfinance as yf\n",
    "import pandas as pd\n",
    "import numpy as np\n",
    "from sklearn.preprocessing import StandardScaler\n",
    "\n",
    "# Download historical data for Bitcoin\n",
    "data = yf.download('BTC-USD', interval='1d', start='2022-01-01', end='2023-12-31')\n",
    "\n",
    "# Compute features\n",
    "data['5-day MA'] = data['Close'].rolling(window=5).mean()\n",
    "data['10-day MA'] = data['Close'].rolling(window=10).mean()\n",
    "data['Daily Return'] = data['Close'].pct_change()\n",
    "\n",
    "# Drop NaN values\n",
    "data = data.dropna()\n",
    "\n",
    "# Select features\n",
    "df = data[['Close', '5-day MA', '10-day MA', 'Daily Return']]\n",
    "\n",
    "# Normalize features\n",
    "scaler = StandardScaler()\n",
    "df[['Close', '5-day MA', '10-day MA', 'Daily Return']] = scaler.fit_transform(df[['Close', '5-day MA', '10-day MA', 'Daily Return']])\n",
    "\n",
    "# Generate target labels\n",
    "df['target'] = np.where(df['Close'].shift(-1) > df['Close'], 1.0, 0.0)\n",
    "df = df.dropna()\n",
    "\n",
    "# Save the preprocessed data\n",
    "df.to_csv('sequential_crypto_data.csv', index=True)\n"
   ]
  },
  {
   "cell_type": "code",
   "execution_count": 121,
   "id": "38a8d7c5",
   "metadata": {},
   "outputs": [
    {
     "name": "stdout",
     "output_type": "stream",
     "text": [
      "Collecting ta\n",
      "  Downloading ta-0.11.0.tar.gz (25 kB)\n",
      "  Preparing metadata (setup.py): started\n",
      "  Preparing metadata (setup.py): finished with status 'done'\n",
      "Requirement already satisfied: numpy in e:\\anaconda\\envs\\quantum\\lib\\site-packages (from ta) (1.23.5)\n",
      "Requirement already satisfied: pandas in e:\\anaconda\\envs\\quantum\\lib\\site-packages (from ta) (2.2.2)\n",
      "Requirement already satisfied: python-dateutil>=2.8.2 in e:\\anaconda\\envs\\quantum\\lib\\site-packages (from pandas->ta) (2.8.2)\n",
      "Requirement already satisfied: pytz>=2020.1 in e:\\anaconda\\envs\\quantum\\lib\\site-packages (from pandas->ta) (2024.1)\n",
      "Requirement already satisfied: tzdata>=2022.7 in e:\\anaconda\\envs\\quantum\\lib\\site-packages (from pandas->ta) (2024.1)\n",
      "Requirement already satisfied: six>=1.5 in e:\\anaconda\\envs\\quantum\\lib\\site-packages (from python-dateutil>=2.8.2->pandas->ta) (1.16.0)\n",
      "Building wheels for collected packages: ta\n",
      "  Building wheel for ta (setup.py): started\n",
      "  Building wheel for ta (setup.py): finished with status 'done'\n",
      "  Created wheel for ta: filename=ta-0.11.0-py3-none-any.whl size=29422 sha256=f7896409abc31f2342744c0f07dae594015e3499635ff2be62fafbf945e8d489\n",
      "  Stored in directory: c:\\users\\lokes s\\appdata\\local\\pip\\cache\\wheels\\a1\\d7\\29\\7781cc5eb9a3659d032d7d15bdd0f49d07d2b24fec29f44bc4\n",
      "Successfully built ta\n",
      "Installing collected packages: ta\n",
      "Successfully installed ta-0.11.0\n",
      "Note: you may need to restart the kernel to use updated packages.\n"
     ]
    }
   ],
   "source": [
    "pip install ta"
   ]
  },
  {
   "cell_type": "code",
   "execution_count": 131,
   "id": "5c951649",
   "metadata": {},
   "outputs": [
    {
     "name": "stderr",
     "output_type": "stream",
     "text": [
      "[*********************100%%**********************]  1 of 1 completed"
     ]
    },
    {
     "name": "stdout",
     "output_type": "stream",
     "text": [
      "Label Distribution:\n",
      "target\n",
      "1.0    244\n",
      "0.0    224\n",
      "Name: count, dtype: int64\n",
      "\n",
      "Label Percentage Distribution:\n",
      "target\n",
      "1.0    52.136752\n",
      "0.0    47.863248\n",
      "Name: proportion, dtype: float64\n"
     ]
    },
    {
     "name": "stderr",
     "output_type": "stream",
     "text": [
      "\n",
      "C:\\Users\\Lokes S\\AppData\\Local\\Temp\\ipykernel_20016\\1850231727.py:32: SettingWithCopyWarning: \n",
      "A value is trying to be set on a copy of a slice from a DataFrame.\n",
      "Try using .loc[row_indexer,col_indexer] = value instead\n",
      "\n",
      "See the caveats in the documentation: https://pandas.pydata.org/pandas-docs/stable/user_guide/indexing.html#returning-a-view-versus-a-copy\n",
      "  df[['Close', '5-day MA', '10-day MA', 'Daily Return', 'RSI', 'MACD', 'Bollinger High', 'Bollinger Low']] = scaler.fit_transform(df[['Close', '5-day MA', '10-day MA', 'Daily Return', 'RSI', 'MACD', 'Bollinger High', 'Bollinger Low']])\n",
      "C:\\Users\\Lokes S\\AppData\\Local\\Temp\\ipykernel_20016\\1850231727.py:35: SettingWithCopyWarning: \n",
      "A value is trying to be set on a copy of a slice from a DataFrame.\n",
      "Try using .loc[row_indexer,col_indexer] = value instead\n",
      "\n",
      "See the caveats in the documentation: https://pandas.pydata.org/pandas-docs/stable/user_guide/indexing.html#returning-a-view-versus-a-copy\n",
      "  df['target'] = np.where(df['Close'].shift(-1) > df['Close'], 1.0, 0.0)\n"
     ]
    }
   ],
   "source": [
    "import yfinance as yf\n",
    "import pandas as pd\n",
    "import numpy as np\n",
    "import ta  # Technical Analysis library\n",
    "from sklearn.preprocessing import StandardScaler\n",
    "\n",
    "# Step 1: Download Stock Price Data using Yahoo Finance\n",
    "data = yf.download('AAPL', interval='1d', start='2022-01-01', end='2023-12-31')\n",
    "\n",
    "# Step 2: Create Sequential Features\n",
    "data['5-day MA'] = data['Close'].rolling(window=5).mean()\n",
    "data['10-day MA'] = data['Close'].rolling(window=10).mean()\n",
    "data['Daily Return'] = data['Close'].pct_change()\n",
    "\n",
    "# Add technical indicators\n",
    "data['RSI'] = ta.momentum.RSIIndicator(data['Close']).rsi()\n",
    "macd = ta.trend.MACD(data['Close'])\n",
    "data['MACD'] = macd.macd()\n",
    "data['MACD Signal'] = macd.macd_signal()\n",
    "bollinger = ta.volatility.BollingerBands(data['Close'])\n",
    "data['Bollinger High'] = bollinger.bollinger_hband()\n",
    "data['Bollinger Low'] = bollinger.bollinger_lband()\n",
    "\n",
    "# Drop NaN values resulting from rolling operations\n",
    "data = data.dropna()\n",
    "\n",
    "# Step 3: Select 8 Sequential Features\n",
    "df = data[['Close', '5-day MA', '10-day MA', 'Daily Return', 'RSI', 'MACD', 'Bollinger High', 'Bollinger Low']]\n",
    "\n",
    "# Step 4: Normalize the features\n",
    "scaler = StandardScaler()\n",
    "df[['Close', '5-day MA', '10-day MA', 'Daily Return', 'RSI', 'MACD', 'Bollinger High', 'Bollinger Low']] = scaler.fit_transform(df[['Close', '5-day MA', '10-day MA', 'Daily Return', 'RSI', 'MACD', 'Bollinger High', 'Bollinger Low']])\n",
    "\n",
    "# Step 5: Generate Target Labels for Classification\n",
    "df['target'] = np.where(df['Close'].shift(-1) > df['Close'], 1.0, 0.0)\n",
    "df = df.dropna()\n",
    "\n",
    "# Print Label Distribution\n",
    "label_distribution = df['target'].value_counts()\n",
    "print(\"Label Distribution:\")\n",
    "print(label_distribution)\n",
    "\n",
    "label_percentage = df['target'].value_counts(normalize=True) * 100\n",
    "print(\"\\nLabel Percentage Distribution:\")\n",
    "print(label_percentage)\n",
    "\n",
    "# Save the preprocessed data to a CSV file\n",
    "df.to_csv('eight_feature_stock_data.csv', index=True)\n"
   ]
  },
  {
   "cell_type": "code",
   "execution_count": 140,
   "id": "fad36bf6",
   "metadata": {},
   "outputs": [
    {
     "name": "stdout",
     "output_type": "stream",
     "text": [
      "      Day 1     Day 2     Day 3     Day 4     Day 5     Day 6     Day 7  \\\n",
      "0  0.028771  0.771015  0.000000  2.646761  2.951713  3.285436  4.873499   \n",
      "1  0.655214  0.000000  2.249233  2.508383  2.791983  4.141529  4.102411   \n",
      "2  0.000000  1.796310  2.003276  2.229768  3.307559  3.276318  3.803493   \n",
      "3  0.000000  0.257946  0.540228  1.883500  1.844564  2.501593  3.075892   \n",
      "4  0.000000  0.294367  1.695146  1.654543  2.339699  2.938585  2.568093   \n",
      "\n",
      "      Day 8     Day 9    Day 10    Day 11    Day 12  target  \n",
      "0  4.827467  5.604229  6.283185  5.863158  5.897680       1  \n",
      "1  4.762507  5.339489  4.982547  5.011884  6.283185       1  \n",
      "2  4.264289  3.979223  4.002653  5.017955  6.283185       1  \n",
      "3  2.720610  2.749810  4.015202  5.592085  6.283185       0  \n",
      "4  2.598543  3.918108  5.562498  6.283185  5.943143       1  \n",
      "Label Distribution:\n",
      "target\n",
      "1    131\n",
      "0    107\n",
      "Name: count, dtype: int64\n",
      "\n",
      "Label Percentage Distribution:\n",
      "target\n",
      "1    55.042017\n",
      "0    44.957983\n",
      "Name: proportion, dtype: float64\n"
     ]
    }
   ],
   "source": [
    "import yfinance as yf\n",
    "import pandas as pd\n",
    "import numpy as np\n",
    "\n",
    "# Step 1: Download Historical Data\n",
    "# Choose a stock or financial asset (e.g., 'AAPL' for Apple)\n",
    "ticker = 'AAPL'\n",
    "data = yf.download(ticker, start='2023-01-01', end='2024-01-01', progress=False)\n",
    "\n",
    "# Step 2: Prepare the Sequential Dataset with 12 Features (Daily Closing Prices)\n",
    "# Ensure there are enough rows to form sequences\n",
    "if len(data) < 13:\n",
    "    raise ValueError(\"Not enough data to create a sequence with 12 days and a label.\")\n",
    "\n",
    "# Extract the 'Close' column (daily closing prices)\n",
    "closing_prices = data['Close'].tolist()\n",
    "\n",
    "# Create a sequential dataset of 12 features\n",
    "# This will create sequences of 12 consecutive days\n",
    "sequences = []\n",
    "labels = []\n",
    "for i in range(len(closing_prices) - 12):\n",
    "    sequence = closing_prices[i:i+12]  # Days 1 to 12\n",
    "    day_13 = closing_prices[i+12]      # Day 13\n",
    "    \n",
    "    # Determine the label: 1 if Day 13 is higher than Day 12, else 0\n",
    "    label = 1 if day_13 > sequence[-1] else 0\n",
    "    \n",
    "    sequences.append(sequence)\n",
    "    labels.append(label)\n",
    "\n",
    "# Convert to DataFrame for easy manipulation\n",
    "df = pd.DataFrame(sequences, columns=[f\"Day {i+1}\" for i in range(12)])\n",
    "df['target'] = labels\n",
    "\n",
    "# Step 3: Normalize the Data\n",
    "# Normalize each sequence to the range [0, 1] or [0, 2π] for quantum encoding\n",
    "# Here we normalize to [0, 2π]\n",
    "df.iloc[:, :-1] = df.iloc[:, :-1].apply(lambda x: 2 * np.pi * (x - x.min()) / (x.max() - x.min()), axis=1)\n",
    "\n",
    "# Display the normalized dataset with labels\n",
    "print(df.head())\n",
    "\n",
    "# Optionally, save the dataset to a CSV file\n",
    "df.to_csv('normalized_sequential_data_with_labels.csv', index=False)\n",
    "\n",
    "# Print Label Distribution\n",
    "label_distribution = df['target'].value_counts()\n",
    "print(\"Label Distribution:\")\n",
    "print(label_distribution)\n",
    "\n",
    "label_percentage = df['target'].value_counts(normalize=True) * 100\n",
    "print(\"\\nLabel Percentage Distribution:\")\n",
    "print(label_percentage)\n",
    "\n"
   ]
  },
  {
   "cell_type": "code",
   "execution_count": 141,
   "id": "18354d97",
   "metadata": {},
   "outputs": [
    {
     "data": {
      "text/html": [
       "<div>\n",
       "<style scoped>\n",
       "    .dataframe tbody tr th:only-of-type {\n",
       "        vertical-align: middle;\n",
       "    }\n",
       "\n",
       "    .dataframe tbody tr th {\n",
       "        vertical-align: top;\n",
       "    }\n",
       "\n",
       "    .dataframe thead th {\n",
       "        text-align: right;\n",
       "    }\n",
       "</style>\n",
       "<table border=\"1\" class=\"dataframe\">\n",
       "  <thead>\n",
       "    <tr style=\"text-align: right;\">\n",
       "      <th></th>\n",
       "      <th>Day 1</th>\n",
       "      <th>Day 2</th>\n",
       "      <th>Day 3</th>\n",
       "      <th>Day 4</th>\n",
       "      <th>Day 5</th>\n",
       "      <th>Day 6</th>\n",
       "      <th>Day 7</th>\n",
       "      <th>Day 8</th>\n",
       "      <th>Day 9</th>\n",
       "      <th>Day 10</th>\n",
       "      <th>Day 11</th>\n",
       "      <th>Day 12</th>\n",
       "      <th>target</th>\n",
       "    </tr>\n",
       "  </thead>\n",
       "  <tbody>\n",
       "    <tr>\n",
       "      <th>0</th>\n",
       "      <td>0.028771</td>\n",
       "      <td>0.771015</td>\n",
       "      <td>0.000000</td>\n",
       "      <td>2.646761</td>\n",
       "      <td>2.951713</td>\n",
       "      <td>3.285436</td>\n",
       "      <td>4.873499</td>\n",
       "      <td>4.827467</td>\n",
       "      <td>5.604229</td>\n",
       "      <td>6.283185</td>\n",
       "      <td>5.863158</td>\n",
       "      <td>5.897680</td>\n",
       "      <td>1</td>\n",
       "    </tr>\n",
       "    <tr>\n",
       "      <th>1</th>\n",
       "      <td>0.655214</td>\n",
       "      <td>0.000000</td>\n",
       "      <td>2.249233</td>\n",
       "      <td>2.508383</td>\n",
       "      <td>2.791983</td>\n",
       "      <td>4.141529</td>\n",
       "      <td>4.102411</td>\n",
       "      <td>4.762507</td>\n",
       "      <td>5.339489</td>\n",
       "      <td>4.982547</td>\n",
       "      <td>5.011884</td>\n",
       "      <td>6.283185</td>\n",
       "      <td>1</td>\n",
       "    </tr>\n",
       "    <tr>\n",
       "      <th>2</th>\n",
       "      <td>0.000000</td>\n",
       "      <td>1.796310</td>\n",
       "      <td>2.003276</td>\n",
       "      <td>2.229768</td>\n",
       "      <td>3.307559</td>\n",
       "      <td>3.276318</td>\n",
       "      <td>3.803493</td>\n",
       "      <td>4.264289</td>\n",
       "      <td>3.979223</td>\n",
       "      <td>4.002653</td>\n",
       "      <td>5.017955</td>\n",
       "      <td>6.283185</td>\n",
       "      <td>1</td>\n",
       "    </tr>\n",
       "    <tr>\n",
       "      <th>3</th>\n",
       "      <td>0.000000</td>\n",
       "      <td>0.257946</td>\n",
       "      <td>0.540228</td>\n",
       "      <td>1.883500</td>\n",
       "      <td>1.844564</td>\n",
       "      <td>2.501593</td>\n",
       "      <td>3.075892</td>\n",
       "      <td>2.720610</td>\n",
       "      <td>2.749810</td>\n",
       "      <td>4.015202</td>\n",
       "      <td>5.592085</td>\n",
       "      <td>6.283185</td>\n",
       "      <td>0</td>\n",
       "    </tr>\n",
       "    <tr>\n",
       "      <th>4</th>\n",
       "      <td>0.000000</td>\n",
       "      <td>0.294367</td>\n",
       "      <td>1.695146</td>\n",
       "      <td>1.654543</td>\n",
       "      <td>2.339699</td>\n",
       "      <td>2.938585</td>\n",
       "      <td>2.568093</td>\n",
       "      <td>2.598543</td>\n",
       "      <td>3.918108</td>\n",
       "      <td>5.562498</td>\n",
       "      <td>6.283185</td>\n",
       "      <td>5.943143</td>\n",
       "      <td>1</td>\n",
       "    </tr>\n",
       "  </tbody>\n",
       "</table>\n",
       "</div>"
      ],
      "text/plain": [
       "      Day 1     Day 2     Day 3     Day 4     Day 5     Day 6     Day 7  \\\n",
       "0  0.028771  0.771015  0.000000  2.646761  2.951713  3.285436  4.873499   \n",
       "1  0.655214  0.000000  2.249233  2.508383  2.791983  4.141529  4.102411   \n",
       "2  0.000000  1.796310  2.003276  2.229768  3.307559  3.276318  3.803493   \n",
       "3  0.000000  0.257946  0.540228  1.883500  1.844564  2.501593  3.075892   \n",
       "4  0.000000  0.294367  1.695146  1.654543  2.339699  2.938585  2.568093   \n",
       "\n",
       "      Day 8     Day 9    Day 10    Day 11    Day 12  target  \n",
       "0  4.827467  5.604229  6.283185  5.863158  5.897680       1  \n",
       "1  4.762507  5.339489  4.982547  5.011884  6.283185       1  \n",
       "2  4.264289  3.979223  4.002653  5.017955  6.283185       1  \n",
       "3  2.720610  2.749810  4.015202  5.592085  6.283185       0  \n",
       "4  2.598543  3.918108  5.562498  6.283185  5.943143       1  "
      ]
     },
     "execution_count": 141,
     "metadata": {},
     "output_type": "execute_result"
    }
   ],
   "source": [
    "df.head()"
   ]
  },
  {
   "cell_type": "code",
   "execution_count": 142,
   "id": "fc4acc31",
   "metadata": {},
   "outputs": [
    {
     "name": "stdout",
     "output_type": "stream",
     "text": [
      "First X sample (original)  : [0.0287709  0.77101545 0.         2.64676076 2.95171303 3.2854362\n",
      " 4.8734988  4.82746711 5.60422884 6.28318531 5.8631582  5.89767977\n",
      " 1.        ]\n"
     ]
    }
   ],
   "source": [
    "#data = np.loadtxt(\"iris.txt\")\n",
    "X = np.array(df)\n",
    "print(f\"First X sample (original)  : {X[0]}\")\n",
    "\n",
    "# pad the vectors to size 2^2=4 with constant values\n",
    "#padding = np.ones((len(X), 2)) * 0.1\n",
    "#X_pad = np.c_[X, padding]\n",
    "#print(f\"First X sample (padded)    : {X_pad[0]}\")\n",
    "\n",
    "# normalize each input\n",
    "#normalization = np.sqrt(np.sum(X**2, -1))\n",
    "#X_norm = (X.T / normalization).T\n",
    "#print(f\"First X sample (normalized): {X_norm[0]}\")\n",
    "\n",
    "# the angles for state preparation are the features\n",
    "#features = np.array([get_angles(x) for x in X_norm], requires_grad=False)\n",
    "#print(f\"First features sample      : {features[0]}\")\n",
    "\n",
    "Y = np.array(df['target'])"
   ]
  },
  {
   "cell_type": "code",
   "execution_count": 143,
   "id": "d74f343c",
   "metadata": {},
   "outputs": [
    {
     "name": "stdout",
     "output_type": "stream",
     "text": [
      "(178,) (60,)\n",
      "(178, 13) (60, 13)\n"
     ]
    }
   ],
   "source": [
    "np.random.seed(0)\n",
    "num_data = len(Y)\n",
    "num_train = int(0.75 * num_data)\n",
    "index = np.random.permutation(range(num_data))\n",
    "#feats_train = features[index[:num_train]]\n",
    "Y_train = Y[index[:num_train]]\n",
    "#feats_val = features[index[num_train:]]\n",
    "Y_val = Y[index[num_train:]]\n",
    "\n",
    "# We need these later for plotting\n",
    "X_train = X[index[:num_train]]\n",
    "X_val = X[index[num_train:]]\n",
    "\n",
    "#print(feats_train[:5],feats_val[:5])\n",
    "print(Y_train.shape,Y_val.shape)\n",
    "print(X_train.shape,X_val.shape)"
   ]
  },
  {
   "cell_type": "code",
   "execution_count": null,
   "id": "36f0e30e",
   "metadata": {},
   "outputs": [],
   "source": []
  },
  {
   "cell_type": "code",
   "execution_count": null,
   "id": "a5cc1801",
   "metadata": {},
   "outputs": [],
   "source": []
  },
  {
   "cell_type": "code",
   "execution_count": 303,
   "id": "6ad7776b",
   "metadata": {},
   "outputs": [
    {
     "data": {
      "text/plain": [
       "((700, 4), (700,))"
      ]
     },
     "execution_count": 303,
     "metadata": {},
     "output_type": "execute_result"
    }
   ],
   "source": [
    "import pandas as pd\n",
    "from sklearn.model_selection import train_test_split\n",
    "\n",
    "# Step 1: Load the dataset\n",
    "url = \"https://raw.githubusercontent.com/jbrownlee/Datasets/master/pima-indians-diabetes.data.csv\"\n",
    "columns = [\"Pregnancies\", \"Glucose\", \"BloodPressure\", \"SkinThickness\", \"Insulin\", \n",
    "           \"BMI\", \"DiabetesPedigreeFunction\", \"Age\", \"Class\"]\n",
    "df = pd.read_csv(url, header=None, names=columns)\n",
    "\n",
    "df = df.astype(float)\n",
    "\n",
    "# Step 2: Select four features and the target\n",
    "selected_features = [\"Pregnancies\", \"Glucose\", \"BloodPressure\", \"BMI\"]\n",
    "X = np.array(df[selected_features])\n",
    "Y = np.array(df[\"Class\"].apply(lambda x: 0 if x == 0 else 1))\n",
    "#Y = np.array(df[\"Class\"])\n",
    "\n",
    "X = X[:700]\n",
    "Y = Y[:700]\n",
    "\n",
    "X.shape,Y.shape\n",
    "# Your data is now ready for modeling\n"
   ]
  },
  {
   "cell_type": "code",
   "execution_count": null,
   "id": "cb206a57",
   "metadata": {},
   "outputs": [],
   "source": []
  },
  {
   "cell_type": "code",
   "execution_count": 304,
   "id": "d9377076",
   "metadata": {},
   "outputs": [
    {
     "name": "stdout",
     "output_type": "stream",
     "text": [
      "First X sample (normalized): [0.35294118 0.74371859 0.59016393 0.50074516]\n",
      "First features sample      : [2.21759481 4.67292174 3.70810936 3.14627461]\n"
     ]
    }
   ],
   "source": [
    "#normalization = np.sqrt(np.sum(X**2, -1))\n",
    "from sklearn.preprocessing import MinMaxScaler\n",
    "\n",
    "scaler = MinMaxScaler()\n",
    "X_norm = scaler.fit_transform(X)\n",
    "#X_norm = (X.T / normalization).T\n",
    "#print(f\"First X sample (original)  : {X[0]}\")\n",
    "print(f\"First X sample (normalized): {X_norm[0]}\")\n",
    "\n",
    "# the angles for state preparation are the features\n",
    "#features = np.array([get_angles(x) for x in X_norm], requires_grad=False)\n",
    "#features = 2*np.pi*X_norm\n",
    "print(f\"First features sample      : {features[0]}\")\n",
    "\n",
    "#Y = data[:, -1]"
   ]
  },
  {
   "cell_type": "code",
   "execution_count": 305,
   "id": "d0530f4c",
   "metadata": {},
   "outputs": [
    {
     "name": "stdout",
     "output_type": "stream",
     "text": [
      "(525,) (175,)\n",
      "(525, 4) (175, 4)\n"
     ]
    }
   ],
   "source": [
    "np.random.seed(0)\n",
    "num_data = len(Y)\n",
    "num_train = int(0.75 * num_data)\n",
    "index = np.random.permutation(range(num_data))\n",
    "#feats_train = features[index[:num_train]]\n",
    "Y_train = Y[index[:num_train]]\n",
    "#feats_val = features[index[num_train:]]\n",
    "Y_val = Y[index[num_train:]]\n",
    "\n",
    "# We need these later for plotting\n",
    "X_train = X[index[:num_train]]\n",
    "X_val = X[index[num_train:]]\n",
    "\n",
    "#print(feats_train[:5],feats_val[:5])\n",
    "print(Y_train.shape,Y_val.shape)\n",
    "print(X_train.shape,X_val.shape)"
   ]
  },
  {
   "cell_type": "markdown",
   "id": "f974e42c",
   "metadata": {},
   "source": [
    "# Models"
   ]
  },
  {
   "cell_type": "code",
   "execution_count": 306,
   "id": "f8ef5974",
   "metadata": {},
   "outputs": [
    {
     "data": {
      "text/plain": [
       "((525, 4), 1)"
      ]
     },
     "execution_count": 306,
     "metadata": {},
     "output_type": "execute_result"
    }
   ],
   "source": [
    "(X_train.shape,1)"
   ]
  },
  {
   "cell_type": "code",
   "execution_count": null,
   "id": "c4f46f30",
   "metadata": {},
   "outputs": [],
   "source": []
  },
  {
   "cell_type": "code",
   "execution_count": 301,
   "id": "f713408b",
   "metadata": {},
   "outputs": [],
   "source": [
    "X_train = X_train.reshape(X_train.shape[0],X_train.shape[1],1)\n",
    "X_val = X_val.reshape(X_val.shape[0],X_val.shape[1],1)\n",
    "y_train = Y_train\n",
    "y_test = Y_val\n",
    "X_test = X_val\n"
   ]
  },
  {
   "cell_type": "code",
   "execution_count": 302,
   "id": "0c45640c",
   "metadata": {},
   "outputs": [
    {
     "name": "stderr",
     "output_type": "stream",
     "text": [
      "e:\\Anaconda\\envs\\quantum\\Lib\\site-packages\\keras\\src\\layers\\core\\dense.py:87: UserWarning: Do not pass an `input_shape`/`input_dim` argument to a layer. When using Sequential models, prefer using an `Input(shape)` object as the first layer in the model instead.\n",
      "  super().__init__(activity_regularizer=activity_regularizer, **kwargs)\n"
     ]
    },
    {
     "name": "stdout",
     "output_type": "stream",
     "text": [
      "Epoch 1/200, Train Accuracy: 0.6610, Test Accuracy: 0.6400\n",
      "Epoch 2/200, Train Accuracy: 0.6819, Test Accuracy: 0.6457\n",
      "Epoch 3/200, Train Accuracy: 0.7105, Test Accuracy: 0.6571\n",
      "Epoch 4/200, Train Accuracy: 0.7010, Test Accuracy: 0.6743\n",
      "Epoch 5/200, Train Accuracy: 0.7029, Test Accuracy: 0.6629\n",
      "Epoch 6/200, Train Accuracy: 0.7467, Test Accuracy: 0.6743\n",
      "Epoch 7/200, Train Accuracy: 0.7429, Test Accuracy: 0.6800\n",
      "Epoch 8/200, Train Accuracy: 0.7505, Test Accuracy: 0.6629\n",
      "Epoch 9/200, Train Accuracy: 0.6686, Test Accuracy: 0.6400\n",
      "Epoch 10/200, Train Accuracy: 0.7695, Test Accuracy: 0.6857\n",
      "Epoch 11/200, Train Accuracy: 0.7581, Test Accuracy: 0.6914\n",
      "Epoch 12/200, Train Accuracy: 0.6952, Test Accuracy: 0.6343\n",
      "Epoch 13/200, Train Accuracy: 0.7029, Test Accuracy: 0.6571\n",
      "Epoch 14/200, Train Accuracy: 0.7181, Test Accuracy: 0.6686\n",
      "Epoch 15/200, Train Accuracy: 0.7733, Test Accuracy: 0.6914\n",
      "Epoch 16/200, Train Accuracy: 0.7829, Test Accuracy: 0.6743\n",
      "Epoch 17/200, Train Accuracy: 0.7848, Test Accuracy: 0.7029\n",
      "Epoch 18/200, Train Accuracy: 0.7657, Test Accuracy: 0.6914\n",
      "Epoch 19/200, Train Accuracy: 0.7905, Test Accuracy: 0.6971\n",
      "Epoch 20/200, Train Accuracy: 0.8019, Test Accuracy: 0.6914\n",
      "Epoch 21/200, Train Accuracy: 0.7314, Test Accuracy: 0.6743\n",
      "Epoch 22/200, Train Accuracy: 0.7562, Test Accuracy: 0.6571\n",
      "Epoch 23/200, Train Accuracy: 0.7638, Test Accuracy: 0.6800\n",
      "Epoch 24/200, Train Accuracy: 0.7848, Test Accuracy: 0.6971\n",
      "Epoch 25/200, Train Accuracy: 0.7752, Test Accuracy: 0.6971\n",
      "Epoch 26/200, Train Accuracy: 0.8019, Test Accuracy: 0.6971\n",
      "Epoch 27/200, Train Accuracy: 0.7829, Test Accuracy: 0.6914\n",
      "Epoch 28/200, Train Accuracy: 0.7390, Test Accuracy: 0.6686\n",
      "Epoch 29/200, Train Accuracy: 0.8057, Test Accuracy: 0.7086\n",
      "Epoch 30/200, Train Accuracy: 0.8095, Test Accuracy: 0.7029\n",
      "Epoch 31/200, Train Accuracy: 0.7867, Test Accuracy: 0.7029\n",
      "Epoch 32/200, Train Accuracy: 0.8133, Test Accuracy: 0.7086\n",
      "Epoch 33/200, Train Accuracy: 0.7924, Test Accuracy: 0.7086\n",
      "Epoch 34/200, Train Accuracy: 0.8114, Test Accuracy: 0.7029\n",
      "Epoch 35/200, Train Accuracy: 0.7867, Test Accuracy: 0.7200\n",
      "Epoch 36/200, Train Accuracy: 0.7581, Test Accuracy: 0.6800\n",
      "Epoch 37/200, Train Accuracy: 0.7981, Test Accuracy: 0.7200\n",
      "Epoch 38/200, Train Accuracy: 0.8095, Test Accuracy: 0.7029\n",
      "Epoch 39/200, Train Accuracy: 0.8000, Test Accuracy: 0.7086\n",
      "Epoch 40/200, Train Accuracy: 0.8190, Test Accuracy: 0.7086\n",
      "Epoch 41/200, Train Accuracy: 0.7962, Test Accuracy: 0.7200\n",
      "Epoch 42/200, Train Accuracy: 0.8171, Test Accuracy: 0.7143\n",
      "Epoch 43/200, Train Accuracy: 0.8114, Test Accuracy: 0.7200\n",
      "Epoch 44/200, Train Accuracy: 0.8114, Test Accuracy: 0.7086\n",
      "Epoch 45/200, Train Accuracy: 0.8133, Test Accuracy: 0.6971\n",
      "Epoch 46/200, Train Accuracy: 0.8171, Test Accuracy: 0.7029\n",
      "Epoch 47/200, Train Accuracy: 0.8210, Test Accuracy: 0.7200\n",
      "Epoch 48/200, Train Accuracy: 0.8248, Test Accuracy: 0.7314\n",
      "Epoch 49/200, Train Accuracy: 0.8286, Test Accuracy: 0.7086\n",
      "Epoch 50/200, Train Accuracy: 0.8286, Test Accuracy: 0.7029\n",
      "Epoch 51/200, Train Accuracy: 0.8152, Test Accuracy: 0.7200\n",
      "Epoch 52/200, Train Accuracy: 0.8286, Test Accuracy: 0.7029\n",
      "Epoch 53/200, Train Accuracy: 0.7962, Test Accuracy: 0.6800\n",
      "Epoch 54/200, Train Accuracy: 0.8305, Test Accuracy: 0.7086\n",
      "Epoch 55/200, Train Accuracy: 0.8267, Test Accuracy: 0.7371\n",
      "Epoch 56/200, Train Accuracy: 0.8267, Test Accuracy: 0.7029\n",
      "Epoch 57/200, Train Accuracy: 0.8057, Test Accuracy: 0.7029\n",
      "Epoch 58/200, Train Accuracy: 0.8343, Test Accuracy: 0.6971\n",
      "Epoch 59/200, Train Accuracy: 0.8305, Test Accuracy: 0.6971\n",
      "Epoch 60/200, Train Accuracy: 0.8267, Test Accuracy: 0.7200\n",
      "Epoch 61/200, Train Accuracy: 0.8190, Test Accuracy: 0.7200\n",
      "Epoch 62/200, Train Accuracy: 0.8305, Test Accuracy: 0.7086\n",
      "Epoch 63/200, Train Accuracy: 0.8057, Test Accuracy: 0.6914\n",
      "Epoch 64/200, Train Accuracy: 0.8095, Test Accuracy: 0.6914\n",
      "Epoch 65/200, Train Accuracy: 0.8095, Test Accuracy: 0.6857\n",
      "Epoch 66/200, Train Accuracy: 0.8286, Test Accuracy: 0.7200\n",
      "Epoch 67/200, Train Accuracy: 0.8381, Test Accuracy: 0.7143\n",
      "Epoch 68/200, Train Accuracy: 0.8438, Test Accuracy: 0.7143\n",
      "Epoch 69/200, Train Accuracy: 0.8229, Test Accuracy: 0.6971\n",
      "Epoch 70/200, Train Accuracy: 0.8400, Test Accuracy: 0.7143\n",
      "Epoch 71/200, Train Accuracy: 0.7924, Test Accuracy: 0.6686\n",
      "Epoch 72/200, Train Accuracy: 0.8419, Test Accuracy: 0.7371\n",
      "Epoch 73/200, Train Accuracy: 0.8019, Test Accuracy: 0.6686\n",
      "Epoch 74/200, Train Accuracy: 0.8229, Test Accuracy: 0.7029\n",
      "Epoch 75/200, Train Accuracy: 0.8381, Test Accuracy: 0.7143\n",
      "Epoch 76/200, Train Accuracy: 0.7886, Test Accuracy: 0.6743\n",
      "Epoch 77/200, Train Accuracy: 0.8267, Test Accuracy: 0.7143\n",
      "Epoch 78/200, Train Accuracy: 0.8476, Test Accuracy: 0.7200\n",
      "Epoch 79/200, Train Accuracy: 0.8381, Test Accuracy: 0.7143\n",
      "Epoch 80/200, Train Accuracy: 0.8362, Test Accuracy: 0.7086\n",
      "Epoch 81/200, Train Accuracy: 0.8095, Test Accuracy: 0.6914\n",
      "Epoch 82/200, Train Accuracy: 0.8152, Test Accuracy: 0.6971\n",
      "Epoch 83/200, Train Accuracy: 0.8400, Test Accuracy: 0.7143\n",
      "Epoch 84/200, Train Accuracy: 0.8400, Test Accuracy: 0.7086\n",
      "Epoch 85/200, Train Accuracy: 0.8381, Test Accuracy: 0.7257\n",
      "Epoch 86/200, Train Accuracy: 0.8533, Test Accuracy: 0.7143\n",
      "Epoch 87/200, Train Accuracy: 0.7886, Test Accuracy: 0.6743\n",
      "Epoch 88/200, Train Accuracy: 0.8362, Test Accuracy: 0.7029\n",
      "Epoch 89/200, Train Accuracy: 0.8343, Test Accuracy: 0.7086\n",
      "Epoch 90/200, Train Accuracy: 0.8343, Test Accuracy: 0.7200\n",
      "Epoch 91/200, Train Accuracy: 0.8419, Test Accuracy: 0.7086\n",
      "Epoch 92/200, Train Accuracy: 0.8152, Test Accuracy: 0.6971\n",
      "Epoch 93/200, Train Accuracy: 0.8362, Test Accuracy: 0.7143\n",
      "Epoch 94/200, Train Accuracy: 0.8362, Test Accuracy: 0.7086\n",
      "Epoch 95/200, Train Accuracy: 0.8419, Test Accuracy: 0.7143\n",
      "Epoch 96/200, Train Accuracy: 0.8400, Test Accuracy: 0.7429\n",
      "Epoch 97/200, Train Accuracy: 0.8362, Test Accuracy: 0.7086\n",
      "Epoch 98/200, Train Accuracy: 0.8324, Test Accuracy: 0.7200\n",
      "Epoch 99/200, Train Accuracy: 0.8267, Test Accuracy: 0.7086\n",
      "Epoch 100/200, Train Accuracy: 0.8324, Test Accuracy: 0.7143\n",
      "Epoch 101/200, Train Accuracy: 0.8286, Test Accuracy: 0.6914\n",
      "Epoch 102/200, Train Accuracy: 0.8438, Test Accuracy: 0.7200\n",
      "Epoch 103/200, Train Accuracy: 0.8362, Test Accuracy: 0.7086\n",
      "Epoch 104/200, Train Accuracy: 0.8438, Test Accuracy: 0.7200\n",
      "Epoch 105/200, Train Accuracy: 0.8476, Test Accuracy: 0.7086\n",
      "Epoch 106/200, Train Accuracy: 0.8305, Test Accuracy: 0.7086\n",
      "Epoch 107/200, Train Accuracy: 0.7867, Test Accuracy: 0.7143\n",
      "Epoch 108/200, Train Accuracy: 0.8190, Test Accuracy: 0.7086\n",
      "Epoch 109/200, Train Accuracy: 0.8381, Test Accuracy: 0.7143\n",
      "Epoch 110/200, Train Accuracy: 0.8095, Test Accuracy: 0.7086\n",
      "Epoch 111/200, Train Accuracy: 0.8381, Test Accuracy: 0.7029\n",
      "Epoch 112/200, Train Accuracy: 0.8190, Test Accuracy: 0.6914\n",
      "Epoch 113/200, Train Accuracy: 0.8381, Test Accuracy: 0.7029\n",
      "Epoch 114/200, Train Accuracy: 0.8457, Test Accuracy: 0.7086\n",
      "Epoch 115/200, Train Accuracy: 0.8190, Test Accuracy: 0.6800\n",
      "Epoch 116/200, Train Accuracy: 0.8457, Test Accuracy: 0.7143\n",
      "Epoch 117/200, Train Accuracy: 0.8305, Test Accuracy: 0.7086\n",
      "Epoch 118/200, Train Accuracy: 0.8419, Test Accuracy: 0.7143\n",
      "Epoch 119/200, Train Accuracy: 0.8495, Test Accuracy: 0.7029\n",
      "Epoch 120/200, Train Accuracy: 0.8419, Test Accuracy: 0.7143\n",
      "Epoch 121/200, Train Accuracy: 0.8495, Test Accuracy: 0.7086\n",
      "Epoch 122/200, Train Accuracy: 0.8171, Test Accuracy: 0.7086\n",
      "Epoch 123/200, Train Accuracy: 0.7829, Test Accuracy: 0.7143\n",
      "Epoch 124/200, Train Accuracy: 0.8476, Test Accuracy: 0.7143\n",
      "Epoch 125/200, Train Accuracy: 0.8343, Test Accuracy: 0.7143\n",
      "Epoch 126/200, Train Accuracy: 0.8476, Test Accuracy: 0.7143\n",
      "Epoch 127/200, Train Accuracy: 0.8495, Test Accuracy: 0.7257\n",
      "Epoch 128/200, Train Accuracy: 0.8495, Test Accuracy: 0.7143\n",
      "Epoch 129/200, Train Accuracy: 0.8362, Test Accuracy: 0.7029\n",
      "Epoch 130/200, Train Accuracy: 0.8362, Test Accuracy: 0.7257\n",
      "Epoch 131/200, Train Accuracy: 0.8419, Test Accuracy: 0.7257\n",
      "Epoch 132/200, Train Accuracy: 0.8476, Test Accuracy: 0.7143\n",
      "Epoch 133/200, Train Accuracy: 0.8476, Test Accuracy: 0.7200\n",
      "Epoch 134/200, Train Accuracy: 0.7981, Test Accuracy: 0.7086\n",
      "Epoch 135/200, Train Accuracy: 0.8552, Test Accuracy: 0.7086\n",
      "Epoch 136/200, Train Accuracy: 0.8514, Test Accuracy: 0.7143\n",
      "Epoch 137/200, Train Accuracy: 0.8324, Test Accuracy: 0.7200\n",
      "Epoch 138/200, Train Accuracy: 0.8286, Test Accuracy: 0.7086\n",
      "Epoch 139/200, Train Accuracy: 0.8495, Test Accuracy: 0.7143\n",
      "Epoch 140/200, Train Accuracy: 0.8514, Test Accuracy: 0.7143\n",
      "Epoch 141/200, Train Accuracy: 0.8457, Test Accuracy: 0.7029\n",
      "Epoch 142/200, Train Accuracy: 0.8362, Test Accuracy: 0.7029\n",
      "Epoch 143/200, Train Accuracy: 0.8476, Test Accuracy: 0.7143\n",
      "Epoch 144/200, Train Accuracy: 0.8476, Test Accuracy: 0.7143\n",
      "Epoch 145/200, Train Accuracy: 0.8552, Test Accuracy: 0.7143\n",
      "Epoch 146/200, Train Accuracy: 0.8438, Test Accuracy: 0.7200\n",
      "Epoch 147/200, Train Accuracy: 0.8438, Test Accuracy: 0.7086\n",
      "Epoch 148/200, Train Accuracy: 0.8495, Test Accuracy: 0.7200\n",
      "Epoch 149/200, Train Accuracy: 0.8381, Test Accuracy: 0.7143\n",
      "Epoch 150/200, Train Accuracy: 0.8324, Test Accuracy: 0.7086\n",
      "Epoch 151/200, Train Accuracy: 0.8476, Test Accuracy: 0.7200\n",
      "Epoch 152/200, Train Accuracy: 0.8419, Test Accuracy: 0.7029\n",
      "Epoch 153/200, Train Accuracy: 0.8514, Test Accuracy: 0.7086\n",
      "Epoch 154/200, Train Accuracy: 0.8495, Test Accuracy: 0.7143\n",
      "Epoch 155/200, Train Accuracy: 0.8248, Test Accuracy: 0.7029\n",
      "Epoch 156/200, Train Accuracy: 0.8457, Test Accuracy: 0.7143\n",
      "Epoch 157/200, Train Accuracy: 0.8495, Test Accuracy: 0.7143\n",
      "Epoch 158/200, Train Accuracy: 0.8495, Test Accuracy: 0.7029\n",
      "Epoch 159/200, Train Accuracy: 0.8514, Test Accuracy: 0.7086\n",
      "Epoch 160/200, Train Accuracy: 0.8457, Test Accuracy: 0.6914\n",
      "Epoch 161/200, Train Accuracy: 0.8533, Test Accuracy: 0.7143\n",
      "Epoch 162/200, Train Accuracy: 0.8381, Test Accuracy: 0.7029\n",
      "Epoch 163/200, Train Accuracy: 0.8381, Test Accuracy: 0.7086\n",
      "Epoch 164/200, Train Accuracy: 0.8514, Test Accuracy: 0.7086\n",
      "Epoch 165/200, Train Accuracy: 0.8590, Test Accuracy: 0.6971\n",
      "Epoch 166/200, Train Accuracy: 0.8152, Test Accuracy: 0.7086\n",
      "Epoch 167/200, Train Accuracy: 0.8552, Test Accuracy: 0.6914\n",
      "Epoch 168/200, Train Accuracy: 0.8514, Test Accuracy: 0.7029\n",
      "Epoch 169/200, Train Accuracy: 0.8533, Test Accuracy: 0.7143\n",
      "Epoch 170/200, Train Accuracy: 0.8571, Test Accuracy: 0.6971\n",
      "Epoch 171/200, Train Accuracy: 0.8514, Test Accuracy: 0.7086\n",
      "Epoch 172/200, Train Accuracy: 0.8419, Test Accuracy: 0.7086\n",
      "Epoch 173/200, Train Accuracy: 0.8610, Test Accuracy: 0.7029\n",
      "Epoch 174/200, Train Accuracy: 0.8495, Test Accuracy: 0.7371\n",
      "Epoch 175/200, Train Accuracy: 0.8533, Test Accuracy: 0.7143\n",
      "Epoch 176/200, Train Accuracy: 0.8381, Test Accuracy: 0.6971\n",
      "Epoch 177/200, Train Accuracy: 0.8533, Test Accuracy: 0.7029\n",
      "Epoch 178/200, Train Accuracy: 0.8533, Test Accuracy: 0.7200\n",
      "Epoch 179/200, Train Accuracy: 0.8571, Test Accuracy: 0.7029\n",
      "Epoch 180/200, Train Accuracy: 0.8457, Test Accuracy: 0.7086\n",
      "Epoch 181/200, Train Accuracy: 0.8552, Test Accuracy: 0.7257\n",
      "Epoch 182/200, Train Accuracy: 0.8495, Test Accuracy: 0.7200\n",
      "Epoch 183/200, Train Accuracy: 0.8457, Test Accuracy: 0.7029\n",
      "Epoch 184/200, Train Accuracy: 0.8571, Test Accuracy: 0.7029\n",
      "Epoch 185/200, Train Accuracy: 0.8533, Test Accuracy: 0.7143\n",
      "Epoch 186/200, Train Accuracy: 0.8476, Test Accuracy: 0.7143\n",
      "Epoch 187/200, Train Accuracy: 0.8590, Test Accuracy: 0.7029\n",
      "Epoch 188/200, Train Accuracy: 0.8495, Test Accuracy: 0.7143\n",
      "Epoch 189/200, Train Accuracy: 0.8514, Test Accuracy: 0.6971\n",
      "Epoch 190/200, Train Accuracy: 0.8552, Test Accuracy: 0.7257\n",
      "Epoch 191/200, Train Accuracy: 0.8533, Test Accuracy: 0.7029\n",
      "Epoch 192/200, Train Accuracy: 0.8514, Test Accuracy: 0.6857\n",
      "Epoch 193/200, Train Accuracy: 0.8571, Test Accuracy: 0.7143\n",
      "Epoch 194/200, Train Accuracy: 0.8495, Test Accuracy: 0.7257\n",
      "Epoch 195/200, Train Accuracy: 0.8438, Test Accuracy: 0.6971\n",
      "Epoch 196/200, Train Accuracy: 0.8552, Test Accuracy: 0.6800\n",
      "Epoch 197/200, Train Accuracy: 0.8533, Test Accuracy: 0.7086\n",
      "Epoch 198/200, Train Accuracy: 0.8590, Test Accuracy: 0.6743\n",
      "Epoch 199/200, Train Accuracy: 0.8514, Test Accuracy: 0.6914\n",
      "Epoch 200/200, Train Accuracy: 0.8533, Test Accuracy: 0.7086\n"
     ]
    },
    {
     "data": {
      "image/png": "[encoded data removed]",
      "text/plain": [
       "<Figure size 1200x500 with 2 Axes>"
      ]
     },
     "metadata": {},
     "output_type": "display_data"
    }
   ],
   "source": [
    "# Importing necessary libraries\n",
    "import numpy as np\n",
    "import matplotlib.pyplot as plt\n",
    "from sklearn.datasets import load_iris\n",
    "from sklearn.model_selection import train_test_split\n",
    "from sklearn.preprocessing import StandardScaler\n",
    "import tensorflow as tf\n",
    "from tensorflow.keras.models import Sequential\n",
    "from tensorflow.keras.layers import Dense\n",
    "from tensorflow.keras.optimizers import Adam\n",
    "from sklearn.metrics import accuracy_score, log_loss\n",
    "\n",
    "\n",
    "# Initialize the neural network model\n",
    "model = Sequential([\n",
    "    Dense(64, activation='relu', input_shape=(4,)),\n",
    "    Dense(32, activation='relu'),\n",
    "    Dense(1, activation='sigmoid')\n",
    "])\n",
    "\n",
    "# Compile the model\n",
    "model.compile(optimizer=Adam(learning_rate=0.001), loss='mean_squared_error', metrics=['accuracy'])\n",
    "\n",
    "# Lists to store accuracy and loss values\n",
    "train_acc_history = []\n",
    "test_acc_history = []\n",
    "train_loss_history = []\n",
    "test_loss_history = []\n",
    "\n",
    "# Training loop\n",
    "num_epochs = 200\n",
    "for epoch in range(num_epochs):\n",
    "    # Train the model for one epoch\n",
    "    history = model.fit(X_train, y_train, epochs=10, validation_data=(X_test, y_test), verbose=0)\n",
    "    \n",
    "    # Evaluate on training and test data\n",
    "    #y_pred = model.predict(X_test)\n",
    "    #print(y_pred,y_test)\n",
    "    train_loss, train_acc = model.evaluate(X_train, y_train, verbose=0)\n",
    "    test_loss, test_acc = model.evaluate(X_test, y_test, verbose=0)\n",
    "    \n",
    "    # Append accuracy and loss to history\n",
    "    train_acc_history.append(train_acc)\n",
    "    test_acc_history.append(test_acc)\n",
    "    train_loss_history.append(train_loss)\n",
    "    test_loss_history.append(test_loss)\n",
    "    \n",
    "    # Print accuracy after each epoch\n",
    "    print(f'Epoch {epoch + 1}/{num_epochs}, Train Accuracy: {train_acc:.4f}, Test Accuracy: {test_acc:.4f}')\n",
    "\n",
    "# Plotting accuracy\n",
    "plt.figure(figsize=(12, 5))\n",
    "\n",
    "plt.subplot(1, 2, 1)\n",
    "plt.plot(range(1, num_epochs + 1), train_acc_history, label='Train')\n",
    "plt.plot(range(1, num_epochs + 1), test_acc_history, label='Test')\n",
    "plt.xlabel('Epoch')\n",
    "plt.ylabel('Accuracy')\n",
    "plt.title('Accuracy over Epochs')\n",
    "plt.legend()\n",
    "\n",
    "# Plotting loss\n",
    "plt.subplot(1, 2, 2)\n",
    "plt.plot(range(1, num_epochs + 1), train_loss_history, label='Train')\n",
    "plt.plot(range(1, num_epochs + 1), test_loss_history, label='Test')\n",
    "plt.xlabel('Epoch')\n",
    "plt.ylabel('Binary Crossentropy Loss')\n",
    "plt.title('Loss over Epochs')\n",
    "plt.legend()\n",
    "\n",
    "plt.tight_layout()\n",
    "plt.show()\n"
   ]
  },
  {
   "cell_type": "code",
   "execution_count": null,
   "id": "b28ef4d5",
   "metadata": {},
   "outputs": [],
   "source": []
  },
  {
   "cell_type": "code",
   "execution_count": 42,
   "id": "a9fd1b9f",
   "metadata": {},
   "outputs": [],
   "source": [
    "from sklearn.datasets import load_iris\n",
    "import pandas as pd\n",
    "\n",
    "# Load the Iris dataset\n",
    "iris = load_iris()\n",
    "\n",
    "# Create a DataFrame\n",
    "iris_data = pd.DataFrame(data=iris.data, columns=iris.feature_names)\n",
    "iris_data['label'] = iris.target\n",
    "\n",
    "# Filter the dataset to include only two classes (0 and 1)\n",
    "binary_iris_data = iris_data[iris_data['label'] != 2]\n"
   ]
  },
  {
   "cell_type": "code",
   "execution_count": 43,
   "id": "2bbb374a",
   "metadata": {},
   "outputs": [],
   "source": [
    "from sklearn.model_selection import train_test_split\n",
    "from sklearn.preprocessing import StandardScaler\n",
    "\n",
    "# Features and labels\n",
    "X = binary_iris_data.drop('label', axis=1)\n",
    "y = binary_iris_data['label']\n",
    "\n",
    "# Train-test split\n",
    "X_train, X_test, y_train, y_test = train_test_split(X, y, test_size=0.2, random_state=42)\n",
    "\n",
    "# Standardize the features\n",
    "scaler = StandardScaler()\n",
    "X_train = scaler.fit_transform(X_train)\n",
    "X_test = scaler.transform(X_test)\n",
    "\n",
    "# Reshape for the self-attention model\n",
    "X_train = X_train.reshape((X_train.shape[0], X_train.shape[1], 1))\n",
    "X_test = X_test.reshape((X_test.shape[0], X_test.shape[1], 1))\n"
   ]
  },
  {
   "cell_type": "code",
   "execution_count": null,
   "id": "7a244ae3",
   "metadata": {},
   "outputs": [],
   "source": []
  },
  {
   "cell_type": "code",
   "execution_count": 44,
   "id": "a851f229",
   "metadata": {},
   "outputs": [
    {
     "data": {
      "text/html": [
       "<pre style=\"white-space:pre;overflow-x:auto;line-height:normal;font-family:Menlo,'DejaVu Sans Mono',consolas,'Courier New',monospace\"><span style=\"font-weight: bold\">Model: \"functional_23\"</span>\n",
       "</pre>\n"
      ],
      "text/plain": [
       "\u001b[1mModel: \"functional_23\"\u001b[0m\n"
      ]
     },
     "metadata": {},
     "output_type": "display_data"
    },
    {
     "data": {
      "text/html": [
       "<pre style=\"white-space:pre;overflow-x:auto;line-height:normal;font-family:Menlo,'DejaVu Sans Mono',consolas,'Courier New',monospace\">┏━━━━━━━━━━━━━━━━━━━━━┳━━━━━━━━━━━━━━━━━━━┳━━━━━━━━━━━━┳━━━━━━━━━━━━━━━━━━━┓\n",
       "┃<span style=\"font-weight: bold\"> Layer (type)        </span>┃<span style=\"font-weight: bold\"> Output Shape      </span>┃<span style=\"font-weight: bold\">    Param # </span>┃<span style=\"font-weight: bold\"> Connected to      </span>┃\n",
       "┡━━━━━━━━━━━━━━━━━━━━━╇━━━━━━━━━━━━━━━━━━━╇━━━━━━━━━━━━╇━━━━━━━━━━━━━━━━━━━┩\n",
       "│ input_layer_13      │ (<span style=\"color: #00d7ff; text-decoration-color: #00d7ff\">None</span>, <span style=\"color: #00af00; text-decoration-color: #00af00\">4</span>, <span style=\"color: #00af00; text-decoration-color: #00af00\">1</span>)      │          <span style=\"color: #00af00; text-decoration-color: #00af00\">0</span> │ -                 │\n",
       "│ (<span style=\"color: #0087ff; text-decoration-color: #0087ff\">InputLayer</span>)        │                   │            │                   │\n",
       "├─────────────────────┼───────────────────┼────────────┼───────────────────┤\n",
       "│ multi_head_attenti… │ (<span style=\"color: #00d7ff; text-decoration-color: #00d7ff\">None</span>, <span style=\"color: #00af00; text-decoration-color: #00af00\">4</span>, <span style=\"color: #00af00; text-decoration-color: #00af00\">1</span>)      │         <span style=\"color: #00af00; text-decoration-color: #00af00\">29</span> │ input_layer_13[<span style=\"color: #00af00; text-decoration-color: #00af00\">0</span>… │\n",
       "│ (<span style=\"color: #0087ff; text-decoration-color: #0087ff\">MultiHeadAttentio…</span> │                   │            │ input_layer_13[<span style=\"color: #00af00; text-decoration-color: #00af00\">0</span>… │\n",
       "├─────────────────────┼───────────────────┼────────────┼───────────────────┤\n",
       "│ flatten_2 (<span style=\"color: #0087ff; text-decoration-color: #0087ff\">Flatten</span>) │ (<span style=\"color: #00d7ff; text-decoration-color: #00d7ff\">None</span>, <span style=\"color: #00af00; text-decoration-color: #00af00\">4</span>)         │          <span style=\"color: #00af00; text-decoration-color: #00af00\">0</span> │ multi_head_atten… │\n",
       "├─────────────────────┼───────────────────┼────────────┼───────────────────┤\n",
       "│ dense_18 (<span style=\"color: #0087ff; text-decoration-color: #0087ff\">Dense</span>)    │ (<span style=\"color: #00d7ff; text-decoration-color: #00d7ff\">None</span>, <span style=\"color: #00af00; text-decoration-color: #00af00\">32</span>)        │        <span style=\"color: #00af00; text-decoration-color: #00af00\">160</span> │ flatten_2[<span style=\"color: #00af00; text-decoration-color: #00af00\">0</span>][<span style=\"color: #00af00; text-decoration-color: #00af00\">0</span>]   │\n",
       "├─────────────────────┼───────────────────┼────────────┼───────────────────┤\n",
       "│ dense_19 (<span style=\"color: #0087ff; text-decoration-color: #0087ff\">Dense</span>)    │ (<span style=\"color: #00d7ff; text-decoration-color: #00d7ff\">None</span>, <span style=\"color: #00af00; text-decoration-color: #00af00\">16</span>)        │        <span style=\"color: #00af00; text-decoration-color: #00af00\">528</span> │ dense_18[<span style=\"color: #00af00; text-decoration-color: #00af00\">0</span>][<span style=\"color: #00af00; text-decoration-color: #00af00\">0</span>]    │\n",
       "├─────────────────────┼───────────────────┼────────────┼───────────────────┤\n",
       "│ dropout_23          │ (<span style=\"color: #00d7ff; text-decoration-color: #00d7ff\">None</span>, <span style=\"color: #00af00; text-decoration-color: #00af00\">16</span>)        │          <span style=\"color: #00af00; text-decoration-color: #00af00\">0</span> │ dense_19[<span style=\"color: #00af00; text-decoration-color: #00af00\">0</span>][<span style=\"color: #00af00; text-decoration-color: #00af00\">0</span>]    │\n",
       "│ (<span style=\"color: #0087ff; text-decoration-color: #0087ff\">Dropout</span>)           │                   │            │                   │\n",
       "├─────────────────────┼───────────────────┼────────────┼───────────────────┤\n",
       "│ dense_20 (<span style=\"color: #0087ff; text-decoration-color: #0087ff\">Dense</span>)    │ (<span style=\"color: #00d7ff; text-decoration-color: #00d7ff\">None</span>, <span style=\"color: #00af00; text-decoration-color: #00af00\">1</span>)         │         <span style=\"color: #00af00; text-decoration-color: #00af00\">17</span> │ dropout_23[<span style=\"color: #00af00; text-decoration-color: #00af00\">0</span>][<span style=\"color: #00af00; text-decoration-color: #00af00\">0</span>]  │\n",
       "└─────────────────────┴───────────────────┴────────────┴───────────────────┘\n",
       "</pre>\n"
      ],
      "text/plain": [
       "┏━━━━━━━━━━━━━━━━━━━━━┳━━━━━━━━━━━━━━━━━━━┳━━━━━━━━━━━━┳━━━━━━━━━━━━━━━━━━━┓\n",
       "┃\u001b[1m \u001b[0m\u001b[1mLayer (type)       \u001b[0m\u001b[1m \u001b[0m┃\u001b[1m \u001b[0m\u001b[1mOutput Shape     \u001b[0m\u001b[1m \u001b[0m┃\u001b[1m \u001b[0m\u001b[1m   Param #\u001b[0m\u001b[1m \u001b[0m┃\u001b[1m \u001b[0m\u001b[1mConnected to     \u001b[0m\u001b[1m \u001b[0m┃\n",
       "┡━━━━━━━━━━━━━━━━━━━━━╇━━━━━━━━━━━━━━━━━━━╇━━━━━━━━━━━━╇━━━━━━━━━━━━━━━━━━━┩\n",
       "│ input_layer_13      │ (\u001b[38;5;45mNone\u001b[0m, \u001b[38;5;34m4\u001b[0m, \u001b[38;5;34m1\u001b[0m)      │          \u001b[38;5;34m0\u001b[0m │ -                 │\n",
       "│ (\u001b[38;5;33mInputLayer\u001b[0m)        │                   │            │                   │\n",
       "├─────────────────────┼───────────────────┼────────────┼───────────────────┤\n",
       "│ multi_head_attenti… │ (\u001b[38;5;45mNone\u001b[0m, \u001b[38;5;34m4\u001b[0m, \u001b[38;5;34m1\u001b[0m)      │         \u001b[38;5;34m29\u001b[0m │ input_layer_13[\u001b[38;5;34m0\u001b[0m… │\n",
       "│ (\u001b[38;5;33mMultiHeadAttentio…\u001b[0m │                   │            │ input_layer_13[\u001b[38;5;34m0\u001b[0m… │\n",
       "├─────────────────────┼───────────────────┼────────────┼───────────────────┤\n",
       "│ flatten_2 (\u001b[38;5;33mFlatten\u001b[0m) │ (\u001b[38;5;45mNone\u001b[0m, \u001b[38;5;34m4\u001b[0m)         │          \u001b[38;5;34m0\u001b[0m │ multi_head_atten… │\n",
       "├─────────────────────┼───────────────────┼────────────┼───────────────────┤\n",
       "│ dense_18 (\u001b[38;5;33mDense\u001b[0m)    │ (\u001b[38;5;45mNone\u001b[0m, \u001b[38;5;34m32\u001b[0m)        │        \u001b[38;5;34m160\u001b[0m │ flatten_2[\u001b[38;5;34m0\u001b[0m][\u001b[38;5;34m0\u001b[0m]   │\n",
       "├─────────────────────┼───────────────────┼────────────┼───────────────────┤\n",
       "│ dense_19 (\u001b[38;5;33mDense\u001b[0m)    │ (\u001b[38;5;45mNone\u001b[0m, \u001b[38;5;34m16\u001b[0m)        │        \u001b[38;5;34m528\u001b[0m │ dense_18[\u001b[38;5;34m0\u001b[0m][\u001b[38;5;34m0\u001b[0m]    │\n",
       "├─────────────────────┼───────────────────┼────────────┼───────────────────┤\n",
       "│ dropout_23          │ (\u001b[38;5;45mNone\u001b[0m, \u001b[38;5;34m16\u001b[0m)        │          \u001b[38;5;34m0\u001b[0m │ dense_19[\u001b[38;5;34m0\u001b[0m][\u001b[38;5;34m0\u001b[0m]    │\n",
       "│ (\u001b[38;5;33mDropout\u001b[0m)           │                   │            │                   │\n",
       "├─────────────────────┼───────────────────┼────────────┼───────────────────┤\n",
       "│ dense_20 (\u001b[38;5;33mDense\u001b[0m)    │ (\u001b[38;5;45mNone\u001b[0m, \u001b[38;5;34m1\u001b[0m)         │         \u001b[38;5;34m17\u001b[0m │ dropout_23[\u001b[38;5;34m0\u001b[0m][\u001b[38;5;34m0\u001b[0m]  │\n",
       "└─────────────────────┴───────────────────┴────────────┴───────────────────┘\n"
      ]
     },
     "metadata": {},
     "output_type": "display_data"
    },
    {
     "data": {
      "text/html": [
       "<pre style=\"white-space:pre;overflow-x:auto;line-height:normal;font-family:Menlo,'DejaVu Sans Mono',consolas,'Courier New',monospace\"><span style=\"font-weight: bold\"> Total params: </span><span style=\"color: #00af00; text-decoration-color: #00af00\">734</span> (2.87 KB)\n",
       "</pre>\n"
      ],
      "text/plain": [
       "\u001b[1m Total params: \u001b[0m\u001b[38;5;34m734\u001b[0m (2.87 KB)\n"
      ]
     },
     "metadata": {},
     "output_type": "display_data"
    },
    {
     "data": {
      "text/html": [
       "<pre style=\"white-space:pre;overflow-x:auto;line-height:normal;font-family:Menlo,'DejaVu Sans Mono',consolas,'Courier New',monospace\"><span style=\"font-weight: bold\"> Trainable params: </span><span style=\"color: #00af00; text-decoration-color: #00af00\">734</span> (2.87 KB)\n",
       "</pre>\n"
      ],
      "text/plain": [
       "\u001b[1m Trainable params: \u001b[0m\u001b[38;5;34m734\u001b[0m (2.87 KB)\n"
      ]
     },
     "metadata": {},
     "output_type": "display_data"
    },
    {
     "data": {
      "text/html": [
       "<pre style=\"white-space:pre;overflow-x:auto;line-height:normal;font-family:Menlo,'DejaVu Sans Mono',consolas,'Courier New',monospace\"><span style=\"font-weight: bold\"> Non-trainable params: </span><span style=\"color: #00af00; text-decoration-color: #00af00\">0</span> (0.00 B)\n",
       "</pre>\n"
      ],
      "text/plain": [
       "\u001b[1m Non-trainable params: \u001b[0m\u001b[38;5;34m0\u001b[0m (0.00 B)\n"
      ]
     },
     "metadata": {},
     "output_type": "display_data"
    },
    {
     "name": "stdout",
     "output_type": "stream",
     "text": [
      "Epoch 1/50\n",
      "\u001b[1m3/3\u001b[0m \u001b[32m━━━━━━━━━━━━━━━━━━━━\u001b[0m\u001b[37m\u001b[0m \u001b[1m4s\u001b[0m 179ms/step - accuracy: 0.3753 - loss: 0.6857 - val_accuracy: 0.5600 - val_loss: 0.6936\n",
      "Epoch 2/50\n",
      "\u001b[1m3/3\u001b[0m \u001b[32m━━━━━━━━━━━━━━━━━━━━\u001b[0m\u001b[37m\u001b[0m \u001b[1m0s\u001b[0m 39ms/step - accuracy: 0.2723 - loss: 0.6874 - val_accuracy: 0.0000e+00 - val_loss: 0.6826\n",
      "Epoch 3/50\n",
      "\u001b[1m3/3\u001b[0m \u001b[32m━━━━━━━━━━━━━━━━━━━━\u001b[0m\u001b[37m\u001b[0m \u001b[1m0s\u001b[0m 50ms/step - accuracy: 0.1409 - loss: 0.6689 - val_accuracy: 0.0000e+00 - val_loss: 0.6716\n",
      "Epoch 4/50\n",
      "\u001b[1m3/3\u001b[0m \u001b[32m━━━━━━━━━━━━━━━━━━━━\u001b[0m\u001b[37m\u001b[0m \u001b[1m0s\u001b[0m 58ms/step - accuracy: 0.1503 - loss: 0.6653 - val_accuracy: 0.0000e+00 - val_loss: 0.6611\n",
      "Epoch 5/50\n",
      "\u001b[1m3/3\u001b[0m \u001b[32m━━━━━━━━━━━━━━━━━━━━\u001b[0m\u001b[37m\u001b[0m \u001b[1m0s\u001b[0m 47ms/step - accuracy: 0.0712 - loss: 0.6665 - val_accuracy: 0.0000e+00 - val_loss: 0.6519\n",
      "Epoch 6/50\n",
      "\u001b[1m3/3\u001b[0m \u001b[32m━━━━━━━━━━━━━━━━━━━━\u001b[0m\u001b[37m\u001b[0m \u001b[1m0s\u001b[0m 45ms/step - accuracy: 0.0473 - loss: 0.6394 - val_accuracy: 0.0000e+00 - val_loss: 0.6421\n",
      "Epoch 7/50\n",
      "\u001b[1m3/3\u001b[0m \u001b[32m━━━━━━━━━━━━━━━━━━━━\u001b[0m\u001b[37m\u001b[0m \u001b[1m0s\u001b[0m 54ms/step - accuracy: 0.0657 - loss: 0.6141 - val_accuracy: 0.0000e+00 - val_loss: 0.6318\n",
      "Epoch 8/50\n",
      "\u001b[1m3/3\u001b[0m \u001b[32m━━━━━━━━━━━━━━━━━━━━\u001b[0m\u001b[37m\u001b[0m \u001b[1m0s\u001b[0m 44ms/step - accuracy: 0.0473 - loss: 0.6033 - val_accuracy: 0.0000e+00 - val_loss: 0.6213\n",
      "Epoch 9/50\n",
      "\u001b[1m3/3\u001b[0m \u001b[32m━━━━━━━━━━━━━━━━━━━━\u001b[0m\u001b[37m\u001b[0m \u001b[1m0s\u001b[0m 44ms/step - accuracy: 0.0869 - loss: 0.6353 - val_accuracy: 0.0000e+00 - val_loss: 0.6114\n",
      "Epoch 10/50\n",
      "\u001b[1m3/3\u001b[0m \u001b[32m━━━━━━━━━━━━━━━━━━━━\u001b[0m\u001b[37m\u001b[0m \u001b[1m0s\u001b[0m 39ms/step - accuracy: 0.0791 - loss: 0.5679 - val_accuracy: 0.0000e+00 - val_loss: 0.6010\n",
      "Epoch 11/50\n",
      "\u001b[1m3/3\u001b[0m \u001b[32m━━━━━━━━━━━━━━━━━━━━\u001b[0m\u001b[37m\u001b[0m \u001b[1m0s\u001b[0m 42ms/step - accuracy: 0.0317 - loss: 0.5988 - val_accuracy: 0.0000e+00 - val_loss: 0.5907\n",
      "Epoch 12/50\n",
      "\u001b[1m3/3\u001b[0m \u001b[32m━━━━━━━━━━━━━━━━━━━━\u001b[0m\u001b[37m\u001b[0m \u001b[1m0s\u001b[0m 42ms/step - accuracy: 0.0735 - loss: 0.5424 - val_accuracy: 0.0000e+00 - val_loss: 0.5794\n",
      "Epoch 13/50\n",
      "\u001b[1m3/3\u001b[0m \u001b[32m━━━━━━━━━━━━━━━━━━━━\u001b[0m\u001b[37m\u001b[0m \u001b[1m0s\u001b[0m 48ms/step - accuracy: 0.0473 - loss: 0.5058 - val_accuracy: 0.0000e+00 - val_loss: 0.5674\n",
      "Epoch 14/50\n",
      "\u001b[1m3/3\u001b[0m \u001b[32m━━━━━━━━━━━━━━━━━━━━\u001b[0m\u001b[37m\u001b[0m \u001b[1m0s\u001b[0m 41ms/step - accuracy: 0.0356 - loss: 0.5286 - val_accuracy: 0.0000e+00 - val_loss: 0.5549\n",
      "Epoch 15/50\n",
      "\u001b[1m3/3\u001b[0m \u001b[32m━━━━━━━━━━━━━━━━━━━━\u001b[0m\u001b[37m\u001b[0m \u001b[1m0s\u001b[0m 45ms/step - accuracy: 0.0857 - loss: 0.4808 - val_accuracy: 0.0000e+00 - val_loss: 0.5423\n",
      "Epoch 16/50\n",
      "\u001b[1m3/3\u001b[0m \u001b[32m━━━━━━━━━━━━━━━━━━━━\u001b[0m\u001b[37m\u001b[0m \u001b[1m0s\u001b[0m 54ms/step - accuracy: 0.0473 - loss: 0.4785 - val_accuracy: 0.0000e+00 - val_loss: 0.5293\n",
      "Epoch 17/50\n",
      "\u001b[1m3/3\u001b[0m \u001b[32m━━━━━━━━━━━━━━━━━━━━\u001b[0m\u001b[37m\u001b[0m \u001b[1m0s\u001b[0m 49ms/step - accuracy: 0.0473 - loss: 0.4537 - val_accuracy: 0.0000e+00 - val_loss: 0.5161\n",
      "Epoch 18/50\n",
      "\u001b[1m3/3\u001b[0m \u001b[32m━━━━━━━━━━━━━━━━━━━━\u001b[0m\u001b[37m\u001b[0m \u001b[1m0s\u001b[0m 44ms/step - accuracy: 0.0473 - loss: 0.4802 - val_accuracy: 0.0000e+00 - val_loss: 0.5047\n",
      "Epoch 19/50\n",
      "\u001b[1m3/3\u001b[0m \u001b[32m━━━━━━━━━━━━━━━━━━━━\u001b[0m\u001b[37m\u001b[0m \u001b[1m0s\u001b[0m 42ms/step - accuracy: 0.0000e+00 - loss: 0.3747 - val_accuracy: 0.0000e+00 - val_loss: 0.4930\n",
      "Epoch 20/50\n",
      "\u001b[1m3/3\u001b[0m \u001b[32m━━━━━━━━━━━━━━━━━━━━\u001b[0m\u001b[37m\u001b[0m \u001b[1m0s\u001b[0m 43ms/step - accuracy: 0.0000e+00 - loss: 0.4261 - val_accuracy: 0.0000e+00 - val_loss: 0.4831\n",
      "Epoch 21/50\n",
      "\u001b[1m3/3\u001b[0m \u001b[32m━━━━━━━━━━━━━━━━━━━━\u001b[0m\u001b[37m\u001b[0m \u001b[1m0s\u001b[0m 47ms/step - accuracy: 0.0000e+00 - loss: 0.4173 - val_accuracy: 0.0000e+00 - val_loss: 0.4732\n",
      "Epoch 22/50\n",
      "\u001b[1m3/3\u001b[0m \u001b[32m━━━━━━━━━━━━━━━━━━━━\u001b[0m\u001b[37m\u001b[0m \u001b[1m0s\u001b[0m 53ms/step - accuracy: 0.0000e+00 - loss: 0.3083 - val_accuracy: 0.0000e+00 - val_loss: 0.4636\n",
      "Epoch 23/50\n",
      "\u001b[1m3/3\u001b[0m \u001b[32m━━━━━━━━━━━━━━━━━━━━\u001b[0m\u001b[37m\u001b[0m \u001b[1m0s\u001b[0m 29ms/step - accuracy: 0.0000e+00 - loss: 0.3219 - val_accuracy: 0.0000e+00 - val_loss: 0.4548\n",
      "Epoch 24/50\n",
      "\u001b[1m3/3\u001b[0m \u001b[32m━━━━━━━━━━━━━━━━━━━━\u001b[0m\u001b[37m\u001b[0m \u001b[1m0s\u001b[0m 31ms/step - accuracy: 0.0000e+00 - loss: 0.4984 - val_accuracy: 0.0000e+00 - val_loss: 0.4462\n",
      "Epoch 25/50\n",
      "\u001b[1m3/3\u001b[0m \u001b[32m━━━━━━━━━━━━━━━━━━━━\u001b[0m\u001b[37m\u001b[0m \u001b[1m0s\u001b[0m 43ms/step - accuracy: 0.0000e+00 - loss: 0.2033 - val_accuracy: 0.0000e+00 - val_loss: 0.4375\n",
      "Epoch 26/50\n",
      "\u001b[1m3/3\u001b[0m \u001b[32m━━━━━━━━━━━━━━━━━━━━\u001b[0m\u001b[37m\u001b[0m \u001b[1m0s\u001b[0m 38ms/step - accuracy: 0.0000e+00 - loss: 0.2158 - val_accuracy: 0.0000e+00 - val_loss: 0.4298\n",
      "Epoch 27/50\n",
      "\u001b[1m3/3\u001b[0m \u001b[32m━━━━━━━━━━━━━━━━━━━━\u001b[0m\u001b[37m\u001b[0m \u001b[1m0s\u001b[0m 47ms/step - accuracy: 0.0000e+00 - loss: 0.4488 - val_accuracy: 0.0000e+00 - val_loss: 0.4228\n",
      "Epoch 28/50\n",
      "\u001b[1m3/3\u001b[0m \u001b[32m━━━━━━━━━━━━━━━━━━━━\u001b[0m\u001b[37m\u001b[0m \u001b[1m0s\u001b[0m 46ms/step - accuracy: 0.0000e+00 - loss: 0.3121 - val_accuracy: 0.0000e+00 - val_loss: 0.4166\n",
      "Epoch 29/50\n",
      "\u001b[1m3/3\u001b[0m \u001b[32m━━━━━━━━━━━━━━━━━━━━\u001b[0m\u001b[37m\u001b[0m \u001b[1m0s\u001b[0m 52ms/step - accuracy: 0.0000e+00 - loss: 0.1233 - val_accuracy: 0.0000e+00 - val_loss: 0.4111\n",
      "Epoch 30/50\n",
      "\u001b[1m3/3\u001b[0m \u001b[32m━━━━━━━━━━━━━━━━━━━━\u001b[0m\u001b[37m\u001b[0m \u001b[1m0s\u001b[0m 52ms/step - accuracy: 0.0000e+00 - loss: 0.1572 - val_accuracy: 0.0000e+00 - val_loss: 0.4069\n",
      "Epoch 31/50\n",
      "\u001b[1m3/3\u001b[0m \u001b[32m━━━━━━━━━━━━━━━━━━━━\u001b[0m\u001b[37m\u001b[0m \u001b[1m0s\u001b[0m 53ms/step - accuracy: 0.0000e+00 - loss: 0.1073 - val_accuracy: 0.0000e+00 - val_loss: 0.4024\n",
      "Epoch 32/50\n",
      "\u001b[1m3/3\u001b[0m \u001b[32m━━━━━━━━━━━━━━━━━━━━\u001b[0m\u001b[37m\u001b[0m \u001b[1m0s\u001b[0m 46ms/step - accuracy: 0.0000e+00 - loss: 0.1553 - val_accuracy: 0.0000e+00 - val_loss: 0.3984\n",
      "Epoch 33/50\n",
      "\u001b[1m3/3\u001b[0m \u001b[32m━━━━━━━━━━━━━━━━━━━━\u001b[0m\u001b[37m\u001b[0m \u001b[1m0s\u001b[0m 43ms/step - accuracy: 0.0000e+00 - loss: 0.2135 - val_accuracy: 0.0000e+00 - val_loss: 0.3949\n",
      "Epoch 34/50\n",
      "\u001b[1m3/3\u001b[0m \u001b[32m━━━━━━━━━━━━━━━━━━━━\u001b[0m\u001b[37m\u001b[0m \u001b[1m0s\u001b[0m 41ms/step - accuracy: 0.0000e+00 - loss: 0.4106 - val_accuracy: 0.0000e+00 - val_loss: 0.3926\n",
      "Epoch 35/50\n",
      "\u001b[1m3/3\u001b[0m \u001b[32m━━━━━━━━━━━━━━━━━━━━\u001b[0m\u001b[37m\u001b[0m \u001b[1m0s\u001b[0m 37ms/step - accuracy: 0.0000e+00 - loss: 0.2340 - val_accuracy: 0.0000e+00 - val_loss: 0.3903\n",
      "Epoch 36/50\n",
      "\u001b[1m3/3\u001b[0m \u001b[32m━━━━━━━━━━━━━━━━━━━━\u001b[0m\u001b[37m\u001b[0m \u001b[1m0s\u001b[0m 51ms/step - accuracy: 0.0000e+00 - loss: 0.1816 - val_accuracy: 0.0000e+00 - val_loss: 0.3889\n",
      "Epoch 37/50\n",
      "\u001b[1m3/3\u001b[0m \u001b[32m━━━━━━━━━━━━━━━━━━━━\u001b[0m\u001b[37m\u001b[0m \u001b[1m0s\u001b[0m 53ms/step - accuracy: 0.0000e+00 - loss: 0.0990 - val_accuracy: 0.0000e+00 - val_loss: 0.3880\n",
      "Epoch 38/50\n",
      "\u001b[1m3/3\u001b[0m \u001b[32m━━━━━━━━━━━━━━━━━━━━\u001b[0m\u001b[37m\u001b[0m \u001b[1m0s\u001b[0m 53ms/step - accuracy: 0.0000e+00 - loss: -0.1170 - val_accuracy: 0.0000e+00 - val_loss: 0.3883\n",
      "Epoch 39/50\n",
      "\u001b[1m3/3\u001b[0m \u001b[32m━━━━━━━━━━━━━━━━━━━━\u001b[0m\u001b[37m\u001b[0m \u001b[1m0s\u001b[0m 48ms/step - accuracy: 0.0000e+00 - loss: 0.0098 - val_accuracy: 0.0000e+00 - val_loss: 0.3884\n",
      "Epoch 40/50\n",
      "\u001b[1m3/3\u001b[0m \u001b[32m━━━━━━━━━━━━━━━━━━━━\u001b[0m\u001b[37m\u001b[0m \u001b[1m0s\u001b[0m 56ms/step - accuracy: 0.0000e+00 - loss: -0.1643 - val_accuracy: 0.0000e+00 - val_loss: 0.3889\n",
      "Epoch 41/50\n",
      "\u001b[1m3/3\u001b[0m \u001b[32m━━━━━━━━━━━━━━━━━━━━\u001b[0m\u001b[37m\u001b[0m \u001b[1m0s\u001b[0m 46ms/step - accuracy: 0.0000e+00 - loss: 0.2246 - val_accuracy: 0.0000e+00 - val_loss: 0.3892\n",
      "Epoch 42/50\n",
      "\u001b[1m3/3\u001b[0m \u001b[32m━━━━━━━━━━━━━━━━━━━━\u001b[0m\u001b[37m\u001b[0m \u001b[1m0s\u001b[0m 40ms/step - accuracy: 0.0000e+00 - loss: 0.3114 - val_accuracy: 0.0000e+00 - val_loss: 0.3901\n",
      "Epoch 43/50\n",
      "\u001b[1m3/3\u001b[0m \u001b[32m━━━━━━━━━━━━━━━━━━━━\u001b[0m\u001b[37m\u001b[0m \u001b[1m0s\u001b[0m 53ms/step - accuracy: 0.0000e+00 - loss: 0.4193 - val_accuracy: 0.0000e+00 - val_loss: 0.3918\n",
      "Epoch 44/50\n",
      "\u001b[1m3/3\u001b[0m \u001b[32m━━━━━━━━━━━━━━━━━━━━\u001b[0m\u001b[37m\u001b[0m \u001b[1m0s\u001b[0m 46ms/step - accuracy: 0.0000e+00 - loss: 0.1650 - val_accuracy: 0.0000e+00 - val_loss: 0.3936\n",
      "Epoch 45/50\n",
      "\u001b[1m3/3\u001b[0m \u001b[32m━━━━━━━━━━━━━━━━━━━━\u001b[0m\u001b[37m\u001b[0m \u001b[1m0s\u001b[0m 51ms/step - accuracy: 0.0000e+00 - loss: -0.2432 - val_accuracy: 0.0000e+00 - val_loss: 0.3961\n",
      "Epoch 46/50\n",
      "\u001b[1m3/3\u001b[0m \u001b[32m━━━━━━━━━━━━━━━━━━━━\u001b[0m\u001b[37m\u001b[0m \u001b[1m0s\u001b[0m 54ms/step - accuracy: 0.0000e+00 - loss: -0.1561 - val_accuracy: 0.0000e+00 - val_loss: 0.3982\n",
      "Epoch 47/50\n",
      "\u001b[1m3/3\u001b[0m \u001b[32m━━━━━━━━━━━━━━━━━━━━\u001b[0m\u001b[37m\u001b[0m \u001b[1m0s\u001b[0m 57ms/step - accuracy: 0.0000e+00 - loss: 0.0681 - val_accuracy: 0.0000e+00 - val_loss: 0.4001\n",
      "Epoch 48/50\n",
      "\u001b[1m3/3\u001b[0m \u001b[32m━━━━━━━━━━━━━━━━━━━━\u001b[0m\u001b[37m\u001b[0m \u001b[1m0s\u001b[0m 31ms/step - accuracy: 0.0000e+00 - loss: 0.3533 - val_accuracy: 0.0000e+00 - val_loss: 0.4022\n",
      "Epoch 49/50\n",
      "\u001b[1m3/3\u001b[0m \u001b[32m━━━━━━━━━━━━━━━━━━━━\u001b[0m\u001b[37m\u001b[0m \u001b[1m0s\u001b[0m 27ms/step - accuracy: 0.0000e+00 - loss: 0.3053 - val_accuracy: 0.0000e+00 - val_loss: 0.4037\n",
      "Epoch 50/50\n",
      "\u001b[1m3/3\u001b[0m \u001b[32m━━━━━━━━━━━━━━━━━━━━\u001b[0m\u001b[37m\u001b[0m \u001b[1m0s\u001b[0m 39ms/step - accuracy: 0.0000e+00 - loss: -0.1833 - val_accuracy: 0.0000e+00 - val_loss: 0.4050\n"
     ]
    }
   ],
   "source": [
    "from tensorflow.keras.models import Model\n",
    "from tensorflow.keras.layers import Input, MultiHeadAttention, Flatten, Dense, Dropout\n",
    "from tensorflow.keras.optimizers import Adam\n",
    "\n",
    "# Define the input shape based on the number of features (4 in the Iris dataset)\n",
    "input_layer = Input(shape=(X_train.shape[1], 1))\n",
    "\n",
    "# Multi-head self-attention layer\n",
    "attention_output = MultiHeadAttention(num_heads=2, key_dim=2)(input_layer, input_layer)\n",
    "\n",
    "# Flatten or reshape to prepare for dense layers\n",
    "flatten_layer = Flatten()(attention_output)\n",
    "\n",
    "# Additional dense layers for better representation\n",
    "dense_layer1 = Dense(32, activation='relu')(flatten_layer)\n",
    "dense_layer2 = Dense(16, activation='relu')(dense_layer1)\n",
    "dropout_layer = Dropout(0.5)(dense_layer2)\n",
    "\n",
    "# Output layer for binary classification\n",
    "output_layer = Dense(1, activation='sigmoid')(dropout_layer)\n",
    "\n",
    "# Create the model\n",
    "model = Model(inputs=input_layer, outputs=output_layer)\n",
    "\n",
    "# Compile the model with reduced learning rate\n",
    "optimizer = Adam(learning_rate=0.001)\n",
    "model.compile(optimizer=optimizer, loss='binary_crossentropy', metrics=['accuracy'])\n",
    "model.summary()\n",
    "\n",
    "# Train the model with more epochs\n",
    "history = model.fit(feats_train, Y_train, epochs=50, validation_data=(feats_val, Y_val))\n"
   ]
  },
  {
   "cell_type": "code",
   "execution_count": 41,
   "id": "24b11ab6",
   "metadata": {},
   "outputs": [
    {
     "data": {
      "image/png": "[encoded data removed]",
      "text/plain": [
       "<Figure size 1200x400 with 2 Axes>"
      ]
     },
     "metadata": {},
     "output_type": "display_data"
    }
   ],
   "source": [
    "import matplotlib.pyplot as plt\n",
    "\n",
    "# Plotting accuracy\n",
    "plt.figure(figsize=(12, 4))\n",
    "\n",
    "plt.subplot(1, 2, 1)\n",
    "plt.plot(history.history['accuracy'], label='Train Accuracy')\n",
    "plt.plot(history.history['val_accuracy'], label='Val Accuracy')\n",
    "plt.xlabel('Epochs')\n",
    "plt.ylabel('Accuracy')\n",
    "plt.title('Accuracy Over Epochs')\n",
    "plt.legend()\n",
    "\n",
    "# Plotting loss\n",
    "plt.subplot(1, 2, 2)\n",
    "plt.plot(history.history['loss'], label='Train Loss')\n",
    "plt.plot(history.history['val_loss'], label='Val Loss')\n",
    "plt.xlabel('Epochs')\n",
    "plt.ylabel('Loss')\n",
    "plt.title('Loss Over Epochs')\n",
    "plt.legend()\n",
    "\n",
    "plt.show()\n"
   ]
  },
  {
   "cell_type": "code",
   "execution_count": null,
   "id": "5fa3b871",
   "metadata": {},
   "outputs": [],
   "source": []
  },
  {
   "cell_type": "code",
   "execution_count": null,
   "id": "0ab5be0c",
   "metadata": {},
   "outputs": [],
   "source": []
  },
  {
   "cell_type": "code",
   "execution_count": 37,
   "id": "0900c554-85c1-4522-b4b2-e3a41e575e4e",
   "metadata": {
    "tags": []
   },
   "outputs": [],
   "source": [
    "l=[0]\n",
    "l+=acc_train_list\n",
    "l2=[0]\n",
    "l2+=acc_val_list"
   ]
  },
  {
   "cell_type": "code",
   "execution_count": 38,
   "id": "7c13eaf7-0f1d-42f5-a466-e2597b1f88f4",
   "metadata": {},
   "outputs": [
    {
     "data": {
      "image/png": "[encoded data removed]",
      "text/plain": [
       "<Figure size 640x480 with 1 Axes>"
      ]
     },
     "metadata": {},
     "output_type": "display_data"
    },
    {
     "data": {
      "image/png": "[encoded data removed]",
      "text/plain": [
       "<Figure size 640x480 with 1 Axes>"
      ]
     },
     "metadata": {},
     "output_type": "display_data"
    }
   ],
   "source": [
    "import matplotlib.pyplot as plt\n",
    "\n",
    "# summarize history for accuracy\n",
    "plt.plot(l[:1000])\n",
    "plt.plot(l2[:1000])\n",
    "plt.title('model accuracy')\n",
    "plt.ylabel('accuracy')\n",
    "plt.xlabel('epoch')\n",
    "plt.legend(['Train', 'Validation'])\n",
    "plt.show()\n",
    "# summarize history for loss\n",
    "plt.plot(cost_list)\n",
    "#plt.plot(acc_val_list)\n",
    "plt.title('model loss')\n",
    "plt.ylabel('loss')\n",
    "plt.xlabel('epoch')\n",
    "plt.legend(['Train', 'Validation'])\n",
    "plt.show()"
   ]
  },
  {
   "cell_type": "code",
   "execution_count": null,
   "id": "02400946-5dff-43b7-b1b1-b38d16310de7",
   "metadata": {},
   "outputs": [],
   "source": []
  }
 ],
 "metadata": {
  "kernelspec": {
   "display_name": "Python 3 [Default]",
   "language": "python",
   "name": "python3"
  },
  "language_info": {
   "codemirror_mode": {
    "name": "ipython",
    "version": 3
   },
   "file_extension": ".py",
   "mimetype": "text/x-python",
   "name": "python",
   "nbconvert_exporter": "python",
   "pygments_lexer": "ipython3",
   "version": "3.11.3"
  }
 },
 "nbformat": 4,
 "nbformat_minor": 5
}
